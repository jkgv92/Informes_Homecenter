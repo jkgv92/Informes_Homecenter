{
 "cells": [
  {
   "cell_type": "markdown",
   "metadata": {},
   "source": [
    "# Líneas base de las sedes"
   ]
  },
  {
   "cell_type": "code",
   "execution_count": 1,
   "metadata": {
    "tags": [
     "remove-cell"
    ]
   },
   "outputs": [],
   "source": [
    "# device = 'K0303'\n",
    "# active_power_variable = 'active_power'\n",
    "path_base_r_string = r'D:\\OneDrive - CELSIA S.A E.S.P'\n",
    "\n",
    "%load_ext autoreload\n",
    "%autoreload 2\n",
    "import warnings\n",
    "# warnings.filterwarnings(\"ignore\")"
   ]
  },
  {
   "cell_type": "code",
   "execution_count": 2,
   "metadata": {
    "tags": [
     "remove-cell"
    ]
   },
   "outputs": [],
   "source": [
    "# this cell enables project path relative imports\n",
    "import sys\n",
    "from pathlib import Path\n",
    "path_base = Path(path_base_r_string)\n",
    "project_path = path_base / 'Proyectos' / 'Eficiencia_Energetica' / 'Homecenter' / 'Informe_01'\n",
    "sys.path.append(str(project_path))"
   ]
  },
  {
   "cell_type": "code",
   "execution_count": 3,
   "metadata": {
    "tags": [
     "remove-cell"
    ]
   },
   "outputs": [],
   "source": [
    "# import all your modules here\n",
    "import json\n",
    "import pandas as pd\n",
    "import numpy as np\n",
    "\n",
    "from matplotlib import pyplot as plt\n",
    "\n",
    "import config as cfg\n",
    "\n",
    "from library_ubidots_v2 import Ubidots as ubi\n",
    "from library_report_v2 import Cleaning as cln\n",
    "from library_report_v2 import Graphing as grp\n",
    "from library_report_v2 import Processing as pro\n"
   ]
  },
  {
   "cell_type": "code",
   "execution_count": 4,
   "metadata": {
    "tags": [
     "remove-cell"
    ]
   },
   "outputs": [],
   "source": [
    "df = pd.read_pickle(project_path / \"dataframe.pkl\")\n",
    "df_tag_aa_ilu = pd.read_excel(project_path / \"ubidots_device_map.xlsx\", sheet_name='AA-ILU')\n",
    "\n",
    "# for some reason 'value' dtypes aren't consistent...\n",
    "df['value'] = pd.to_numeric(df['value'], errors='coerce')\n",
    "\n",
    "# merge both tables\n",
    "df = (\n",
    "    pd.merge(\n",
    "        df.reset_index(),\n",
    "        df_tag_aa_ilu,\n",
    "        how='inner'\n",
    "    )\n",
    "    .set_index('datetime')\n",
    ") "
   ]
  },
  {
   "cell_type": "code",
   "execution_count": 5,
   "metadata": {
    "tags": [
     "remove-cell"
    ]
   },
   "outputs": [],
   "source": [
    "dates_to_remove = {\n",
    "    \n",
    "    'cali-norte---torre-de-enfriamiento':[\n",
    "        ['2022-01-01','2022-05-25']\n",
    "    ],\n",
    "    'cali-sur---aires-acondicionados':[\n",
    "        ['2022-01-01','2022-05-25']\n",
    "    ],\n",
    "    'cedritos---iluminacion-patio-constructor':[\n",
    "        ['2022-01-01','2022-05-20']\n",
    "    ],\n",
    "    \n",
    "    'cali-norte---iluminacion-parqueaderos-2':[\n",
    "        ['2022-01-01','2022-04-30']\n",
    "    ],\n",
    "    'cali-norte---iluminacion-principal-2':[\n",
    "        ['2022-01-01','2022-05-25']\n",
    "    ],\n",
    "    'iluminacion---primer-piso':[ # cedritos\n",
    "        ['2022-01-01','2022-12-30']\n",
    "    ],\n",
    "    'cedritos-iluminacion-principal':[\n",
    "        ['2022-05-15','2022-12-30']\n",
    "    ],\n",
    "    'bello---iluminacion-patio-constructor':[\n",
    "        ['2022-01-01','2022-05-25']\n",
    "    ],\n",
    "    'tintal---iluminacion-parqueaderos':[\n",
    "        ['2022-01-01','2022-06-20']\n",
    "    ],\n",
    "    'baq---aire-acondicionado-piso-ventas':[\n",
    "        ['2022-01-01','2022-05-20']\n",
    "    ],\n",
    "}\n",
    "\n",
    "energy_var_rename = {\n",
    "    'ener':'energia-activa-acumulada',\n",
    "    'energia-activa':'energia-activa',\n",
    "    'energia-activa-acumulada':'energia-activa-acumulada',\n",
    "    'energia-activa-calculada':'energia-activa'\n",
    "}"
   ]
  },
  {
   "cell_type": "code",
   "execution_count": 6,
   "metadata": {
    "tags": [
     "remove-cell"
    ]
   },
   "outputs": [],
   "source": [
    "# get (unified) cummulative energy from consumption\n",
    "df_cons = df.query('variable == \"energia-activa\"').copy()\n",
    "df_ea = cln.recover_energy_from_consumption(df_cons, new_varname='energia-activa-acumulada')\n",
    "\n",
    "# get power from energy\n",
    "df_pa_synth = cln.differentiate_single_variable(df_ea, 'potencia-activa-sintetica', remove_gap_data=True)\n",
    "\n",
    "# clean power data\n",
    "df_pa_synth = cln.remove_outliers_by_zscore(df_pa_synth, zscore=5)\n",
    "df_pa_synth = cln.subset_discard_date_intervals(df_pa_synth, dates_to_remove)\n",
    "df_pa_synth = pro.datetime_attributes(df_pa_synth)\n",
    "df_pa_synth = df_pa_synth.query(\"value >= 0\")"
   ]
  },
  {
   "cell_type": "code",
   "execution_count": 7,
   "metadata": {},
   "outputs": [
    {
     "data": {
      "text/html": [
       "<div>\n",
       "<style scoped>\n",
       "    .dataframe tbody tr th:only-of-type {\n",
       "        vertical-align: middle;\n",
       "    }\n",
       "\n",
       "    .dataframe tbody tr th {\n",
       "        vertical-align: top;\n",
       "    }\n",
       "\n",
       "    .dataframe thead th {\n",
       "        text-align: right;\n",
       "    }\n",
       "</style>\n",
       "<table border=\"1\" class=\"dataframe\">\n",
       "  <thead>\n",
       "    <tr style=\"text-align: right;\">\n",
       "      <th></th>\n",
       "      <th>value</th>\n",
       "      <th>variable</th>\n",
       "      <th>device</th>\n",
       "      <th>device_name</th>\n",
       "      <th>type</th>\n",
       "      <th>office_label</th>\n",
       "      <th>hour</th>\n",
       "      <th>day</th>\n",
       "      <th>dow</th>\n",
       "      <th>cont_dow</th>\n",
       "      <th>week</th>\n",
       "      <th>month</th>\n",
       "      <th>year</th>\n",
       "    </tr>\n",
       "    <tr>\n",
       "      <th>datetime</th>\n",
       "      <th></th>\n",
       "      <th></th>\n",
       "      <th></th>\n",
       "      <th></th>\n",
       "      <th></th>\n",
       "      <th></th>\n",
       "      <th></th>\n",
       "      <th></th>\n",
       "      <th></th>\n",
       "      <th></th>\n",
       "      <th></th>\n",
       "      <th></th>\n",
       "      <th></th>\n",
       "    </tr>\n",
       "  </thead>\n",
       "  <tbody>\n",
       "    <tr>\n",
       "      <th>2022-04-01 01:00:00-05:00</th>\n",
       "      <td>1.68</td>\n",
       "      <td>potencia-activa-sintetica</td>\n",
       "      <td>bello-mini-splits</td>\n",
       "      <td>Bello - Mini Splits</td>\n",
       "      <td>AA</td>\n",
       "      <td>hc-bello</td>\n",
       "      <td>1</td>\n",
       "      <td>1</td>\n",
       "      <td>viernes</td>\n",
       "      <td>4.041667</td>\n",
       "      <td>13</td>\n",
       "      <td>4</td>\n",
       "      <td>2022</td>\n",
       "    </tr>\n",
       "    <tr>\n",
       "      <th>2022-04-01 02:00:00-05:00</th>\n",
       "      <td>1.65</td>\n",
       "      <td>potencia-activa-sintetica</td>\n",
       "      <td>bello-mini-splits</td>\n",
       "      <td>Bello - Mini Splits</td>\n",
       "      <td>AA</td>\n",
       "      <td>hc-bello</td>\n",
       "      <td>2</td>\n",
       "      <td>1</td>\n",
       "      <td>viernes</td>\n",
       "      <td>4.083333</td>\n",
       "      <td>13</td>\n",
       "      <td>4</td>\n",
       "      <td>2022</td>\n",
       "    </tr>\n",
       "    <tr>\n",
       "      <th>2022-04-01 03:00:00-05:00</th>\n",
       "      <td>1.69</td>\n",
       "      <td>potencia-activa-sintetica</td>\n",
       "      <td>bello-mini-splits</td>\n",
       "      <td>Bello - Mini Splits</td>\n",
       "      <td>AA</td>\n",
       "      <td>hc-bello</td>\n",
       "      <td>3</td>\n",
       "      <td>1</td>\n",
       "      <td>viernes</td>\n",
       "      <td>4.125000</td>\n",
       "      <td>13</td>\n",
       "      <td>4</td>\n",
       "      <td>2022</td>\n",
       "    </tr>\n",
       "    <tr>\n",
       "      <th>2022-04-01 04:00:00-05:00</th>\n",
       "      <td>1.69</td>\n",
       "      <td>potencia-activa-sintetica</td>\n",
       "      <td>bello-mini-splits</td>\n",
       "      <td>Bello - Mini Splits</td>\n",
       "      <td>AA</td>\n",
       "      <td>hc-bello</td>\n",
       "      <td>4</td>\n",
       "      <td>1</td>\n",
       "      <td>viernes</td>\n",
       "      <td>4.166667</td>\n",
       "      <td>13</td>\n",
       "      <td>4</td>\n",
       "      <td>2022</td>\n",
       "    </tr>\n",
       "    <tr>\n",
       "      <th>2022-04-01 05:00:00-05:00</th>\n",
       "      <td>1.69</td>\n",
       "      <td>potencia-activa-sintetica</td>\n",
       "      <td>bello-mini-splits</td>\n",
       "      <td>Bello - Mini Splits</td>\n",
       "      <td>AA</td>\n",
       "      <td>hc-bello</td>\n",
       "      <td>5</td>\n",
       "      <td>1</td>\n",
       "      <td>viernes</td>\n",
       "      <td>4.208333</td>\n",
       "      <td>13</td>\n",
       "      <td>4</td>\n",
       "      <td>2022</td>\n",
       "    </tr>\n",
       "    <tr>\n",
       "      <th>...</th>\n",
       "      <td>...</td>\n",
       "      <td>...</td>\n",
       "      <td>...</td>\n",
       "      <td>...</td>\n",
       "      <td>...</td>\n",
       "      <td>...</td>\n",
       "      <td>...</td>\n",
       "      <td>...</td>\n",
       "      <td>...</td>\n",
       "      <td>...</td>\n",
       "      <td>...</td>\n",
       "      <td>...</td>\n",
       "      <td>...</td>\n",
       "    </tr>\n",
       "    <tr>\n",
       "      <th>2022-10-27 01:00:00-05:00</th>\n",
       "      <td>2.64</td>\n",
       "      <td>potencia-activa-sintetica</td>\n",
       "      <td>cedritos---iluminacion-sotanos</td>\n",
       "      <td>Cedritos - Iluminación Sótanos</td>\n",
       "      <td>ILU</td>\n",
       "      <td>cedritos</td>\n",
       "      <td>1</td>\n",
       "      <td>27</td>\n",
       "      <td>jueves</td>\n",
       "      <td>3.041667</td>\n",
       "      <td>43</td>\n",
       "      <td>10</td>\n",
       "      <td>2022</td>\n",
       "    </tr>\n",
       "    <tr>\n",
       "      <th>2022-10-27 02:00:00-05:00</th>\n",
       "      <td>3.56</td>\n",
       "      <td>potencia-activa-sintetica</td>\n",
       "      <td>cedritos---iluminacion-sotanos</td>\n",
       "      <td>Cedritos - Iluminación Sótanos</td>\n",
       "      <td>ILU</td>\n",
       "      <td>cedritos</td>\n",
       "      <td>2</td>\n",
       "      <td>27</td>\n",
       "      <td>jueves</td>\n",
       "      <td>3.083333</td>\n",
       "      <td>43</td>\n",
       "      <td>10</td>\n",
       "      <td>2022</td>\n",
       "    </tr>\n",
       "    <tr>\n",
       "      <th>2022-10-27 05:00:00-05:00</th>\n",
       "      <td>3.51</td>\n",
       "      <td>potencia-activa-sintetica</td>\n",
       "      <td>cedritos---iluminacion-sotanos</td>\n",
       "      <td>Cedritos - Iluminación Sótanos</td>\n",
       "      <td>ILU</td>\n",
       "      <td>cedritos</td>\n",
       "      <td>5</td>\n",
       "      <td>27</td>\n",
       "      <td>jueves</td>\n",
       "      <td>3.208333</td>\n",
       "      <td>43</td>\n",
       "      <td>10</td>\n",
       "      <td>2022</td>\n",
       "    </tr>\n",
       "    <tr>\n",
       "      <th>2022-10-27 06:00:00-05:00</th>\n",
       "      <td>5.39</td>\n",
       "      <td>potencia-activa-sintetica</td>\n",
       "      <td>cedritos---iluminacion-sotanos</td>\n",
       "      <td>Cedritos - Iluminación Sótanos</td>\n",
       "      <td>ILU</td>\n",
       "      <td>cedritos</td>\n",
       "      <td>6</td>\n",
       "      <td>27</td>\n",
       "      <td>jueves</td>\n",
       "      <td>3.250000</td>\n",
       "      <td>43</td>\n",
       "      <td>10</td>\n",
       "      <td>2022</td>\n",
       "    </tr>\n",
       "    <tr>\n",
       "      <th>2022-10-27 09:00:00-05:00</th>\n",
       "      <td>8.10</td>\n",
       "      <td>potencia-activa-sintetica</td>\n",
       "      <td>cedritos---iluminacion-sotanos</td>\n",
       "      <td>Cedritos - Iluminación Sótanos</td>\n",
       "      <td>ILU</td>\n",
       "      <td>cedritos</td>\n",
       "      <td>9</td>\n",
       "      <td>27</td>\n",
       "      <td>jueves</td>\n",
       "      <td>3.375000</td>\n",
       "      <td>43</td>\n",
       "      <td>10</td>\n",
       "      <td>2022</td>\n",
       "    </tr>\n",
       "  </tbody>\n",
       "</table>\n",
       "<p>163035 rows × 13 columns</p>\n",
       "</div>"
      ],
      "text/plain": [
       "                           value                   variable  \\\n",
       "datetime                                                      \n",
       "2022-04-01 01:00:00-05:00   1.68  potencia-activa-sintetica   \n",
       "2022-04-01 02:00:00-05:00   1.65  potencia-activa-sintetica   \n",
       "2022-04-01 03:00:00-05:00   1.69  potencia-activa-sintetica   \n",
       "2022-04-01 04:00:00-05:00   1.69  potencia-activa-sintetica   \n",
       "2022-04-01 05:00:00-05:00   1.69  potencia-activa-sintetica   \n",
       "...                          ...                        ...   \n",
       "2022-10-27 01:00:00-05:00   2.64  potencia-activa-sintetica   \n",
       "2022-10-27 02:00:00-05:00   3.56  potencia-activa-sintetica   \n",
       "2022-10-27 05:00:00-05:00   3.51  potencia-activa-sintetica   \n",
       "2022-10-27 06:00:00-05:00   5.39  potencia-activa-sintetica   \n",
       "2022-10-27 09:00:00-05:00   8.10  potencia-activa-sintetica   \n",
       "\n",
       "                                                   device  \\\n",
       "datetime                                                    \n",
       "2022-04-01 01:00:00-05:00               bello-mini-splits   \n",
       "2022-04-01 02:00:00-05:00               bello-mini-splits   \n",
       "2022-04-01 03:00:00-05:00               bello-mini-splits   \n",
       "2022-04-01 04:00:00-05:00               bello-mini-splits   \n",
       "2022-04-01 05:00:00-05:00               bello-mini-splits   \n",
       "...                                                   ...   \n",
       "2022-10-27 01:00:00-05:00  cedritos---iluminacion-sotanos   \n",
       "2022-10-27 02:00:00-05:00  cedritos---iluminacion-sotanos   \n",
       "2022-10-27 05:00:00-05:00  cedritos---iluminacion-sotanos   \n",
       "2022-10-27 06:00:00-05:00  cedritos---iluminacion-sotanos   \n",
       "2022-10-27 09:00:00-05:00  cedritos---iluminacion-sotanos   \n",
       "\n",
       "                                              device_name type office_label  \\\n",
       "datetime                                                                      \n",
       "2022-04-01 01:00:00-05:00             Bello - Mini Splits   AA     hc-bello   \n",
       "2022-04-01 02:00:00-05:00             Bello - Mini Splits   AA     hc-bello   \n",
       "2022-04-01 03:00:00-05:00             Bello - Mini Splits   AA     hc-bello   \n",
       "2022-04-01 04:00:00-05:00             Bello - Mini Splits   AA     hc-bello   \n",
       "2022-04-01 05:00:00-05:00             Bello - Mini Splits   AA     hc-bello   \n",
       "...                                                   ...  ...          ...   \n",
       "2022-10-27 01:00:00-05:00  Cedritos - Iluminación Sótanos  ILU     cedritos   \n",
       "2022-10-27 02:00:00-05:00  Cedritos - Iluminación Sótanos  ILU     cedritos   \n",
       "2022-10-27 05:00:00-05:00  Cedritos - Iluminación Sótanos  ILU     cedritos   \n",
       "2022-10-27 06:00:00-05:00  Cedritos - Iluminación Sótanos  ILU     cedritos   \n",
       "2022-10-27 09:00:00-05:00  Cedritos - Iluminación Sótanos  ILU     cedritos   \n",
       "\n",
       "                           hour  day      dow  cont_dow  week  month  year  \n",
       "datetime                                                                    \n",
       "2022-04-01 01:00:00-05:00     1    1  viernes  4.041667    13      4  2022  \n",
       "2022-04-01 02:00:00-05:00     2    1  viernes  4.083333    13      4  2022  \n",
       "2022-04-01 03:00:00-05:00     3    1  viernes  4.125000    13      4  2022  \n",
       "2022-04-01 04:00:00-05:00     4    1  viernes  4.166667    13      4  2022  \n",
       "2022-04-01 05:00:00-05:00     5    1  viernes  4.208333    13      4  2022  \n",
       "...                         ...  ...      ...       ...   ...    ...   ...  \n",
       "2022-10-27 01:00:00-05:00     1   27   jueves  3.041667    43     10  2022  \n",
       "2022-10-27 02:00:00-05:00     2   27   jueves  3.083333    43     10  2022  \n",
       "2022-10-27 05:00:00-05:00     5   27   jueves  3.208333    43     10  2022  \n",
       "2022-10-27 06:00:00-05:00     6   27   jueves  3.250000    43     10  2022  \n",
       "2022-10-27 09:00:00-05:00     9   27   jueves  3.375000    43     10  2022  \n",
       "\n",
       "[163035 rows x 13 columns]"
      ]
     },
     "execution_count": 7,
     "metadata": {},
     "output_type": "execute_result"
    }
   ],
   "source": [
    "df_pa_synth"
   ]
  },
  {
   "cell_type": "markdown",
   "metadata": {},
   "source": [
    "## Resultados:\n",
    "\n",
    "<!-- Plotly curva horaria por circuito en la sede:\n",
    "- Para AA\n",
    "- Para Iluminación\n",
    "- Para el total\n",
    "\n",
    "Curva de KPI (kWh/m^2/año) por sede\n",
    "\n",
    "Series de tiempo de consumos mensuales (bar plot)\n",
    "\n",
    "Figura de consumo energético por tipo de día de la semana\n",
    "\n",
    "\n",
    "\n",
    "Bell y San Juan dejan la iluminación prendida -->\n"
   ]
  },
  {
   "cell_type": "code",
   "execution_count": null,
   "metadata": {
    "tags": [
     "remove-cell"
    ]
   },
   "outputs": [],
   "source": [
    "def office_cell_function(df_office, office_name):\n",
    "\n",
    "    df_day_by_hour = (\n",
    "        df_office\n",
    "        .reset_index()\n",
    "        .groupby(['office_label','type','device_name','hour'])['value']\n",
    "        .agg(['median','mean','std','min',pro.q_low,pro.q_high,'max','count'])\n",
    "        .reset_index()\n",
    "    )\n",
    "\n",
    "    df_week_by_day = (\n",
    "        df_office\n",
    "        .reset_index()\n",
    "        .groupby(['office_label','type','device_name','cont_dow'])['value']\n",
    "        .agg(['median','mean','std','min',pro.q_low,pro.q_high,'max','count'])\n",
    "        .reset_index()\n",
    "    )\n",
    "\n",
    "    grp.plot_typical_day_by_hour(\n",
    "        df_day_by_hour.query(\"type == 'AA'\"), \n",
    "        subset='device_name', \n",
    "        title=f\"Día típico para los equipos de climatización en la sede de {office_name}\", \n",
    "        legend=True, \n",
    "        include_ci=True, \n",
    "        fill_ci=True\n",
    "    )\n",
    "\n",
    "    grp.plot_typical_day_by_hour(\n",
    "        df_day_by_hour.query(\"type == 'ILU'\"), \n",
    "        subset='device_name', \n",
    "        title=f\"Día típico para la iluminación en la sede de {office_name}\", \n",
    "        legend=True, \n",
    "        include_ci=True, \n",
    "        fill_ci=True\n",
    "    )\n",
    "    \n",
    "    grp.plot_typical_week_by_day(\n",
    "        df_week_by_day.query(\"type == 'AA'\"),\n",
    "        subset='device_name',  \n",
    "        title=f\"Semana típica para los equipos de climatización en la sede de {office_name}\",\n",
    "        legend=True, \n",
    "        include_ci=True, \n",
    "        fill_ci=True\n",
    "    )\n",
    "\n",
    "    grp.plot_typical_week_by_day(\n",
    "        df_week_by_day.query(\"type == 'ILU'\"),\n",
    "        subset='device_name',  \n",
    "        title=f\"Semana típica para la iluminación en la sede de {office_name}\",\n",
    "        legend=True, \n",
    "        include_ci=True, \n",
    "        fill_ci=True\n",
    "    )"
   ]
  },
  {
   "cell_type": "markdown",
   "metadata": {},
   "source": [
    "### Barranquilla"
   ]
  },
  {
   "cell_type": "code",
   "execution_count": null,
   "metadata": {
    "tags": [
     "remove-input"
    ]
   },
   "outputs": [],
   "source": [
    "office_name = 'Barranquilla'\n",
    "office_label = 'hc-baq'\n",
    "df_office = df_pa_synth.query(\"office_label == @office_label\")\n",
    "office_cell_function(df_office, office_name)"
   ]
  },
  {
   "cell_type": "markdown",
   "metadata": {},
   "source": [
    "### Bello"
   ]
  },
  {
   "cell_type": "code",
   "execution_count": null,
   "metadata": {
    "tags": [
     "remove-input"
    ]
   },
   "outputs": [],
   "source": [
    "office_name = 'Bello'\n",
    "office_label = 'hc-bello'\n",
    "df_office = df_pa_synth.query(\"office_label == @office_label\")\n",
    "office_cell_function(df_office, office_name)"
   ]
  },
  {
   "cell_type": "markdown",
   "metadata": {},
   "source": [
    "### Bucaramanga"
   ]
  },
  {
   "cell_type": "code",
   "execution_count": null,
   "metadata": {
    "tags": [
     "remove-input"
    ]
   },
   "outputs": [],
   "source": [
    "office_name = 'Bucaramanga'\n",
    "office_label = 'hc---bucaramanga'\n",
    "df_office = df_pa_synth.query(\"office_label == @office_label\")\n",
    "office_cell_function(df_office, office_name)"
   ]
  },
  {
   "cell_type": "markdown",
   "metadata": {},
   "source": [
    "### Cali Norte"
   ]
  },
  {
   "cell_type": "code",
   "execution_count": null,
   "metadata": {
    "tags": [
     "remove-input"
    ]
   },
   "outputs": [],
   "source": [
    "office_name = 'Cali Norte'\n",
    "office_label = 'hc---cali-norte'\n",
    "df_office = df_pa_synth.query(\"office_label == @office_label\")\n",
    "office_cell_function(df_office, office_name)"
   ]
  },
  {
   "cell_type": "markdown",
   "metadata": {},
   "source": [
    "### Cali Sur"
   ]
  },
  {
   "cell_type": "code",
   "execution_count": null,
   "metadata": {
    "tags": [
     "remove-input"
    ]
   },
   "outputs": [],
   "source": [
    "office_name = 'Cali Sur'\n",
    "office_label = 'hc-cali-sur'\n",
    "df_office = df_pa_synth.query(\"office_label == @office_label\")\n",
    "office_cell_function(df_office, office_name)"
   ]
  },
  {
   "cell_type": "markdown",
   "metadata": {},
   "source": [
    "### Calle 80"
   ]
  },
  {
   "cell_type": "code",
   "execution_count": null,
   "metadata": {
    "tags": [
     "remove-input"
    ]
   },
   "outputs": [],
   "source": [
    "office_name = 'Calle 80'\n",
    "office_label = 'calle-80'\n",
    "df_office = df_pa_synth.query(\"office_label == @office_label\")\n",
    "office_cell_function(df_office, office_name)"
   ]
  },
  {
   "cell_type": "markdown",
   "metadata": {},
   "source": [
    "### Cedritos"
   ]
  },
  {
   "cell_type": "code",
   "execution_count": null,
   "metadata": {
    "tags": [
     "remove-input"
    ]
   },
   "outputs": [],
   "source": [
    "office_name = 'Cedritos'\n",
    "office_label = 'cedritos'\n",
    "df_office = df_pa_synth.query(\"office_label == @office_label\")\n",
    "office_cell_function(df_office, office_name)"
   ]
  },
  {
   "cell_type": "markdown",
   "metadata": {},
   "source": [
    "### Funza"
   ]
  },
  {
   "cell_type": "code",
   "execution_count": null,
   "metadata": {
    "tags": [
     "remove-input"
    ]
   },
   "outputs": [],
   "source": [
    "office_name = 'Funza'\n",
    "office_label = 'hc-funza'\n",
    "df_office = df_pa_synth.query(\"office_label == @office_label\")\n",
    "office_cell_function(df_office, office_name)"
   ]
  },
  {
   "cell_type": "markdown",
   "metadata": {},
   "source": [
    "### La Popa"
   ]
  },
  {
   "cell_type": "code",
   "execution_count": null,
   "metadata": {
    "tags": [
     "remove-input"
    ]
   },
   "outputs": [],
   "source": [
    "office_name = 'La Popa'\n",
    "office_label = 'hc-la-popa'\n",
    "df_office = df_pa_synth.query(\"office_label == @office_label\")\n",
    "office_cell_function(df_office, office_name)"
   ]
  },
  {
   "cell_type": "markdown",
   "metadata": {},
   "source": [
    "### Palmira"
   ]
  },
  {
   "cell_type": "code",
   "execution_count": null,
   "metadata": {
    "tags": [
     "remove-input"
    ]
   },
   "outputs": [],
   "source": [
    "office_name = 'Palmira'\n",
    "office_label = 'hc---palmira'\n",
    "df_office = df_pa_synth.query(\"office_label == @office_label\")\n",
    "office_cell_function(df_office, office_name)"
   ]
  },
  {
   "cell_type": "markdown",
   "metadata": {},
   "source": [
    "### San Fernando"
   ]
  },
  {
   "cell_type": "code",
   "execution_count": null,
   "metadata": {
    "tags": [
     "remove-input"
    ]
   },
   "outputs": [],
   "source": [
    "office_name = 'San Fernando'\n",
    "office_label = 'hc-san-fernando'\n",
    "df_office = df_pa_synth.query(\"office_label == @office_label\")\n",
    "office_cell_function(df_office, office_name)"
   ]
  },
  {
   "cell_type": "markdown",
   "metadata": {},
   "source": [
    "### San Juan"
   ]
  },
  {
   "cell_type": "code",
   "execution_count": null,
   "metadata": {
    "tags": [
     "remove-input"
    ]
   },
   "outputs": [],
   "source": [
    "office_name = 'San Juan'\n",
    "office_label = 'hc-san-juan'\n",
    "df_office = df_pa_synth.query(\"office_label == @office_label\")\n",
    "office_cell_function(df_office, office_name)"
   ]
  },
  {
   "cell_type": "markdown",
   "metadata": {},
   "source": [
    "### Tintal"
   ]
  },
  {
   "cell_type": "code",
   "execution_count": null,
   "metadata": {
    "tags": [
     "remove-input"
    ]
   },
   "outputs": [],
   "source": [
    "office_name = 'Tintal'\n",
    "office_label = 'hc-tintal'\n",
    "df_office = df_pa_synth.query(\"office_label == @office_label\")\n",
    "office_cell_function(df_office, office_name)"
   ]
  }
 ],
 "metadata": {
  "kernelspec": {
   "display_name": "Python 3 (ipykernel)",
   "language": "python",
   "name": "python3"
  },
  "language_info": {
   "codemirror_mode": {
    "name": "ipython",
    "version": 3
   },
   "file_extension": ".py",
   "mimetype": "text/x-python",
   "name": "python",
   "nbconvert_exporter": "python",
   "pygments_lexer": "ipython3",
   "version": "3.9.12"
  },
  "vscode": {
   "interpreter": {
    "hash": "3e8543986d11a7095dd1a708864c19914edc7f3db3f09d9443f7bd38b5a3c994"
   }
  }
 },
 "nbformat": 4,
 "nbformat_minor": 4
}
