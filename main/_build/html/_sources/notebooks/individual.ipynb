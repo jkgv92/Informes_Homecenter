{
 "cells": [
  {
   "cell_type": "markdown",
   "metadata": {},
   "source": [
    "# Sección por sede"
   ]
  },
  {
   "cell_type": "code",
   "execution_count": null,
   "metadata": {
    "tags": [
     "remove-cell"
    ]
   },
   "outputs": [],
   "source": [
    "# %load_ext autoreload\n",
    "# %autoreload 2\n",
    "import warnings\n",
    "warnings.filterwarnings(\"ignore\")\n",
    "\n",
    "# this cell enables project path relative imports\n",
    "import sys\n",
    "from pathlib import Path\n",
    "path_base_r_string = r'D:\\OneDrive - CELSIA S.A E.S.P'\n",
    "path_base = Path(path_base_r_string)\n",
    "project_path = path_base/'Proyectos'/'Eficiencia_Energetica'/'Homecenter'/'Informes_Homecenter'\n",
    "sys.path.append(str(project_path))"
   ]
  },
  {
   "cell_type": "code",
   "execution_count": null,
   "metadata": {
    "tags": [
     "remove-cell"
    ]
   },
   "outputs": [],
   "source": [
    "# import all your modules here\n",
    "import pandas as pd\n",
    "import numpy as np\n",
    "\n",
    "from matplotlib import pyplot as plt\n",
    "\n",
    "import plotly.express as px\n",
    "import plotly.graph_objects as go\n",
    "import plotly.io as pio\n",
    "pio.renderers.default = \"notebook\"\n",
    "pio.templates.default = \"plotly_white\"\n",
    "\n",
    "from library_report_v2 import Configuration as repcfg\n",
    "from library_report_v2 import Cleaning as cln\n",
    "from library_report_v2 import Graphing as grp\n",
    "from library_report_v2 import Processing as pro"
   ]
  },
  {
   "cell_type": "markdown",
   "metadata": {
    "tags": [
     "remove-cell"
    ]
   },
   "source": [
    "## Get data"
   ]
  },
  {
   "cell_type": "markdown",
   "metadata": {
    "tags": [
     "remove-cell"
    ]
   },
   "source": [
    "- Calle 80 tiene una variable con potencia predominantemente negativa\n",
    "- San Juan tiene un conflicto entre el api-label \"san-juan---aires-acondicionados\" y su nombre \"San Juan - Iluminación Principal\"\n",
    "- Tintal parece tener equipos mal etiquetados como \"otros\" (demasiado consumo de otros)"
   ]
  },
  {
   "cell_type": "markdown",
   "metadata": {
    "tags": [
     "remove-cell"
    ]
   },
   "source": [
    "### Get office level data"
   ]
  },
  {
   "cell_type": "code",
   "execution_count": null,
   "metadata": {
    "tags": [
     "remove-cell"
    ]
   },
   "outputs": [],
   "source": [
    "df_office = pd.read_pickle(project_path/'data'/'office_level_data.pkl')\n",
    "\n",
    "var_to_type = {\n",
    "    'pa-area-de-bots':'otros',\n",
    "    'pa-area-de-corte':'otros',\n",
    "    'pa-car-center':'otros',\n",
    "    'pa-concesiones':'otros',\n",
    "    'pa-equipos-de-climatizacion':'aa',\n",
    "    'pa-equipos-verticales':'otros',\n",
    "    'pa-iluminacion':'ilu',\n",
    "    'pa-iluminacion-parqueaderos':'ilu',\n",
    "    'pa-iluminacion-patio-constructor':'ilu',\n",
    "    'pa-iluminacion-patio-contenedores':'ilu',\n",
    "    'pa-iluminacion-principal':'ilu',\n",
    "    'pa-oficinas-y-servicios':'otros',\n",
    "    'pa-patio-constructor':'otros',\n",
    "    'pa-tablero-sorter':'otros',\n",
    "    'pa-talleres':'otros',\n",
    "\n",
    "    'ea-area-de-bots':'otros',\n",
    "    'ea-area-de-corte':'otros',\n",
    "    'ea-car-center':'otros',\n",
    "    'ea-concesion':'otros',\n",
    "    'ea-concesiones':'otros',\n",
    "    'ea-equipos-de-climatizacion':'aa',\n",
    "    'ea-equipos-verticales':'otros',\n",
    "    'ea-iluminacion':'ilu',\n",
    "    'ea-iluminacion-parqueaderos':'ilu',\n",
    "    'ea-iluminacion-patio-constructor':'ilu',\n",
    "    'ea-iluminacion-patio-contenedores':'ilu',\n",
    "    'ea-iluminacion-principal':'ilu',\n",
    "    'ea-oficinas-y-servicios':'otros',\n",
    "    'ea-patio-constructor':'otros',\n",
    "    'ea-tablero-sorter':'otros',\n",
    "    'ea-talleres':'otros'\n",
    "}\n",
    "\n",
    "\n",
    "df_office['type'] = df_office['variable'].map(var_to_type)\n",
    "df_office = pro.datetime_attributes(df_office)\n",
    "\n",
    "# get power per circuit\n",
    "power_vars = set(df_office.loc[df_office.variable.str.startswith('pa-'), 'variable'])\n",
    "power_vars.remove('pa-iluminacion')\n",
    "df_office_pa = df_office[df_office.variable.isin(power_vars)].copy()\n",
    "df_office_pa = cln.remove_outliers_by_zscore(df_office_pa, zscore=5)\n",
    "\n",
    "# get consumption per circuit\n",
    "energy_vars = set(df_office.loc[df_office.variable.str.startswith('ea-'), 'variable'])\n",
    "energy_vars.remove('ea-total')\n",
    "df_office_cons = df_office[df_office.variable.isin(energy_vars)].copy()\n",
    "\n",
    "# get overall office consumption\n",
    "df_office_total_cons = df_office.query(\"variable == 'ea-total'\")"
   ]
  },
  {
   "cell_type": "markdown",
   "metadata": {
    "tags": [
     "remove-cell"
    ]
   },
   "source": [
    "### Get circuit level data"
   ]
  },
  {
   "cell_type": "code",
   "execution_count": null,
   "metadata": {
    "tags": [
     "remove-cell"
    ]
   },
   "outputs": [],
   "source": [
    "df_circuit = pd.read_pickle(project_path/'data'/\"device_level_data.pkl\")\n",
    "df_tag_aa_ilu = pd.read_excel(project_path/\"ubidots_device_map.xlsx\", sheet_name='AA-ILU')\n",
    "\n",
    "# for some reason 'value' dtypes aren't consistent...\n",
    "df_circuit['value'] = pd.to_numeric(df_circuit['value'], errors='coerce')\n",
    "\n",
    "# merge both tables\n",
    "df_circuit = (\n",
    "    pd.merge(\n",
    "        df_circuit.reset_index(),\n",
    "        df_tag_aa_ilu,\n",
    "        how='inner'\n",
    "    )\n",
    "    .set_index('datetime')\n",
    ")\n",
    "\n",
    "\n",
    "dates_to_remove = {\n",
    "    'cali-norte---torre-de-enfriamiento':[\n",
    "        ['2022-01-01','2022-05-25']\n",
    "    ],\n",
    "    'cali-sur---aires-acondicionados':[\n",
    "        ['2022-01-01','2022-05-25']\n",
    "    ],\n",
    "    'cedritos---iluminacion-patio-constructor':[\n",
    "        ['2022-01-01','2022-05-20']\n",
    "    ],\n",
    "    \n",
    "    'cali-norte---iluminacion-parqueaderos-2':[\n",
    "        ['2022-01-01','2022-04-30']\n",
    "    ],\n",
    "    'cali-norte---iluminacion-principal-2':[\n",
    "        ['2022-01-01','2022-05-25']\n",
    "    ],\n",
    "    'iluminacion---primer-piso':[ # cedritos\n",
    "        ['2022-01-01','2022-12-30']\n",
    "    ],\n",
    "    'cedritos-iluminacion-principal':[\n",
    "        ['2022-05-15','2022-12-30']\n",
    "    ],\n",
    "    'bello---iluminacion-patio-constructor':[\n",
    "        ['2022-01-01','2022-05-25']\n",
    "    ],\n",
    "    'tintal---iluminacion-parqueaderos':[\n",
    "        ['2022-01-01','2022-06-20']\n",
    "    ],\n",
    "    'baq---aire-acondicionado-piso-ventas':[\n",
    "        ['2022-01-01','2022-05-20']\n",
    "    ],\n",
    "}\n",
    "\n",
    "# We're interested in the active power but due to \n",
    "# the way the devices have been set up in Ubidots \n",
    "# (with mismatched labels), there isn't a \n",
    "# straightforward way to get the active power for \n",
    "# all devices (mixed labels). To get around this\n",
    "# we request the active consumption, which\n",
    "# (oddly enough) is named energia-activa, and we\n",
    "# cumsum() it to get the cummulative active\n",
    "# energy, which we then differentiate to get an\n",
    "# estimate (moving average) of the active power.\n",
    "\n",
    "# get (unified) cummulative energy from consumption\n",
    "df_circuit_cons = df_circuit.query('variable == \"energia-activa\"').copy()\n",
    "df_circuit_ea = cln.recover_energy_from_consumption(df_circuit_cons, new_varname='energia-activa-acumulada')\n",
    "df_circuit_cons = None\n",
    "\n",
    "# get power from energy\n",
    "df_circuit_pa = cln.differentiate_single_variable(df_circuit_ea, 'potencia-activa-sintetica', remove_gap_data=True)\n",
    "df_circuit_ea = None\n",
    "\n",
    "# clean power data\n",
    "df_circuit_pa = cln.remove_outliers_by_zscore(df_circuit_pa, zscore=5)\n",
    "df_circuit_pa = cln.subset_discard_date_intervals(df_circuit_pa, dates_to_remove)\n",
    "df_circuit_pa = pro.datetime_attributes(df_circuit_pa)\n",
    "# df_circuit_pa = df_circuit_pa.query(\"value >= 0\")\n",
    "\n",
    "# San Juan has the labels swapped by mistake\n",
    "is_san_juan_aa = (df_circuit_pa['device_name'] == 'San Juan - Aires Acondicionados')\n",
    "df_circuit_pa.loc[is_san_juan_aa, 'device'] == 'san-juan---aires-acondicionados'\n",
    "\n",
    "is_san_juan_ilu_ppal = (df_circuit_pa['device_name'] == 'San Juan - Iluminación Principal')\n",
    "df_circuit_pa.loc[is_san_juan_ilu_ppal, 'device'] == 'san-juan---iluminacion-principal'"
   ]
  },
  {
   "cell_type": "markdown",
   "metadata": {
    "tags": [
     "remove-cell"
    ]
   },
   "source": [
    "## Functions"
   ]
  },
  {
   "cell_type": "code",
   "execution_count": null,
   "metadata": {
    "tags": [
     "remove-cell"
    ]
   },
   "outputs": [],
   "source": [
    "def typical_day(df_office_total_cons, device_name, office_name):\n",
    "    df_by_office = df_office_total_cons.query(\"device_name == @device_name\").copy()\n",
    "\n",
    "    df_hourly_cons = (\n",
    "        df_by_office\n",
    "        .groupby(['device_name'])['value']\n",
    "        .resample('1H')\n",
    "        .sum()\n",
    "        .reset_index()\n",
    "    )\n",
    "\n",
    "    df_hourly_cons['hour'] = df_hourly_cons['datetime'].dt.hour\n",
    "\n",
    "    df_hourly_mean_power = (\n",
    "        df_hourly_cons\n",
    "        .groupby(['device_name','hour'])['value']\n",
    "        .agg([pro.q_low,'mean',pro.q_high])\n",
    "        .reset_index()\n",
    "    ).round(2)\n",
    "\n",
    "    if (len(df_hourly_mean_power) > 0):\n",
    "        grp.plot_typical_day_by_hour(\n",
    "            df_hourly_mean_power, \n",
    "            subset='device_name', \n",
    "            title=f\"Día típico para la sede de {office_name}\", \n",
    "            bl_label=\"Promedio\", \n",
    "            bl_ci_label=\"Intervalo\",\n",
    "            legend=True, \n",
    "            include_ci=True, \n",
    "            fill_ci=True\n",
    "        )\n",
    "\n",
    "    return None\n",
    "\n",
    "\n",
    "def hvac_typical_day_week(df_office_pa, device_name, office_name, fix_negatives=False):\n",
    "    df_office_pa_device = df_office_pa.query(\"device_name == @device_name\").copy()\n",
    "    # df_office_pa_device = df_office_pa_device[df_office_pa_device.value > 0]\n",
    "\n",
    "    df_day_by_hour = (\n",
    "        df_office_pa_device\n",
    "        .reset_index()\n",
    "        .groupby(['device_name','type','variable','hour'])['value']\n",
    "        .agg(['median','mean','std','min',pro.q_low,pro.q_high,'max','count'])\n",
    "        .reset_index()\n",
    "    )\n",
    "\n",
    "    df_week_by_day = (\n",
    "        df_office_pa_device\n",
    "        .reset_index()\n",
    "        .groupby(['device_name','type','variable','cont_dow'])['value']\n",
    "        .agg(['median','mean','std','min',pro.q_low,pro.q_high,'max','count'])\n",
    "        .reset_index()\n",
    "    )\n",
    "\n",
    "    if (fix_negatives is True):\n",
    "        df_day_by_hour.loc[(df_day_by_hour.q_low < 0), 'q_low'] = 0\n",
    "        df_week_by_day.loc[(df_week_by_day.q_low < 0), 'q_low'] = 0\n",
    "\n",
    "    if (len(df_day_by_hour) > 0):\n",
    "        grp.plot_typical_day_by_hour(\n",
    "            df_day_by_hour.query(\"type == 'aa'\"), \n",
    "            subset='variable', \n",
    "            title=f\"Día típico para los equipos de climatización en la sede de {office_name}\", \n",
    "            bl_label=\"Promedio de:\", \n",
    "            bl_ci_label=\"Intervalo de:\",\n",
    "            legend=True, \n",
    "            include_ci=True, \n",
    "            fill_ci=True\n",
    "        )\n",
    "    \n",
    "    if (len(df_week_by_day) > 0):\n",
    "        grp.plot_typical_week_by_day(\n",
    "            df_week_by_day.query(\"type == 'aa'\"),\n",
    "            subset='variable',  \n",
    "            title=f\"Semana típica para los equipos de climatización en la sede de {office_name}\",\n",
    "            bl_label=\"Promedio de:\", \n",
    "            bl_ci_label=\"Intervalo de:\",\n",
    "            legend=True, \n",
    "            include_ci=True, \n",
    "            fill_ci=True\n",
    "        )\n",
    "\n",
    "\n",
    "\n",
    "def lighting_typical_day_week(df_office_pa, device_name, office_name, fix_negatives=False):\n",
    "    df_office_pa_device = df_office_pa.query(\"device_name == @device_name\").copy()\n",
    "    # df_office_pa_device = df_office_pa_device.query(\"value > 0\")\n",
    "    # df_office_pa_device = df_office_pa_device[df_office_pa_device.value > 0]\n",
    "\n",
    "    df_day_by_hour = (\n",
    "        df_office_pa_device\n",
    "        .reset_index()\n",
    "        .groupby(['device_name','type','variable','hour'])['value']\n",
    "        .agg(['median','mean','std','min',pro.q_low,pro.q_high,'max','count'])\n",
    "        .reset_index()\n",
    "    )\n",
    "\n",
    "    df_week_by_day = (\n",
    "        df_office_pa_device\n",
    "        .reset_index()\n",
    "        .groupby(['device_name','type','variable','cont_dow'])['value']\n",
    "        .agg(['median','mean','std','min',pro.q_low,pro.q_high,'max','count'])\n",
    "        .reset_index()\n",
    "    )\n",
    "\n",
    "    if (fix_negatives is True):\n",
    "        df_day_by_hour.loc[(df_day_by_hour.q_low < 0), 'q_low'] = 0\n",
    "        df_week_by_day.loc[(df_week_by_day.q_low < 0), 'q_low'] = 0\n",
    "\n",
    "    grp.plot_typical_day_by_hour(\n",
    "        df_day_by_hour.query(\"type == 'ilu'\"), \n",
    "        subset='variable', \n",
    "        title=f\"Día típico para la iluminación en la sede de {office_name}\", \n",
    "        bl_label=\"Promedio de:\", \n",
    "        bl_ci_label=\"Intervalo de:\",\n",
    "        legend=True, \n",
    "        include_ci=True, \n",
    "        fill_ci=True\n",
    "    )\n",
    "\n",
    "    grp.plot_typical_week_by_day(\n",
    "        df_week_by_day.query(\"type == 'ilu'\"),\n",
    "        subset='variable',  \n",
    "        title=f\"Semana típica para la iluminación en la sede de {office_name}\",\n",
    "        bl_label=\"Promedio de:\", \n",
    "        bl_ci_label=\"Intervalo de:\",\n",
    "        legend=True, \n",
    "        include_ci=True, \n",
    "        fill_ci=True\n",
    "    )\n",
    "\n",
    "\n",
    "def bar_plot_monthly_cons(df_office_total_cons, device_name, office_name):\n",
    "    df_office_total_cons_device = df_office_total_cons.query(\"device_name == @device_name\").copy()\n",
    "    \n",
    "    df_office_total_cons_device_monthly = (\n",
    "        df_office_total_cons_device\n",
    "        .groupby(['month'])['value']\n",
    "        .sum()\n",
    "        .reset_index()\n",
    "    )\n",
    "\n",
    "    df_office_total_cons_device_monthly['value'] = df_office_total_cons_device_monthly['value'].round(2)\n",
    "\n",
    "    fig = px.bar(\n",
    "        df_office_total_cons_device_monthly,\n",
    "        x=\"month\",\n",
    "        y=\"value\",\n",
    "        labels={'month':'Mes', 'value':'Consumo [kWh]'},\n",
    "        title=f\"Consumo mensual de energía activa [kWh] en la sede de {office_name}\",\n",
    "    )\n",
    "\n",
    "    fig.update_layout(\n",
    "        font_family=repcfg.CELSIA_FONT,\n",
    "        font_size=repcfg.PLOTLY_TITLE_FONT_SIZE,\n",
    "        font_color=repcfg.FULL_PALETTE[1],\n",
    "        title_x=repcfg.PLOTLY_TITLE_X,\n",
    "        width=repcfg.JBOOK_PLOTLY_WIDTH,\n",
    "        height=repcfg.JBOOK_PLOTLY_HEIGHT\n",
    "    )\n",
    "\n",
    "    fig.update_traces(marker_color=grp.hex_to_rgb(repcfg.FULL_PALETTE[0]))\n",
    "    fig.show()\n",
    "\n",
    "\n",
    "def bar_plot_daytype_cons(df_office_total_cons, device_name, office_name):\n",
    "    df_by_office = df_office_total_cons.query(\"device_name == @device_name\").copy()\n",
    "\n",
    "    df_daily_cons = (\n",
    "        df_by_office\n",
    "        .groupby(['device_name','type_of_day'])['value']\n",
    "        .resample('1D')\n",
    "        .sum()\n",
    "        .reset_index()\n",
    "    )\n",
    "\n",
    "    df_daily_cons = df_daily_cons.query(\"value > 0\")\n",
    "\n",
    "    df_daily_cons_by_daytype = (\n",
    "        df_daily_cons\n",
    "        .groupby(['device_name','type_of_day'])['value']\n",
    "        .mean()\n",
    "        .reset_index()\n",
    "    ).round(2)\n",
    "\n",
    "\n",
    "    fig = px.bar(\n",
    "        df_daily_cons_by_daytype,\n",
    "        x=\"type_of_day\",\n",
    "        y=\"value\",\n",
    "        labels={'type_of_day':'Tipo de día', 'value':'Consumo [kWh]'},\n",
    "        title=f\"Consumo diario promedio de energía activa [kWh] en la sede de {office_name}\",\n",
    "    )\n",
    "\n",
    "    fig.update_layout(\n",
    "        font_family=repcfg.CELSIA_FONT,\n",
    "        font_size=repcfg.PLOTLY_TITLE_FONT_SIZE,\n",
    "        font_color=repcfg.FULL_PALETTE[1],\n",
    "        title_x=repcfg.PLOTLY_TITLE_X,\n",
    "        width=repcfg.JBOOK_PLOTLY_WIDTH,\n",
    "        height=repcfg.JBOOK_PLOTLY_HEIGHT\n",
    "    )\n",
    "\n",
    "    fig.update_traces(marker_color=grp.hex_to_rgb(repcfg.FULL_PALETTE[0]))\n",
    "    fig.show()\n",
    "    \n",
    "\n",
    "def hvac_power_histogram_auto(df_circuit_pa, office_label, office_name, quantile_cutoff=0):\n",
    "    is_selection = (\n",
    "        (df_circuit_pa['office_label'] == office_label)\n",
    "        & (df_circuit_pa['type'] == 'AA')\n",
    "    )\n",
    "\n",
    "    df_hist =  cln.remove_lower_quantile(df_circuit_pa[is_selection], quantile=quantile_cutoff)\n",
    "\n",
    "    if (len(df_hist) > 0):\n",
    "        fig = px.histogram(\n",
    "            df_hist,\n",
    "            x=\"value\",\n",
    "            color='device_name',\n",
    "            color_discrete_sequence=repcfg.FULL_PALETTE,\n",
    "            labels={'value':'Potencia activa [kW]', 'device_name':'Circuito'},\n",
    "            title=f\"Climatización: distribución de potencia activa en la sede de {office_name}\",\n",
    "        )\n",
    "\n",
    "        fig.update_layout(\n",
    "            font_family=repcfg.CELSIA_FONT,\n",
    "            font_size=repcfg.PLOTLY_TITLE_FONT_SIZE,\n",
    "            font_color=repcfg.FULL_PALETTE[1],\n",
    "            title_x=repcfg.PLOTLY_TITLE_X,\n",
    "            width=repcfg.JBOOK_PLOTLY_WIDTH,\n",
    "            height=repcfg.JBOOK_PLOTLY_HEIGHT\n",
    "        )\n",
    "\n",
    "        fig.show()\n",
    "\n",
    "\n",
    "def piechart_zone_cons(df_office_cons, device_name, office_name):\n",
    "    df_office_cons_device = df_office_cons.query(\"device_name == @device_name\").copy()\n",
    "\n",
    "    df_daily_cons_by_type = (\n",
    "        df_office_cons_device\n",
    "        .groupby(['type'])['value']\n",
    "        .resample('1D')\n",
    "        .sum()\n",
    "        .reset_index()\n",
    "    )\n",
    "\n",
    "    df_mean_daily_cons_by_type = (\n",
    "        df_daily_cons_by_type\n",
    "        .groupby(['type'])['value']\n",
    "        .mean()\n",
    "        .reset_index()\n",
    "    ).round(2)\n",
    "\n",
    "    fig = px.pie(\n",
    "        df_mean_daily_cons_by_type, \n",
    "        values=\"value\", \n",
    "        names='type', \n",
    "        hover_data=['value'],\n",
    "        labels={'type':'Tipo', 'value':'Consumo diario promedio [kWh]'},\n",
    "        title=f\"Consumo promedio diario de energía activa por tipo de carga para la sede de {office_name}\",\n",
    "        color_discrete_sequence=repcfg.FULL_PALETTE,\n",
    "    )\n",
    "\n",
    "    fig.update_layout(\n",
    "        font_family=repcfg.CELSIA_FONT,\n",
    "        font_size=repcfg.PLOTLY_TITLE_FONT_SIZE,\n",
    "        font_color=repcfg.FULL_PALETTE[1],\n",
    "        title_x=repcfg.PLOTLY_TITLE_X,\n",
    "        width=repcfg.JBOOK_PLOTLY_WIDTH,\n",
    "        height=repcfg.JBOOK_PLOTLY_HEIGHT\n",
    "    )\n",
    "\n",
    "    fig.update_traces(\n",
    "        # textposition='inside', \n",
    "        textinfo='percent', \n",
    "        # insidetextorientation='radial'\n",
    "    )\n",
    "\n",
    "    fig.update(\n",
    "        layout_showlegend=True\n",
    "    )\n",
    "\n",
    "    fig.show()"
   ]
  },
  {
   "cell_type": "markdown",
   "metadata": {},
   "source": [
    "## Clima cálido húmedo (1A)"
   ]
  },
  {
   "cell_type": "markdown",
   "metadata": {},
   "source": [
    "### Barranquilla"
   ]
  },
  {
   "cell_type": "markdown",
   "metadata": {},
   "source": [
    "#### Indicadores de desempeño energético (IDE)"
   ]
  },
  {
   "cell_type": "markdown",
   "metadata": {},
   "source": [
    "![Diagrama_proceso_ISO_50001.jpg](figures/EUI_1A.png)"
   ]
  },
  {
   "cell_type": "markdown",
   "metadata": {},
   "source": [
    "De este análisis se puede identificar que la sede está al margen de la línea base (EUI Base) definido por normativa (88KWh/m2), es decir que su consumo energético es lo que se espera para un Retail de estas características. Sin embargo, se debe tener en cuenta que la cobertura de medición está en el orden del 60% "
   ]
  },
  {
   "cell_type": "code",
   "execution_count": null,
   "metadata": {
    "tags": [
     "remove-input"
    ]
   },
   "outputs": [],
   "source": [
    "device_name = 'HC - Barranquilla'\n",
    "office_name = 'Barranquilla'\n",
    "office_label = df_office.query(\"device_name == @device_name\")['device'].mode()[0]"
   ]
  },
  {
   "cell_type": "code",
   "execution_count": null,
   "metadata": {
    "tags": [
     "remove-input"
    ]
   },
   "outputs": [],
   "source": [
    "bar_plot_monthly_cons(df_office_total_cons, device_name, office_name)"
   ]
  },
  {
   "cell_type": "markdown",
   "metadata": {},
   "source": [
    "El consumo mensual promedio de los últimos meses para la tienda ha sido de 220.000 kWh/mes "
   ]
  },
  {
   "cell_type": "code",
   "execution_count": null,
   "metadata": {
    "tags": [
     "remove-input"
    ]
   },
   "outputs": [],
   "source": [
    "piechart_zone_cons(df_office_cons, device_name, office_name)"
   ]
  },
  {
   "cell_type": "markdown",
   "metadata": {},
   "source": [
    "En esta tienda más del 70% de la energía consumida está asociada a los consumos de Aire Acondicionado (HVAC), lo que supone el mayor foco de interés para temas de optimización de energética. Por otro lado, el segundo consumidor más relevante está asociado a la iluminación principal de la tienda (aprox. 21%). Estos dos usos finales representan el 92% de la energía consumida del proyecto.  "
   ]
  },
  {
   "cell_type": "code",
   "execution_count": null,
   "metadata": {
    "tags": [
     "remove-input"
    ]
   },
   "outputs": [],
   "source": [
    "typical_day(df_office_total_cons, device_name, office_name)"
   ]
  },
  {
   "cell_type": "markdown",
   "metadata": {},
   "source": [
    "Dado que los consumos promedios diarios se mantienen relativamente constantes se presenta una curva de consumo diaria asociada al consumo hora a hora de las instalaciones. Las regiones sombreadas representan un intervalo de confianza de 95% para la línea base. "
   ]
  },
  {
   "cell_type": "code",
   "execution_count": null,
   "metadata": {
    "tags": [
     "remove-input"
    ]
   },
   "outputs": [],
   "source": [
    "bar_plot_daytype_cons(df_office_total_cons, device_name, office_name)"
   ]
  },
  {
   "cell_type": "markdown",
   "metadata": {},
   "source": [
    "Dependiendo del día de la semana, no hay gran variación entre diferenciar un día entre semana, a un sábado o un domingo. En promedio, se consumen unos 7000kWh/día. "
   ]
  },
  {
   "cell_type": "markdown",
   "metadata": {},
   "source": [
    "#### Equipos de climatización"
   ]
  },
  {
   "cell_type": "code",
   "execution_count": null,
   "metadata": {
    "tags": [
     "remove-input"
    ]
   },
   "outputs": [],
   "source": [
    "hvac_typical_day_week(df_office_pa, device_name, office_name)"
   ]
  },
  {
   "cell_type": "code",
   "execution_count": null,
   "metadata": {
    "tags": [
     "remove-input"
    ]
   },
   "outputs": [],
   "source": [
    "hvac_power_histogram_auto(df_circuit_pa, office_label, office_name, quantile_cutoff=0.35)"
   ]
  },
  {
   "cell_type": "markdown",
   "metadata": {},
   "source": [
    "Análisis Consumo HVAC – Esta sede cuenta con un consumo promedio constante en horario diurno para el sistema de aire acondicionado de la tienda. Dicho lo anterior, se evidencian optimizaciones asociadas al control y regulación de demanda térmica sujeta a la tecnología disponible y flexibilidad de esta. La demanda pico del sistema de HVAC ronda los 560 KW lo que puede representar una demanda pico térmica de 280-330TR.(de 430TR Instaladas) \n",
    "\n",
    " \n",
    "\n",
    "Lo anterior abre la posibilidad a un reemplazo de equipos, considerando unas capacidades menores y optimizando setpoints de operación, así como la administración de aire exterior. "
   ]
  },
  {
   "cell_type": "markdown",
   "metadata": {},
   "source": [
    "#### Iluminación"
   ]
  },
  {
   "cell_type": "code",
   "execution_count": null,
   "metadata": {
    "tags": [
     "remove-input"
    ]
   },
   "outputs": [],
   "source": [
    "lighting_typical_day_week(df_office_pa, device_name, office_name)"
   ]
  },
  {
   "cell_type": "markdown",
   "metadata": {},
   "source": [
    "Análisis Consumo Iluminación Tienda – Esta sede cuenta con un sistema de control horario escalonado según la hora del día a pesar de contar con secciones de teja traslucida en cubierta. Dicho lo anterior se ve la posibilidad de control que tenga en cuenta el aporte de la iluminación natural. La demanda pico del sistema de iluminación ronda los 93kW. "
   ]
  },
  {
   "cell_type": "markdown",
   "metadata": {},
   "source": [
    "### La Popa"
   ]
  },
  {
   "cell_type": "markdown",
   "metadata": {},
   "source": [
    "#### Indicadores de desempeño energético (IDE)"
   ]
  },
  {
   "cell_type": "markdown",
   "metadata": {},
   "source": [
    "![Diagrama_proceso_ISO_50001.jpg](figures/EUI_1A.png)"
   ]
  },
  {
   "cell_type": "markdown",
   "metadata": {},
   "source": [
    "De este análisis se puede identificar que la sede está por encima de la línea base (EUI Base) definido por normativa (88KWh/m2), es decir que su consumo energético es superior a lo que se espera para un Retail de estas características. Sin embargo, se debe tener en cuenta que la cobertura de medición está en el orden del 70%. "
   ]
  },
  {
   "cell_type": "code",
   "execution_count": null,
   "metadata": {
    "tags": [
     "remove-input"
    ]
   },
   "outputs": [],
   "source": [
    "device_name = 'HC - La Popa'\n",
    "office_name = 'La Popa'\n",
    "office_label = df_office.query(\"device_name == @device_name\")['device'].mode()[0]"
   ]
  },
  {
   "cell_type": "code",
   "execution_count": null,
   "metadata": {
    "tags": [
     "remove-input"
    ]
   },
   "outputs": [],
   "source": [
    "bar_plot_monthly_cons(df_office_total_cons, device_name, office_name)"
   ]
  },
  {
   "cell_type": "markdown",
   "metadata": {},
   "source": [
    "El consumo mensual promedio de los últimos meses para la tienda ha sido de 160000 kWh/mes "
   ]
  },
  {
   "cell_type": "code",
   "execution_count": null,
   "metadata": {
    "tags": [
     "remove-input"
    ]
   },
   "outputs": [],
   "source": [
    "piechart_zone_cons(df_office_cons, device_name, office_name)"
   ]
  },
  {
   "cell_type": "markdown",
   "metadata": {},
   "source": [
    "En esta tienda más del 92% de la energía consumida está asociada a los consumos de Aire Acondicionado (HVAC), lo que supone el mayor foco de interés para temas de optimización de energética. Por otro lado, el segundo consumidor más relevante está asociado a la iluminación principal del patio constructor (aprox. 2.6%). Estos dos usos finales representan el 94.6% de la energía consumida del proyecto.  "
   ]
  },
  {
   "cell_type": "code",
   "execution_count": null,
   "metadata": {
    "tags": [
     "remove-input"
    ]
   },
   "outputs": [],
   "source": [
    "typical_day(df_office_total_cons, device_name, office_name)"
   ]
  },
  {
   "cell_type": "markdown",
   "metadata": {},
   "source": [
    "Dado que los consumos promedios diarios se mantienen relativamente constantes se presenta una curva de consumo diaria asociada al consumo hora a hora de las instalaciones. Las regiones sombreadas representan un intervalo de confianza de 95% para la línea base. "
   ]
  },
  {
   "cell_type": "code",
   "execution_count": null,
   "metadata": {
    "tags": [
     "remove-input"
    ]
   },
   "outputs": [],
   "source": [
    "bar_plot_daytype_cons(df_office_total_cons, device_name, office_name)"
   ]
  },
  {
   "cell_type": "markdown",
   "metadata": {},
   "source": [
    "Dependiendo del día de la semana, no hay gran variación entre diferenciar un día entre semana, a un sábado o un domingo. En promedio, se consumen unos 5400kWh/día. "
   ]
  },
  {
   "cell_type": "markdown",
   "metadata": {},
   "source": [
    "#### Equipos de climatización"
   ]
  },
  {
   "cell_type": "code",
   "execution_count": null,
   "metadata": {
    "tags": [
     "remove-input"
    ]
   },
   "outputs": [],
   "source": [
    "hvac_typical_day_week(df_office_pa, device_name, office_name)"
   ]
  },
  {
   "cell_type": "code",
   "execution_count": null,
   "metadata": {
    "tags": [
     "remove-input"
    ]
   },
   "outputs": [],
   "source": [
    "hvac_power_histogram_auto(df_circuit_pa, office_label, office_name, quantile_cutoff=0.15)"
   ]
  },
  {
   "cell_type": "markdown",
   "metadata": {},
   "source": [
    "Análisis Consumo HVAC – Esta sede cuenta con un consumo promedio constante en horario diurno para el sistema de aire acondicionado de la tienda. Dicho lo anterior, se evidencian optimizaciones asociadas al control y regulación de demanda térmica sujeta a la tecnología disponible y flexibilidad de esta. La demanda que en el periodo de muestra  del sistema de HVAC ronda los 500 KW lo que puede representar una demanda pico térmica de 250-300TR (de 400TR.Instaladas) \n",
    "\n",
    "\n",
    "Lo anterior abre la posibilidad a un reemplazo de equipos, considerando unas capacidades menores y optimizando setpoints de operación, así como la administración de aire exterior. "
   ]
  },
  {
   "cell_type": "markdown",
   "metadata": {},
   "source": [
    "#### Iluminación"
   ]
  },
  {
   "cell_type": "code",
   "execution_count": null,
   "metadata": {
    "tags": [
     "remove-input"
    ]
   },
   "outputs": [],
   "source": [
    "lighting_typical_day_week(df_office_pa, device_name, office_name)"
   ]
  },
  {
   "cell_type": "markdown",
   "metadata": {},
   "source": [
    "Análisis Consumo Iluminación Tienda – Esta sede cuenta con un sistema de control horario escalonado según la hora del día a pesar de contar con secciones de teja traslucida en cubierta. Dicho lo anterior se ve la posibilidad de control que tenga en cuenta el aporte de la iluminación natural. La demanda pico del sistema de iluminación ronda los 5kW para la iluminación principal y 6KW para el patio constructor "
   ]
  },
  {
   "cell_type": "markdown",
   "metadata": {},
   "source": [
    "### San Fernando"
   ]
  },
  {
   "cell_type": "markdown",
   "metadata": {},
   "source": [
    "#### Indicadores de desempeño energético (IDE)"
   ]
  },
  {
   "cell_type": "markdown",
   "metadata": {},
   "source": [
    "![Diagrama_proceso_ISO_50001.jpg](figures/EUI_1A.png)"
   ]
  },
  {
   "cell_type": "markdown",
   "metadata": {},
   "source": [
    "De este análisis se puede identificar que la sede está al margen de la línea base (EUI Base) definido por normativa (88KWh/m2), es decir que su consumo energético es lo que se espera para un Retail de estas características. Sin embargo, se debe tener en cuenta que la cobertura de medición está en el orden del 60% "
   ]
  },
  {
   "cell_type": "code",
   "execution_count": null,
   "metadata": {
    "tags": [
     "remove-input"
    ]
   },
   "outputs": [],
   "source": [
    "device_name = 'HC - San Fernando'\n",
    "office_name = 'San Fernando'\n",
    "office_label = df_office.query(\"device_name == @device_name\")['device'].mode()[0]"
   ]
  },
  {
   "cell_type": "code",
   "execution_count": null,
   "metadata": {
    "tags": [
     "remove-input"
    ]
   },
   "outputs": [],
   "source": [
    "bar_plot_monthly_cons(df_office_total_cons, device_name, office_name)"
   ]
  },
  {
   "cell_type": "markdown",
   "metadata": {},
   "source": [
    "El consumo mensual promedio de los últimos meses para la tienda ha sido de 135000 kWh/mes "
   ]
  },
  {
   "cell_type": "code",
   "execution_count": null,
   "metadata": {
    "tags": [
     "remove-input"
    ]
   },
   "outputs": [],
   "source": [
    "piechart_zone_cons(df_office_cons, device_name, office_name)"
   ]
  },
  {
   "cell_type": "markdown",
   "metadata": {},
   "source": [
    "En esta tienda más del 68% de la energía consumida está asociada a los consumos de Aire Acondicionado (HVAC), lo que supone el mayor foco de interés para temas de optimización de energética. Por otro lado, el segundo consumidor más relevante está asociado a la iluminación (aprox. 24%). Estos usos finales representan el 93.2% de la energía consumida del proyecto.  "
   ]
  },
  {
   "cell_type": "code",
   "execution_count": null,
   "metadata": {
    "tags": [
     "remove-input"
    ]
   },
   "outputs": [],
   "source": [
    "typical_day(df_office_total_cons, device_name, office_name)"
   ]
  },
  {
   "cell_type": "markdown",
   "metadata": {},
   "source": [
    "Dado que los consumos promedios diarios se mantienen relativamente constantes se presenta una curva de consumo diaria asociada al consumo hora a hora de las instalaciones. Las regiones sombreadas representan un intervalo de confianza de 95% para la línea base. "
   ]
  },
  {
   "cell_type": "code",
   "execution_count": null,
   "metadata": {
    "tags": [
     "remove-input"
    ]
   },
   "outputs": [],
   "source": [
    "bar_plot_daytype_cons(df_office_total_cons, device_name, office_name)"
   ]
  },
  {
   "cell_type": "markdown",
   "metadata": {},
   "source": [
    "Dependiendo del día de la semana, no hay gran variación entre diferenciar un día entre semana, a un sábado o un domingo. En promedio, se consumen unos 4452kWh/día. "
   ]
  },
  {
   "cell_type": "markdown",
   "metadata": {},
   "source": [
    "#### Equipos de climatización"
   ]
  },
  {
   "cell_type": "code",
   "execution_count": null,
   "metadata": {
    "tags": [
     "remove-input"
    ]
   },
   "outputs": [],
   "source": [
    "hvac_typical_day_week(df_office_pa, device_name, office_name)"
   ]
  },
  {
   "cell_type": "code",
   "execution_count": null,
   "metadata": {
    "tags": [
     "remove-input"
    ]
   },
   "outputs": [],
   "source": [
    "hvac_power_histogram_auto(df_circuit_pa, office_label, office_name, quantile_cutoff=0.40)"
   ]
  },
  {
   "cell_type": "markdown",
   "metadata": {},
   "source": [
    "Análisis Consumo HVAC – Esta sede cuenta con un consumo promedio constante en horario diurno para el sistema de aire acondicionado de la tienda. Dicho lo anterior, se evidencian optimizaciones asociadas al control y regulación de demanda térmica sujeta a la tecnología disponible y flexibilidad de esta. La demanda pico del sistema de HVAC ronda los 350KW lo que puede representar una demanda pico térmica de 200-250TR. (350TR Instaladas) \n",
    "\n",
    " \n",
    "\n",
    " \n",
    "\n",
    "Lo anterior abre la posibilidad a un reemplazo de equipos, considerando unas capacidades menores y optimizando setpoints de operación, así como la administración de aire exterior. "
   ]
  },
  {
   "cell_type": "markdown",
   "metadata": {},
   "source": [
    "#### Iluminación"
   ]
  },
  {
   "cell_type": "code",
   "execution_count": null,
   "metadata": {
    "tags": [
     "remove-input"
    ]
   },
   "outputs": [],
   "source": [
    "lighting_typical_day_week(df_office_pa, device_name, office_name)"
   ]
  },
  {
   "cell_type": "markdown",
   "metadata": {},
   "source": [
    "Análisis Consumo Iluminación Tienda – Esta sede cuenta con un sistema de control horario constante según la hora del día a pesar de contar con secciones de teja traslucida en cubierta. Dicho lo anterior se ve la posibilidad de control que tenga en cuenta el aporte de la iluminación natural. La demanda pico del sistema de iluminación ronda los 36kW para la iluminación principal y 25KW para el patio constructor "
   ]
  },
  {
   "cell_type": "markdown",
   "metadata": {},
   "source": [
    "### Cali Norte"
   ]
  },
  {
   "cell_type": "markdown",
   "metadata": {},
   "source": [
    "#### Indicadores de desempeño energético (IDE)"
   ]
  },
  {
   "cell_type": "markdown",
   "metadata": {},
   "source": [
    "![Diagrama_proceso_ISO_50001.jpg](figures/EUI_1A.png)"
   ]
  },
  {
   "cell_type": "markdown",
   "metadata": {},
   "source": [
    "De este análisis se puede identificar que la sede está por encima de la línea base (EUI Base) definido por normativa (88KWh/m2), es decir que su consumo energético es mayor a lo que se espera para un Retail de estas características.  "
   ]
  },
  {
   "cell_type": "code",
   "execution_count": null,
   "metadata": {
    "tags": [
     "remove-input"
    ]
   },
   "outputs": [],
   "source": [
    "device_name = 'HC - Cali norte'\n",
    "office_name = 'Cali Norte'\n",
    "office_label = df_office.query(\"device_name == @device_name\")['device'].mode()[0]"
   ]
  },
  {
   "cell_type": "code",
   "execution_count": null,
   "metadata": {
    "tags": [
     "remove-input"
    ]
   },
   "outputs": [],
   "source": [
    "bar_plot_monthly_cons(df_office_total_cons, device_name, office_name)"
   ]
  },
  {
   "cell_type": "markdown",
   "metadata": {},
   "source": [
    "El consumo mensual promedio de los últimos meses para la tienda ha sido de 300000 kWh/mes "
   ]
  },
  {
   "cell_type": "code",
   "execution_count": null,
   "metadata": {
    "tags": [
     "remove-input"
    ]
   },
   "outputs": [],
   "source": [
    "piechart_zone_cons(df_office_cons, device_name, office_name)"
   ]
  },
  {
   "cell_type": "markdown",
   "metadata": {},
   "source": [
    "En esta tienda más del 86% de la energía consumida está asociada a los consumos de Aire Acondicionado (HVAC), lo que supone el mayor foco de interés para temas de optimización de energética. Por otro lado, el segundo consumidor más relevante está asociado a la iluminación principal del patio constructor (aprox.9%). Estos usos finales representan el 95% de la energía consumida del proyecto. "
   ]
  },
  {
   "cell_type": "code",
   "execution_count": null,
   "metadata": {
    "tags": [
     "remove-input"
    ]
   },
   "outputs": [],
   "source": [
    "typical_day(df_office_total_cons, device_name, office_name)"
   ]
  },
  {
   "cell_type": "markdown",
   "metadata": {},
   "source": [
    "Dado que los consumos promedios diarios se mantienen relativamente constantes se presenta una curva de consumo diaria asociada al consumo hora a hora de las instalaciones. Las regiones sombreadas representan un intervalo de confianza de 95% para la línea base. "
   ]
  },
  {
   "cell_type": "code",
   "execution_count": null,
   "metadata": {
    "tags": [
     "remove-input"
    ]
   },
   "outputs": [],
   "source": [
    "bar_plot_daytype_cons(df_office_total_cons, device_name, office_name)"
   ]
  },
  {
   "cell_type": "markdown",
   "metadata": {},
   "source": [
    "Dependiendo del día de la semana, no hay gran variación entre diferenciar un día entre semana, a un sábado o un domingo. En promedio, se consumen unos 10500kWh/día. "
   ]
  },
  {
   "cell_type": "markdown",
   "metadata": {},
   "source": [
    "#### Equipos de climatización"
   ]
  },
  {
   "cell_type": "code",
   "execution_count": null,
   "metadata": {
    "tags": [
     "remove-input"
    ]
   },
   "outputs": [],
   "source": [
    "hvac_typical_day_week(df_office_pa, device_name, office_name)"
   ]
  },
  {
   "cell_type": "code",
   "execution_count": null,
   "metadata": {
    "tags": [
     "remove-input"
    ]
   },
   "outputs": [],
   "source": [
    "# Torre de enfriamiento appears to be a mislabel\n",
    "df_cali_norte_pa_aa = df_circuit_pa.query(\"office_label == 'hc---cali-norte' & type == 'AA'\").copy()\n",
    "\n",
    "fix_label = {\n",
    "    'Cali Norte - Torre de Enfriamiento':'Cali Norte - HVAC',\n",
    "    'cali-norte---torre-de-enfriamiento':'cali-norte---hvac',\n",
    "    'Cali Norte - ML Chiller':'Cali Norte - ML Chiller',\n",
    "    'cali-norte---ml-chiller':'cali-norte---ml-chiller',\n",
    "}\n",
    "\n",
    "df_cali_norte_pa_aa['device_name'] = df_cali_norte_pa_aa['device_name'].map(fix_label)\n",
    "df_cali_norte_pa_aa['device'] = df_cali_norte_pa_aa['device'].map(fix_label)\n",
    "\n",
    "hvac_power_histogram_auto(df_cali_norte_pa_aa, office_label, office_name, quantile_cutoff=0.45)"
   ]
  },
  {
   "cell_type": "markdown",
   "metadata": {},
   "source": [
    "Análisis Consumo HVAC – Esta sede cuenta con un consumo promedio constante en horario diurno para el sistema de aire acondicionado de la tienda. Dicho lo anterior, se evidencian optimizaciones asociadas al control y regulación de demanda térmica sujeta a la tecnología disponible y flexibilidad de esta. La demanda pico del sistema de HVAC ronda los 300KW lo que puede representar una demanda pico térmica de 110-130TR. (500TR Instaladas) \n",
    "\n",
    " \n",
    "\n",
    "Lo anterior abre la posibilidad a un reemplazo de equipos, considerando unas capacidades menores y optimizando setpoints de operación, así como la administración de aire exterior. "
   ]
  },
  {
   "cell_type": "markdown",
   "metadata": {},
   "source": [
    "#### Iluminación"
   ]
  },
  {
   "cell_type": "code",
   "execution_count": null,
   "metadata": {
    "tags": [
     "remove-input"
    ]
   },
   "outputs": [],
   "source": [
    "lighting_typical_day_week(df_office_pa, device_name, office_name)"
   ]
  },
  {
   "cell_type": "markdown",
   "metadata": {},
   "source": [
    "Análisis Consumo Iluminación Tienda – Esta sede cuenta con un sistema de control horario constante según la hora del día. La demanda pico del sistema de iluminación ronda los 33kW para la iluminación principal y 14KW para el patio constructor. \n",
    "\n",
    " \n",
    "\n",
    "Es importante resaltar que en horas de las noches (entre 0h a las 4am) se identifican hasta 13KW encendidos que pueden representar hasta unos 19MM COP anuales.  "
   ]
  },
  {
   "cell_type": "markdown",
   "metadata": {},
   "source": [
    "### Cali Sur"
   ]
  },
  {
   "cell_type": "markdown",
   "metadata": {},
   "source": [
    "#### Indicadores de desempeño energético (IDE)"
   ]
  },
  {
   "cell_type": "markdown",
   "metadata": {},
   "source": [
    "![Diagrama_proceso_ISO_50001.jpg](figures/EUI_1A.png)"
   ]
  },
  {
   "cell_type": "markdown",
   "metadata": {},
   "source": [
    "De este análisis se puede identificar que la sede está en el rango de la línea base (EUI Base) definido por normativa (88KWh/m2), es decir que su consumo energético es lo que se espera de este tipo de inmueble.  "
   ]
  },
  {
   "cell_type": "code",
   "execution_count": null,
   "metadata": {
    "tags": [
     "remove-input"
    ]
   },
   "outputs": [],
   "source": [
    "device_name = 'HC - Cali sur'\n",
    "office_name = 'Cali Sur'\n",
    "office_label = df_office.query(\"device_name == @device_name\")['device'].mode()[0]"
   ]
  },
  {
   "cell_type": "code",
   "execution_count": null,
   "metadata": {
    "tags": [
     "remove-input"
    ]
   },
   "outputs": [],
   "source": [
    "bar_plot_monthly_cons(df_office_total_cons, device_name, office_name)"
   ]
  },
  {
   "cell_type": "markdown",
   "metadata": {},
   "source": [
    "El consumo mensual promedio de los últimos meses para la tienda ha sido de 210000 kWh/mes "
   ]
  },
  {
   "cell_type": "code",
   "execution_count": null,
   "metadata": {
    "tags": [
     "remove-input"
    ]
   },
   "outputs": [],
   "source": [
    "piechart_zone_cons(df_office_cons, device_name, office_name)"
   ]
  },
  {
   "cell_type": "markdown",
   "metadata": {},
   "source": [
    "En esta tienda más del 66% de la energía consumida está asociada a los consumos de Aire Acondicionado (HVAC), lo que supone el mayor foco de interés para temas de optimización de energética. Por otro lado, el segundo consumidor más relevante está asociado a la iluminación (aprox. 28%). Estos usos finales representan el 95% de la energía consumida del proyecto.  "
   ]
  },
  {
   "cell_type": "code",
   "execution_count": null,
   "metadata": {
    "tags": [
     "remove-input"
    ]
   },
   "outputs": [],
   "source": [
    "typical_day(df_office_total_cons, device_name, office_name)"
   ]
  },
  {
   "cell_type": "markdown",
   "metadata": {},
   "source": [
    "Dado que los consumos promedios diarios se mantienen relativamente constantes se presenta una curva de consumo diaria asociada al consumo hora a hora de las instalaciones. Las regiones sombreadas representan un intervalo de confianza de 95% para la línea base. "
   ]
  },
  {
   "cell_type": "code",
   "execution_count": null,
   "metadata": {
    "tags": [
     "remove-input"
    ]
   },
   "outputs": [],
   "source": [
    "bar_plot_daytype_cons(df_office_total_cons, device_name, office_name)"
   ]
  },
  {
   "cell_type": "markdown",
   "metadata": {},
   "source": [
    "Dependiendo del día de la semana, no hay gran variación entre diferenciar un día entre semana, a un sábado o un domingo. En promedio, se consumen unos 10500kWh/día. "
   ]
  },
  {
   "cell_type": "markdown",
   "metadata": {},
   "source": [
    "#### Equipos de climatización"
   ]
  },
  {
   "cell_type": "code",
   "execution_count": null,
   "metadata": {
    "tags": [
     "remove-input"
    ]
   },
   "outputs": [],
   "source": [
    "hvac_typical_day_week(df_office_pa, device_name, office_name)"
   ]
  },
  {
   "cell_type": "code",
   "execution_count": null,
   "metadata": {
    "tags": [
     "remove-input"
    ]
   },
   "outputs": [],
   "source": [
    "hvac_power_histogram_auto(df_circuit_pa, office_label, office_name, quantile_cutoff=0.50)"
   ]
  },
  {
   "cell_type": "markdown",
   "metadata": {},
   "source": [
    "Análisis Consumo HVAC – Esta sede cuenta con un consumo promedio constante en horario diurno para el sistema de aire acondicionado de la tienda. Dicho lo anterior, se evidencian optimizaciones asociadas al control y regulación de demanda térmica sujeta a la tecnología disponible y flexibilidad de esta. La demanda pico del sistema de HVAC ronda los 300 KW lo que puede representar una demanda pico térmica de 250-300TR. (418 TR Instaladas) \n",
    "\n",
    " \n",
    "\n",
    "Lo anterior abre la posibilidad a un reemplazo de equipos, considerando unas capacidades menores y optimizando setpoints de operación, así como la administración de aire exterior. "
   ]
  },
  {
   "cell_type": "markdown",
   "metadata": {},
   "source": [
    "#### Iluminación"
   ]
  },
  {
   "cell_type": "code",
   "execution_count": null,
   "metadata": {
    "tags": [
     "remove-input"
    ]
   },
   "outputs": [],
   "source": [
    "lighting_typical_day_week(df_office_pa, device_name, office_name)"
   ]
  },
  {
   "cell_type": "markdown",
   "metadata": {},
   "source": [
    "Análisis Consumo Iluminación Tienda – Esta sede cuenta con un sistema de control horario constante según la hora del día a pesar de contar con secciones de teja traslucida en cubierta. Dicho lo anterior se ve la posibilidad de control que tenga en cuenta el aporte de la iluminación natural. La demanda pico del sistema de iluminación ronda los 94kW para la iluminación principal y 0.6KW para el patio constructor \n",
    "\n",
    " \n",
    "\n",
    "Es importante resaltar que en horas de las noches (entre 10pm a las 4am) se identifican hasta 16KW encendidos que pueden representar hasta unos 24MM COP anuales.  "
   ]
  },
  {
   "cell_type": "markdown",
   "metadata": {},
   "source": [
    "### Palmira"
   ]
  },
  {
   "cell_type": "markdown",
   "metadata": {},
   "source": [
    "#### Indicadores de desempeño energético (IDE)"
   ]
  },
  {
   "cell_type": "markdown",
   "metadata": {},
   "source": [
    "![Diagrama_proceso_ISO_50001.jpg](figures/EUI_1A.png)"
   ]
  },
  {
   "cell_type": "markdown",
   "metadata": {},
   "source": [
    "De este análisis se puede identificar que la sede está en el rango de la línea base (EUI Base) definido por normativa (88KWh/m2), es decir que su consumo energético es lo que se espera de este tipo de inmueble. Sin embargo, se debe tener en cuenta que la cobertura de medición está en el orden del 80% "
   ]
  },
  {
   "cell_type": "code",
   "execution_count": null,
   "metadata": {
    "tags": [
     "remove-input"
    ]
   },
   "outputs": [],
   "source": [
    "device_name = 'HC - Palmira'\n",
    "office_name = 'Palmira'\n",
    "office_label = df_office.query(\"device_name == @device_name\")['device'].mode()[0]"
   ]
  },
  {
   "cell_type": "code",
   "execution_count": null,
   "metadata": {
    "tags": [
     "remove-input"
    ]
   },
   "outputs": [],
   "source": [
    "bar_plot_monthly_cons(df_office_total_cons, device_name, office_name)"
   ]
  },
  {
   "cell_type": "markdown",
   "metadata": {},
   "source": [
    "El consumo mensual promedio de los últimos meses para la tienda ha sido de 85000 kWh/mes "
   ]
  },
  {
   "cell_type": "code",
   "execution_count": null,
   "metadata": {
    "tags": [
     "remove-input"
    ]
   },
   "outputs": [],
   "source": [
    "piechart_zone_cons(df_office_cons, device_name, office_name)"
   ]
  },
  {
   "cell_type": "markdown",
   "metadata": {},
   "source": [
    "En esta tienda más del 63% de la energía consumida está asociada a los consumos de Aire Acondicionado (HVAC), lo que supone el mayor foco de interés para temas de optimización de energética. Por otro lado, el segundo consumidor más relevante está asociado a la iluminación (aprox. 20%). Estos usos finales representan el 83% de la energía consumida del proyecto.  "
   ]
  },
  {
   "cell_type": "code",
   "execution_count": null,
   "metadata": {
    "tags": [
     "remove-input"
    ]
   },
   "outputs": [],
   "source": [
    "typical_day(df_office_total_cons, device_name, office_name)"
   ]
  },
  {
   "cell_type": "markdown",
   "metadata": {},
   "source": [
    "Dado que los consumos promedios diarios se mantienen relativamente constantes se presenta una curva de consumo diaria asociada al consumo hora a hora de las instalaciones. Las regiones sombreadas representan un intervalo de confianza de 95% para la línea base. "
   ]
  },
  {
   "cell_type": "code",
   "execution_count": null,
   "metadata": {
    "tags": [
     "remove-input"
    ]
   },
   "outputs": [],
   "source": [
    "bar_plot_daytype_cons(df_office_total_cons, device_name, office_name)"
   ]
  },
  {
   "cell_type": "markdown",
   "metadata": {},
   "source": [
    "Dependiendo del día de la semana, no hay gran variación entre diferenciar un día entre semana, a un sábado o un domingo. En promedio, se consumen unos 10500kWh/día. "
   ]
  },
  {
   "cell_type": "markdown",
   "metadata": {},
   "source": [
    "#### Equipos de climatización"
   ]
  },
  {
   "cell_type": "code",
   "execution_count": null,
   "metadata": {
    "tags": [
     "remove-input"
    ]
   },
   "outputs": [],
   "source": [
    "hvac_typical_day_week(df_office_pa, device_name, office_name)"
   ]
  },
  {
   "cell_type": "code",
   "execution_count": null,
   "metadata": {
    "tags": [
     "remove-cell"
    ]
   },
   "outputs": [],
   "source": [
    "df_palmira_pa_aa = df_office.query(\"device == 'hc---palmira' & variable == 'pa-equipos-de-climatizacion'\").copy()\n",
    "df_palmira_pa_aa['office_label'] = 'hc---palmira'\n",
    "df_palmira_pa_aa['type'] = 'AA'"
   ]
  },
  {
   "cell_type": "code",
   "execution_count": null,
   "metadata": {
    "tags": [
     "remove-input"
    ]
   },
   "outputs": [],
   "source": [
    "# no data\n",
    "hvac_power_histogram_auto(df_palmira_pa_aa, office_label, office_name, quantile_cutoff=0.5)"
   ]
  },
  {
   "cell_type": "markdown",
   "metadata": {},
   "source": [
    "Análisis Consumo HVAC – Esta sede cuenta con un consumo promedio constante en horario diurno para el sistema de aire acondicionado de la tienda. Dicho lo anterior, se evidencian optimizaciones asociadas al control y regulación de demanda térmica sujeta a la tecnología disponible y flexibilidad de esta. La demanda pico del sistema de HVAC ronda los 280 KW lo que puede representar una demanda pico térmica de 120TR. (150TR Instaladas) \n",
    "\n",
    " \n",
    "\n",
    "Lo anterior abre la posibilidad a optimizar setpoints de operación, así como la administración de aire exterior. "
   ]
  },
  {
   "cell_type": "markdown",
   "metadata": {},
   "source": [
    "#### Iluminación"
   ]
  },
  {
   "cell_type": "code",
   "execution_count": null,
   "metadata": {
    "tags": [
     "remove-input"
    ]
   },
   "outputs": [],
   "source": [
    "lighting_typical_day_week(df_office_pa, device_name, office_name)"
   ]
  },
  {
   "cell_type": "markdown",
   "metadata": {},
   "source": [
    "Análisis Consumo Iluminación Tienda – Esta sede cuenta con un sistema de control horario constante según la hora del día a pesar de contar con secciones de teja traslucida en cubierta. Dicho lo anterior se ve la posibilidad de control que tenga en cuenta el aporte de la iluminación natural. La demanda pico del sistema de iluminación ronda los 33kW para la iluminación principal y 3.8KW para el patio constructor \n",
    "\n",
    " \n",
    "\n",
    "Es importante resaltar que en horas de las noches (entre 10pm a las 4am) se identifican hasta 5KW encendidos que pueden representar hasta unos 7MM COP anuales.  "
   ]
  },
  {
   "cell_type": "markdown",
   "metadata": {},
   "source": [
    "## Clima cálido seco-templado (2A)"
   ]
  },
  {
   "cell_type": "markdown",
   "metadata": {},
   "source": [
    "### Bello"
   ]
  },
  {
   "cell_type": "markdown",
   "metadata": {},
   "source": [
    "#### Indicadores de desempeño energético (IDE)"
   ]
  },
  {
   "cell_type": "markdown",
   "metadata": {},
   "source": [
    "![Diagrama_proceso_ISO_50001.jpg](figures/EUI_2A.png)"
   ]
  },
  {
   "cell_type": "markdown",
   "metadata": {},
   "source": [
    "De este análisis se puede identificar que la sede está por encima de la línea base (EUI Base) definido por normativa (80KWh/m2), es decir que su consumo energético es mayor a lo que se espera para un Retail de estas características. Sin embargo, se debe tener en cuenta que la cobertura de medición está en el orden del 70% "
   ]
  },
  {
   "cell_type": "code",
   "execution_count": null,
   "metadata": {
    "tags": [
     "remove-input"
    ]
   },
   "outputs": [],
   "source": [
    "device_name = 'HC - Bello'\n",
    "office_name = 'Bello'\n",
    "office_label = df_office.query(\"device_name == @device_name\")['device'].mode()[0]"
   ]
  },
  {
   "cell_type": "code",
   "execution_count": null,
   "metadata": {
    "tags": [
     "remove-input"
    ]
   },
   "outputs": [],
   "source": [
    "bar_plot_monthly_cons(df_office_total_cons, device_name, office_name)"
   ]
  },
  {
   "cell_type": "markdown",
   "metadata": {},
   "source": [
    "El consumo mensual promedio de los últimos meses para la tienda ha sido de 95000 kWh/mes "
   ]
  },
  {
   "cell_type": "code",
   "execution_count": null,
   "metadata": {
    "tags": [
     "remove-input"
    ]
   },
   "outputs": [],
   "source": [
    "piechart_zone_cons(df_office_cons, device_name, office_name)"
   ]
  },
  {
   "cell_type": "markdown",
   "metadata": {},
   "source": [
    "En esta tienda más del 56% de la energía consumida está asociada a los consumos de Aire Acondicionado (HVAC), lo que supone el mayor foco de interés para temas de optimización de energética. Por otro lado, el segundo consumidor más relevante está asociado a la iluminación (aprox. 37%). Estos usos finales representan el 93% de la energía consumida del proyecto.  "
   ]
  },
  {
   "cell_type": "code",
   "execution_count": null,
   "metadata": {
    "tags": [
     "remove-input"
    ]
   },
   "outputs": [],
   "source": [
    "typical_day(df_office_total_cons, device_name, office_name)"
   ]
  },
  {
   "cell_type": "markdown",
   "metadata": {},
   "source": [
    "Dado que los consumos promedios diarios se mantienen relativamente constantes se presenta una curva de consumo diaria asociada al consumo hora a hora de las instalaciones. Las regiones sombreadas representan un intervalo de confianza de 95% para la línea base. "
   ]
  },
  {
   "cell_type": "code",
   "execution_count": null,
   "metadata": {
    "tags": [
     "remove-input"
    ]
   },
   "outputs": [],
   "source": [
    "bar_plot_daytype_cons(df_office_total_cons, device_name, office_name)"
   ]
  },
  {
   "cell_type": "markdown",
   "metadata": {},
   "source": [
    "Dependiendo del día de la semana, no hay gran variación entre diferenciar un día entre semana, a un sábado o un domingo. En promedio, se consumen unos 3200kWh/día. "
   ]
  },
  {
   "cell_type": "markdown",
   "metadata": {},
   "source": [
    "#### Equipos de climatización"
   ]
  },
  {
   "cell_type": "code",
   "execution_count": null,
   "metadata": {
    "tags": [
     "remove-input"
    ]
   },
   "outputs": [],
   "source": [
    "hvac_typical_day_week(df_office_pa, device_name, office_name)"
   ]
  },
  {
   "cell_type": "code",
   "execution_count": null,
   "metadata": {
    "tags": [
     "remove-input"
    ]
   },
   "outputs": [],
   "source": [
    "hvac_power_histogram_auto(df_circuit_pa, office_label, office_name, quantile_cutoff=0.5)"
   ]
  },
  {
   "cell_type": "markdown",
   "metadata": {},
   "source": [
    "Análisis Consumo HVAC – Esta sede cuenta con un consumo promedio constante en horario diurno para el sistema de aire acondicionado de la tienda. Dicho lo anterior, se evidencian optimizaciones asociadas al control y regulación de demanda térmica sujeta a la tecnología disponible y flexibilidad de esta. La demanda pico del sistema de HVAC ronda los 300 KW lo que puede representar una demanda pico térmica de 150-170TR. (260TR Instaladas) \n",
    "\n",
    " \n",
    "\n",
    "Lo anterior abre la posibilidad a un reemplazo de equipos, considerando unas capacidades menores y optimizando setpoints de operación, así como la administración de aire exterior. "
   ]
  },
  {
   "cell_type": "markdown",
   "metadata": {},
   "source": [
    "#### Iluminación"
   ]
  },
  {
   "cell_type": "code",
   "execution_count": null,
   "metadata": {
    "tags": [
     "remove-input"
    ]
   },
   "outputs": [],
   "source": [
    "lighting_typical_day_week(df_office_pa, device_name, office_name)"
   ]
  },
  {
   "cell_type": "markdown",
   "metadata": {},
   "source": [
    "Análisis Consumo Iluminación Tienda – Esta sede cuenta con un sistema de control horario constante. La demanda pico del sistema de iluminación ronda los 44kW (28KW en promedio) para la iluminación principal y 16KW para el patio constructor. Sin embargo presenta diferentes variaciones a lo largo de un día normal.  \n",
    "\n",
    " \n",
    "\n",
    "Es importante resaltar que en horas de las noches (entre 10pm a las 4am) se identifican hasta 5KW encendidos que pueden representar hasta unos 22MM COP anuales.  "
   ]
  },
  {
   "cell_type": "markdown",
   "metadata": {},
   "source": [
    "### Bucaramanga"
   ]
  },
  {
   "cell_type": "markdown",
   "metadata": {},
   "source": [
    "#### Indicadores de desempeño energético (IDE)"
   ]
  },
  {
   "cell_type": "markdown",
   "metadata": {},
   "source": [
    "![Diagrama_proceso_ISO_50001.jpg](figures/EUI_2A.png)"
   ]
  },
  {
   "cell_type": "markdown",
   "metadata": {},
   "source": [
    "De este análisis se puede identificar que la sede está por encima de la línea base (EUI Base) definido por normativa (80KWh/m2), es decir que su consumo energético es mayor a lo que se espera para un Retail de estas características.  "
   ]
  },
  {
   "cell_type": "code",
   "execution_count": null,
   "metadata": {
    "tags": [
     "remove-input"
    ]
   },
   "outputs": [],
   "source": [
    "device_name = 'HC - Bucaramanga'\n",
    "office_name = 'Bucaramanga'\n",
    "office_label = df_office.query(\"device_name == @device_name\")['device'].mode()[0]"
   ]
  },
  {
   "cell_type": "code",
   "execution_count": null,
   "metadata": {
    "tags": [
     "remove-input"
    ]
   },
   "outputs": [],
   "source": [
    "bar_plot_monthly_cons(df_office_total_cons, device_name, office_name)"
   ]
  },
  {
   "cell_type": "markdown",
   "metadata": {},
   "source": [
    "El consumo mensual promedio de los últimos meses para la tienda ha sido de 205000 kWh/mes \n",
    "\n",
    " "
   ]
  },
  {
   "cell_type": "code",
   "execution_count": null,
   "metadata": {
    "tags": [
     "remove-input"
    ]
   },
   "outputs": [],
   "source": [
    "piechart_zone_cons(df_office_cons, device_name, office_name)"
   ]
  },
  {
   "cell_type": "markdown",
   "metadata": {},
   "source": [
    "En esta tienda más del 76% de la energía consumida está asociada a los consumos de Aire Acondicionado (HVAC), lo que supone el mayor foco de interés para temas de optimización de energética. Por otro lado, el segundo consumidor más relevante está asociado a la iluminación (aprox. 14%). Estos usos finales representan el 90% de la energía consumida del proyecto.  "
   ]
  },
  {
   "cell_type": "code",
   "execution_count": null,
   "metadata": {
    "tags": [
     "remove-input"
    ]
   },
   "outputs": [],
   "source": [
    "typical_day(df_office_total_cons, device_name, office_name)"
   ]
  },
  {
   "cell_type": "code",
   "execution_count": null,
   "metadata": {
    "tags": [
     "remove-input"
    ]
   },
   "outputs": [],
   "source": [
    "bar_plot_daytype_cons(df_office_total_cons, device_name, office_name)"
   ]
  },
  {
   "cell_type": "markdown",
   "metadata": {},
   "source": [
    "Dependiendo del día de la semana, no hay gran variación entre diferenciar un día entre semana, a un sábado o un domingo. En promedio, se consumen unos 6800kWh/día. "
   ]
  },
  {
   "cell_type": "markdown",
   "metadata": {},
   "source": [
    "#### Equipos de climatización"
   ]
  },
  {
   "cell_type": "code",
   "execution_count": null,
   "metadata": {
    "tags": [
     "remove-input"
    ]
   },
   "outputs": [],
   "source": [
    "hvac_typical_day_week(df_office_pa, device_name, office_name)"
   ]
  },
  {
   "cell_type": "code",
   "execution_count": null,
   "metadata": {
    "tags": [
     "remove-cell"
    ]
   },
   "outputs": [],
   "source": [
    "df_circuit_bucaramanga = df_circuit.query(\"office_label == 'hc---bucaramanga'\").copy()\n",
    "df_bga_pa_aa = df_circuit_bucaramanga.query(\"type == 'AA'\").query(\"variable == 'potencia-activa-calculada'\")"
   ]
  },
  {
   "cell_type": "code",
   "execution_count": null,
   "metadata": {
    "tags": [
     "remove-input"
    ]
   },
   "outputs": [],
   "source": [
    "hvac_power_histogram_auto(df_bga_pa_aa, office_label, office_name, quantile_cutoff=0)"
   ]
  },
  {
   "cell_type": "markdown",
   "metadata": {},
   "source": [
    "Análisis Consumo HVAC – Esta sede cuenta con un consumo promedio constante en horario diurno para el sistema de aire acondicionado de la tienda. Dicho lo anterior, se evidencian optimizaciones asociadas al control y regulación de demanda térmica sujeta a la tecnología disponible y flexibilidad de esta. La demanda pico del sistema de HVAC ronda los 550 KW lo que puede representar una demanda pico térmica de 220TR. (262TR Instaladas) \n",
    "\n",
    " \n",
    "\n",
    "Lo anterior abre la posibilidad a optimizar setpoints de operación, así como la administración de aire exterior. "
   ]
  },
  {
   "cell_type": "markdown",
   "metadata": {},
   "source": [
    "#### Iluminación"
   ]
  },
  {
   "cell_type": "code",
   "execution_count": null,
   "metadata": {
    "tags": [
     "remove-input"
    ]
   },
   "outputs": [],
   "source": [
    "lighting_typical_day_week(df_office_pa, device_name, office_name)"
   ]
  },
  {
   "cell_type": "markdown",
   "metadata": {},
   "source": [
    "Análisis Consumo Iluminación Tienda – Esta sede cuenta con un sistema de control horario variable de escalonamiento según la hora del día la hora del día. La demanda pico del sistema de iluminación ronda los 50KW (32kWen promedio) para la iluminación principal y 14KW para el patio constructor "
   ]
  },
  {
   "cell_type": "markdown",
   "metadata": {},
   "source": [
    "### San Juan"
   ]
  },
  {
   "cell_type": "markdown",
   "metadata": {},
   "source": [
    "#### Indicadores de desempeño energético (IDE)"
   ]
  },
  {
   "cell_type": "markdown",
   "metadata": {},
   "source": [
    "![Diagrama_proceso_ISO_50001.jpg](figures/EUI_2A.png)"
   ]
  },
  {
   "cell_type": "markdown",
   "metadata": {},
   "source": [
    "De este análisis se puede identificar que la sede está en el rango de la línea base (EUI Base) definido por normativa (80KWh/m2), es decir que su consumo energético es lo que se espera para un Retail de estas características "
   ]
  },
  {
   "cell_type": "code",
   "execution_count": null,
   "metadata": {
    "tags": [
     "remove-input"
    ]
   },
   "outputs": [],
   "source": [
    "device_name = 'HC - San Juan'\n",
    "office_name = 'San Juan'\n",
    "office_label = df_office.query(\"device_name == @device_name\")['device'].mode()[0]"
   ]
  },
  {
   "cell_type": "code",
   "execution_count": null,
   "metadata": {
    "tags": [
     "remove-input"
    ]
   },
   "outputs": [],
   "source": [
    "bar_plot_monthly_cons(df_office_total_cons, device_name, office_name)"
   ]
  },
  {
   "cell_type": "markdown",
   "metadata": {},
   "source": [
    "El consumo mensual promedio de los últimos meses para la tienda ha sido de 210000 kWh/mes "
   ]
  },
  {
   "cell_type": "code",
   "execution_count": null,
   "metadata": {
    "tags": [
     "remove-input"
    ]
   },
   "outputs": [],
   "source": [
    "piechart_zone_cons(df_office_cons, device_name, office_name)"
   ]
  },
  {
   "cell_type": "markdown",
   "metadata": {},
   "source": [
    "En esta tienda más del 44% de la energía consumida está asociada a los consumos de Aire Acondicionado (HVAC). Por otro lado, el segundo consumidor más relevante está asociado a la iluminación (aprox. 41%). Estos usos finales representan el 85% de la energía consumida del proyecto.  "
   ]
  },
  {
   "cell_type": "code",
   "execution_count": null,
   "metadata": {
    "tags": [
     "remove-input"
    ]
   },
   "outputs": [],
   "source": [
    "typical_day(df_office_total_cons, device_name, office_name)"
   ]
  },
  {
   "cell_type": "markdown",
   "metadata": {},
   "source": [
    "Dado que los consumos promedios diarios se mantienen relativamente constantes se presenta una curva de consumo diaria asociada al consumo hora a hora de las instalaciones. Las regiones sombreadas representan un intervalo de confianza de 95% para la línea base. "
   ]
  },
  {
   "cell_type": "code",
   "execution_count": null,
   "metadata": {
    "tags": [
     "remove-input"
    ]
   },
   "outputs": [],
   "source": [
    "bar_plot_daytype_cons(df_office_total_cons, device_name, office_name)"
   ]
  },
  {
   "cell_type": "markdown",
   "metadata": {},
   "source": [
    "Dependiendo del día de la semana, no hay gran variación entre diferenciar un día entre semana, a un sábado o un domingo. En promedio, se consumen unos 10500kWh/día. "
   ]
  },
  {
   "cell_type": "markdown",
   "metadata": {},
   "source": [
    "#### Equipos de climatización"
   ]
  },
  {
   "cell_type": "code",
   "execution_count": null,
   "metadata": {
    "tags": [
     "remove-input"
    ]
   },
   "outputs": [],
   "source": [
    "hvac_typical_day_week(df_office_pa, device_name, office_name)"
   ]
  },
  {
   "cell_type": "code",
   "execution_count": null,
   "metadata": {
    "tags": [
     "remove-input"
    ]
   },
   "outputs": [],
   "source": [
    "hvac_power_histogram_auto(df_circuit_pa, office_label, office_name, quantile_cutoff=0.55)"
   ]
  },
  {
   "cell_type": "markdown",
   "metadata": {},
   "source": [
    "Análisis Consumo HVAC – Esta sede cuenta con un consumo promedio constante en horario diurno para el sistema de aire acondicionado de la tienda. Dicho lo anterior, se evidencian optimizaciones asociadas al control y regulación de demanda térmica sujeta a la tecnología disponible y flexibilidad de esta. La demanda pico del sistema de HVAC ronda los 450 KW lo que puede representar una demanda pico térmica de 250-300TR. (450TR Instaladas) \n",
    "\n",
    " \n",
    "\n",
    "Lo anterior abre la posibilidad a un reemplazo de equipos, considerando unas capacidades menores y optimizando setpoints de operación, así como la administración de aire exterior. "
   ]
  },
  {
   "cell_type": "markdown",
   "metadata": {},
   "source": [
    "#### Iluminación"
   ]
  },
  {
   "cell_type": "code",
   "execution_count": null,
   "metadata": {
    "tags": [
     "remove-input"
    ]
   },
   "outputs": [],
   "source": [
    "lighting_typical_day_week(df_office_pa, device_name, office_name)"
   ]
  },
  {
   "cell_type": "markdown",
   "metadata": {},
   "source": [
    "Análisis Consumo Iluminación Tienda – Esta sede cuenta con un sistema de control horario constante según la hora del día a pesar de contar con secciones de teja traslucida en cubierta. Dicho lo anterior se ve la posibilidad de control que tenga en cuenta el aporte de la iluminación natural. La demanda pico del sistema de iluminación ronda los 120kW para la iluminación principal y 100KW para el patio constructor \n",
    "\n",
    " \n",
    "\n",
    "Es importante resaltar que en horas de las noches (entre 10pm a las 4am) se identifican hasta 35KW encendidos que pueden representar hasta unos 40MM COP anuales.  "
   ]
  },
  {
   "cell_type": "markdown",
   "metadata": {},
   "source": [
    "## Clima frío (3A)"
   ]
  },
  {
   "cell_type": "markdown",
   "metadata": {},
   "source": [
    "### Calle 80"
   ]
  },
  {
   "cell_type": "markdown",
   "metadata": {},
   "source": [
    "#### Indicadores de desempeño energético (IDE)"
   ]
  },
  {
   "cell_type": "markdown",
   "metadata": {},
   "source": [
    "![Diagrama_proceso_ISO_50001.jpg](figures/EUI_3A.png)"
   ]
  },
  {
   "cell_type": "markdown",
   "metadata": {},
   "source": [
    "De este análisis se puede identificar que la sede está por debajo de la línea base (EUI Base) definido por normativa (60KWh/m2), es decir que su consumo energético es menor a lo que se espera para un Retail de estas características. Sin embargo, se debe tener en cuenta que la cobertura de medición está en el orden del 65%, que puede cambiar la interpretación de este indicador.  "
   ]
  },
  {
   "cell_type": "code",
   "execution_count": null,
   "metadata": {
    "tags": [
     "remove-input"
    ]
   },
   "outputs": [],
   "source": [
    "device_name =  'HC - Calle 80'\n",
    "office_name = 'Calle 80'\n",
    "office_label = df_office.query(\"device_name == @device_name\")['device'].mode()[0]"
   ]
  },
  {
   "cell_type": "code",
   "execution_count": null,
   "metadata": {
    "tags": [
     "remove-input"
    ]
   },
   "outputs": [],
   "source": [
    "bar_plot_monthly_cons(df_office_total_cons, device_name, office_name)"
   ]
  },
  {
   "cell_type": "markdown",
   "metadata": {},
   "source": [
    "El consumo mensual promedio de los últimos meses para la tienda ha sido de 108000 kWh/mes "
   ]
  },
  {
   "cell_type": "code",
   "execution_count": null,
   "metadata": {
    "tags": [
     "remove-input"
    ]
   },
   "outputs": [],
   "source": [
    "piechart_zone_cons(df_office_cons, device_name, office_name)"
   ]
  },
  {
   "cell_type": "markdown",
   "metadata": {},
   "source": [
    "En esta tienda más del 64% de la energía consumida está asociada a los consumos de Iluminación lo que supone el mayor foco de interés para temas de optimización de energética. Por otro lado, el segundo consumidor más relevante agrupado en la categoría de otros está asociado principalmente a las concesiones.  "
   ]
  },
  {
   "cell_type": "code",
   "execution_count": null,
   "metadata": {
    "tags": [
     "remove-input"
    ]
   },
   "outputs": [],
   "source": [
    "# locally clean this plot (so as to not affect the global consumption calcs)\n",
    "df_cons_calle_80 = df_office_total_cons.query(\"device == 'calle-80'\")\n",
    "df_cons_calle_80 = cln.remove_outliers_by_zscore(df_cons_calle_80, zscore=5)\n",
    "typical_day(df_cons_calle_80, device_name, office_name)"
   ]
  },
  {
   "cell_type": "markdown",
   "metadata": {},
   "source": [
    "Dado que los consumos promedios diarios se mantienen relativamente constantes se presenta una curva de consumo diaria asociada al consumo hora a hora de las instalaciones. Las regiones sombreadas representan un intervalo de confianza de 95% para la línea base."
   ]
  },
  {
   "cell_type": "code",
   "execution_count": null,
   "metadata": {
    "tags": [
     "remove-input"
    ]
   },
   "outputs": [],
   "source": [
    "bar_plot_daytype_cons(df_office_total_cons, device_name, office_name)"
   ]
  },
  {
   "cell_type": "markdown",
   "metadata": {},
   "source": [
    "Dependiendo del día de la semana, no hay gran variación entre diferenciar un día entre semana, a un sábado o un domingo. En promedio, se consumen unos 3200kWh/día. "
   ]
  },
  {
   "cell_type": "markdown",
   "metadata": {},
   "source": [
    "#### Iluminación"
   ]
  },
  {
   "cell_type": "code",
   "execution_count": null,
   "metadata": {
    "tags": [
     "remove-input"
    ]
   },
   "outputs": [],
   "source": [
    "lighting_typical_day_week(df_office_pa, device_name, office_name)"
   ]
  },
  {
   "cell_type": "markdown",
   "metadata": {},
   "source": [
    "Análisis Consumo Iluminación Tienda – Esta sede cuenta con un sistema que es variable (intervalo considerablemente variable) con un comportamiento regular en el transcurso de los días a pesar de contar con secciones de teja traslucida en cubierta. Dicho lo anterior se ve la posibilidad de control que tenga en cuenta el aporte de la iluminación natural. La demanda pico del sistema de iluminación ronda los 82kW(Promedio de 60KW) para la iluminación principal y 30KW(Promedio de 20KW) para el patio constructor \n",
    "\n",
    " \n",
    "\n",
    "Es importante resaltar que en horas de las noches (entre 10pm a las 4am) se identifican hasta 30KW encendidos que pueden representar hasta unos 38MM COP anuales.  "
   ]
  },
  {
   "cell_type": "markdown",
   "metadata": {},
   "source": [
    "### Cedritos"
   ]
  },
  {
   "cell_type": "markdown",
   "metadata": {},
   "source": [
    "#### Indicadores de desempeño energético (IDE)"
   ]
  },
  {
   "cell_type": "markdown",
   "metadata": {},
   "source": [
    "![Diagrama_proceso_ISO_50001.jpg](figures/EUI_3A.png)"
   ]
  },
  {
   "cell_type": "markdown",
   "metadata": {},
   "source": [
    "De este análisis se puede identificar que la sede está por debajo de la línea base (EUI Base) definido por normativa (60KWh/m2), es decir que su consumo energético es menor a lo que se espera para un Retail de estas características. Sin embargo, se debe tener en cuenta que la cobertura de medición está en el orden del 65%, que puede cambiar la interpretación de este indicador.  "
   ]
  },
  {
   "cell_type": "code",
   "execution_count": null,
   "metadata": {
    "tags": [
     "remove-input"
    ]
   },
   "outputs": [],
   "source": [
    "device_name = 'HC - Cedritos'\n",
    "office_name = 'Cedritos'\n",
    "office_label = df_office.query(\"device_name == @device_name\")['device'].mode()[0]"
   ]
  },
  {
   "cell_type": "code",
   "execution_count": null,
   "metadata": {
    "tags": [
     "remove-input"
    ]
   },
   "outputs": [],
   "source": [
    "bar_plot_monthly_cons(df_office_total_cons, device_name, office_name)"
   ]
  },
  {
   "cell_type": "markdown",
   "metadata": {},
   "source": [
    "El consumo mensual promedio de los últimos meses para la tienda ha sido de 55000 kWh/mes "
   ]
  },
  {
   "cell_type": "code",
   "execution_count": null,
   "metadata": {
    "tags": [
     "remove-input"
    ]
   },
   "outputs": [],
   "source": [
    "piechart_zone_cons(df_office_cons, device_name, office_name)"
   ]
  },
  {
   "cell_type": "markdown",
   "metadata": {},
   "source": [
    "En esta tienda más del 72% de la energía consumida está asociada a los consumos de Iluminación lo que supone el mayor foco de interés para temas de optimización de energética. Por otro lado, el segundo consumidor más relevante agrupado en la categoría de otros está asociado principalmente a las cargas del concesiones (24%) "
   ]
  },
  {
   "cell_type": "code",
   "execution_count": null,
   "metadata": {
    "tags": [
     "remove-input"
    ]
   },
   "outputs": [],
   "source": [
    "typical_day(df_office_total_cons, device_name, office_name)"
   ]
  },
  {
   "cell_type": "markdown",
   "metadata": {},
   "source": [
    "Dado que los consumos promedios diarios se mantienen relativamente constantes se presenta una curva de consumo diaria asociada al consumo hora a hora de las instalaciones. Las regiones sombreadas representan un intervalo de confianza de 95% para la línea base. "
   ]
  },
  {
   "cell_type": "code",
   "execution_count": null,
   "metadata": {
    "tags": [
     "remove-input"
    ]
   },
   "outputs": [],
   "source": [
    "bar_plot_daytype_cons(df_office_total_cons, device_name, office_name)"
   ]
  },
  {
   "cell_type": "markdown",
   "metadata": {},
   "source": [
    "Dependiendo del día de la semana, no hay gran variación entre diferenciar un día entre semana, a un sábado o un domingo. En promedio, se consumen unos 1600kWh/día. "
   ]
  },
  {
   "cell_type": "markdown",
   "metadata": {},
   "source": [
    "#### Iluminación"
   ]
  },
  {
   "cell_type": "code",
   "execution_count": null,
   "metadata": {
    "tags": [
     "remove-input"
    ]
   },
   "outputs": [],
   "source": [
    "lighting_typical_day_week(df_office_pa, device_name, office_name)"
   ]
  },
  {
   "cell_type": "markdown",
   "metadata": {},
   "source": [
    "Análisis Consumo Iluminación Tienda – Esta sede cuenta con un sistema que es variable (intervalo considerablemente variable) con un comportamiento regular en el transcurso de los días a pesar de contar con secciones de teja traslucida en cubierta. Dicho lo anterior se ve la posibilidad de control que tenga en cuenta el aporte de la iluminación natural. La demanda pico del sistema de iluminación ronda los 86kW(Promedio de 60KW) para la iluminación principal y 30KW(Promedio de 20KW) para el patio constructor. \n",
    "\n",
    " \n",
    "\n",
    "Es importante resaltar que en horas de las noches (entre 10pm a las 4am) se identifican hasta 7KW encendidos que pueden representar hasta unos 8MM COP anuales.  "
   ]
  },
  {
   "cell_type": "markdown",
   "metadata": {},
   "source": [
    "### Funza"
   ]
  },
  {
   "cell_type": "markdown",
   "metadata": {},
   "source": [
    "#### Indicadores de desempeño energético (IDE)"
   ]
  },
  {
   "cell_type": "markdown",
   "metadata": {},
   "source": [
    "![Diagrama_proceso_ISO_50001.jpg](figures/EUI_3A.png)"
   ]
  },
  {
   "cell_type": "markdown",
   "metadata": {},
   "source": [
    "De este análisis se puede identificar que la sede está por debajo de la línea base (EUI Base) definido por normativa (60KWh/m2), es decir que su consumo energético es menor a lo que se espera para un Retail de estas características. . Sin embargo, se debe tener en cuenta que la cobertura de medición está en el orden del 20%, que puede cambiar la interpretación de este indicador. "
   ]
  },
  {
   "cell_type": "code",
   "execution_count": null,
   "metadata": {
    "tags": [
     "remove-input"
    ]
   },
   "outputs": [],
   "source": [
    "device_name = 'HC - Funza'\n",
    "office_name = 'Funza'\n",
    "office_label = df_office.query(\"device_name == @device_name\")['device'].mode()[0]"
   ]
  },
  {
   "cell_type": "code",
   "execution_count": null,
   "metadata": {
    "tags": [
     "remove-input"
    ]
   },
   "outputs": [],
   "source": [
    "bar_plot_monthly_cons(df_office_total_cons, device_name, office_name)"
   ]
  },
  {
   "cell_type": "markdown",
   "metadata": {},
   "source": [
    "El consumo mensual promedio de los últimos meses para la tienda ha sido de 57000 kWh/mes "
   ]
  },
  {
   "cell_type": "code",
   "execution_count": null,
   "metadata": {
    "tags": [
     "remove-input"
    ]
   },
   "outputs": [],
   "source": [
    "piechart_zone_cons(df_office_cons, device_name, office_name)"
   ]
  },
  {
   "cell_type": "markdown",
   "metadata": {},
   "source": [
    "En esta tienda más del 50% de la energía consumida está asociada a los consumos de Iluminación lo que supone el mayor foco de interés para temas de optimización de energética. Por otro lado, el segundo consumidor más relevante agrupado en la categoría de otros está asociado principalmente a las cargas del tablero sorter (40%).  "
   ]
  },
  {
   "cell_type": "code",
   "execution_count": null,
   "metadata": {
    "tags": [
     "remove-input"
    ]
   },
   "outputs": [],
   "source": [
    "typical_day(df_office_total_cons, device_name, office_name)"
   ]
  },
  {
   "cell_type": "markdown",
   "metadata": {},
   "source": [
    "Dado que los consumos promedios diarios se mantienen relativamente constantes se presenta una curva de consumo diaria asociada al consumo hora a hora de las instalaciones. Las regiones sombreadas representan un intervalo de confianza de 95% para la línea base. "
   ]
  },
  {
   "cell_type": "code",
   "execution_count": null,
   "metadata": {
    "tags": [
     "remove-input"
    ]
   },
   "outputs": [],
   "source": [
    "bar_plot_daytype_cons(df_office_total_cons, device_name, office_name)"
   ]
  },
  {
   "cell_type": "markdown",
   "metadata": {},
   "source": [
    "Dependiendo del día de la semana, no hay gran variación entre diferenciar un día entre semana, a un sábado o un domingo. En promedio, se consumen unos 2000kWh/día. "
   ]
  },
  {
   "cell_type": "markdown",
   "metadata": {},
   "source": [
    "#### Iluminación"
   ]
  },
  {
   "cell_type": "code",
   "execution_count": null,
   "metadata": {
    "tags": [
     "remove-input"
    ]
   },
   "outputs": [],
   "source": [
    "lighting_typical_day_week(df_office_pa, device_name, office_name)"
   ]
  },
  {
   "cell_type": "markdown",
   "metadata": {},
   "source": [
    "Análisis Consumo Iluminación Tienda – Esta sede cuenta con un sistema que es variable sin un aparente comportamiento regular a pesar de contar con secciones de teja traslucida en cubierta. Dicho lo anterior se ve la posibilidad de control que tenga en cuenta el aporte de la iluminación natural. La demanda pico del sistema de iluminación ronda los 35kW(Promedio de 23KW) siendo esta la mayor demanda en el sistema de iluminación.  \n",
    "\n",
    "Es importante resaltar que en horas de las noches (entre 10pm a las 4am) se identifican hasta 31KW encendidos que pueden representar hasta unos 40MM COP anuales.  Sin embargo, deberá analizarse entendiendo el uso especial de esta sede como centro de distribución. "
   ]
  },
  {
   "cell_type": "markdown",
   "metadata": {},
   "source": [
    "### Tintal"
   ]
  },
  {
   "cell_type": "markdown",
   "metadata": {},
   "source": [
    "#### Indicadores de desempeño energético (IDE)"
   ]
  },
  {
   "cell_type": "markdown",
   "metadata": {},
   "source": [
    "![Diagrama_proceso_ISO_50001.jpg](figures/EUI_3A.png)"
   ]
  },
  {
   "cell_type": "markdown",
   "metadata": {},
   "source": [
    "De este análisis se puede identificar que la sede está por debajo de la línea base (EUI Base) definido por normativa (60KWh/m2), es decir que su consumo energético es menor a lo que se espera para un Retail de estas características.  "
   ]
  },
  {
   "cell_type": "code",
   "execution_count": null,
   "metadata": {
    "tags": [
     "remove-input"
    ]
   },
   "outputs": [],
   "source": [
    "device_name = 'HC - Tintal'\n",
    "office_name = 'Tintal'\n",
    "office_label = df_office.query(\"device_name == @device_name\")['device'].mode()[0]"
   ]
  },
  {
   "cell_type": "code",
   "execution_count": null,
   "metadata": {
    "tags": [
     "remove-input"
    ]
   },
   "outputs": [],
   "source": [
    "bar_plot_monthly_cons(df_office_total_cons, device_name, office_name)"
   ]
  },
  {
   "cell_type": "markdown",
   "metadata": {},
   "source": [
    "El consumo mensual promedio de los últimos meses para la tienda ha sido de 63000 kWh/mes "
   ]
  },
  {
   "cell_type": "code",
   "execution_count": null,
   "metadata": {
    "tags": [
     "remove-input"
    ]
   },
   "outputs": [],
   "source": [
    "piechart_zone_cons(df_office_cons, device_name, office_name)"
   ]
  },
  {
   "cell_type": "markdown",
   "metadata": {},
   "source": [
    "En esta tienda más del 50% de la energía consumida está asociada a los consumos de Iluminación lo que supone el mayor foco de interés para temas de optimización de energética. Por otro lado, el segundo consumidor más relevante agrupado en la categoría de otros está asociado principalmente a Equipos verticales (18%), Oficinas (13%) y concesiones (13%).  "
   ]
  },
  {
   "cell_type": "code",
   "execution_count": null,
   "metadata": {
    "tags": [
     "remove-input"
    ]
   },
   "outputs": [],
   "source": [
    "typical_day(df_office_total_cons, device_name, office_name)"
   ]
  },
  {
   "cell_type": "markdown",
   "metadata": {},
   "source": [
    "Dado que los consumos promedios diarios se mantienen relativamente constantes se presenta una curva de consumo diaria asociada al consumo hora a hora de las instalaciones. Las regiones sombreadas representan un intervalo de confianza de 95% para la línea base. "
   ]
  },
  {
   "cell_type": "code",
   "execution_count": null,
   "metadata": {
    "tags": [
     "remove-input"
    ]
   },
   "outputs": [],
   "source": [
    "bar_plot_daytype_cons(df_office_total_cons, device_name, office_name)"
   ]
  },
  {
   "cell_type": "markdown",
   "metadata": {},
   "source": [
    "Dependiendo del día de la semana, no hay gran variación entre diferenciar un día entre semana, a un sábado o un domingo. En promedio, se consumen unos 2000kWh/día. "
   ]
  },
  {
   "cell_type": "markdown",
   "metadata": {},
   "source": [
    "#### Iluminación"
   ]
  },
  {
   "cell_type": "code",
   "execution_count": null,
   "metadata": {
    "tags": [
     "remove-input"
    ]
   },
   "outputs": [],
   "source": [
    "lighting_typical_day_week(df_office_pa, device_name, office_name, fix_negatives=True)"
   ]
  },
  {
   "cell_type": "markdown",
   "metadata": {},
   "source": [
    "Análisis Consumo Iluminación Tienda – Esta sede cuenta con un sistema que es variable (intervalo considerablemente variable) con un comportamiento regular en el transcurso de los días a pesar de contar con secciones de teja traslucida en cubierta. Dicho lo anterior se ve la posibilidad de control que tenga en cuenta el aporte de la iluminación natural. La demanda pico del sistema de iluminación ronda los 82kW(Promedio de 60KW) para la iluminación principal y 30KW(Promedio de 20KW) para el patio constructor \n",
    "\n",
    "\n",
    "Es importante resaltar que en horas de las noches (entre 10pm a las 4am) se identifican hasta 8KW encendidos que pueden representar hasta unos 10MM COP anuales.  "
   ]
  },
  {
   "cell_type": "markdown",
   "metadata": {},
   "source": [
    "## Mejoras - Medidas para la Eficiencia Energética"
   ]
  },
  {
   "cell_type": "markdown",
   "metadata": {},
   "source": [
    "### Listado de medidas"
   ]
  },
  {
   "cell_type": "markdown",
   "metadata": {},
   "source": [
    "CELSIA como aliado estratégico en procesos de mejora continua y eficiencia energética, tiene toda la disposición de acompañar a Sodimac en la implementación de las estrategias de eficiencias energéticas identificadas. Algunos de las áreas en las que más nos destacamos son:  \n",
    "\n",
    "1. Apoyo en el cambio de tecnologías de HVAC, por las más eficientes del mercado en modalidades de gestión de activos (tu no inviertes, nosotros lo hacemos por ti) o venta directa.\n",
    "\n",
    "2. Plataforma Central de Monitorio y Gestión de Energéticos; que te permitirá no solo monitorear consumos (como lo haces ahora a través de nuestra solución) sino que podrás controlar sistemas como el de iluminación en beneficio de reducir consumos y todo dentro de la misma interfaz.\n",
    "\n",
    "3. Asesoramiento y Estudios adicionales de eficiencia (mediciones específicas) en aquellos consumos más representativos, que puedan darte la tranquilidad de que vas a realizar una inversión inteligente.\n",
    "\n",
    "A continuación, te listamos las oportunidades de mejora que identificamos a través de la asesoría que hoy te estamos brindando:"
   ]
  },
  {
   "cell_type": "markdown",
   "metadata": {},
   "source": [
    "![Diagrama_proceso_ISO_50001.jpg](figures/medidas_02.png)"
   ]
  },
  {
   "cell_type": "markdown",
   "metadata": {},
   "source": [
    "### Matriz de implementación"
   ]
  },
  {
   "cell_type": "markdown",
   "metadata": {},
   "source": [
    "A continuación, podrás ver en cuales de tus sedes son aplicables las estrategias que se identificaron dentro de tus instalaciones:  "
   ]
  },
  {
   "cell_type": "markdown",
   "metadata": {},
   "source": [
    "![Diagrama_proceso_ISO_50001.jpg](figures/recomendaciones.png)"
   ]
  },
  {
   "cell_type": "markdown",
   "metadata": {},
   "source": [
    "¡En Celsia nos encanta acompañarte en la meta de ser más eficientes!"
   ]
  },
  {
   "cell_type": "markdown",
   "metadata": {},
   "source": [
    "![alt text](https://www.celsia.com/wp-content/uploads/2021/11/Celsia-Horizonal-Eslogan_Jpg.jpg)"
   ]
  }
 ],
 "metadata": {
  "kernelspec": {
   "display_name": "Python 3 (ipykernel)",
   "language": "python",
   "name": "python3"
  },
  "language_info": {
   "codemirror_mode": {
    "name": "ipython",
    "version": 3
   },
   "file_extension": ".py",
   "mimetype": "text/x-python",
   "name": "python",
   "nbconvert_exporter": "python",
   "pygments_lexer": "ipython3",
   "version": "3.9.12"
  },
  "vscode": {
   "interpreter": {
    "hash": "3e8543986d11a7095dd1a708864c19914edc7f3db3f09d9443f7bd38b5a3c994"
   }
  }
 },
 "nbformat": 4,
 "nbformat_minor": 4
}
