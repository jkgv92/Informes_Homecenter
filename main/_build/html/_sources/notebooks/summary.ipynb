{
 "cells": [
  {
   "cell_type": "markdown",
   "metadata": {
    "tags": [
     "hide-cell"
    ]
   },
   "source": [
    "# Sección General"
   ]
  },
  {
   "cell_type": "markdown",
   "metadata": {
    "tags": [
     "remove-cell"
    ]
   },
   "source": [
    "## Preambulo oculto"
   ]
  },
  {
   "cell_type": "code",
   "execution_count": null,
   "metadata": {
    "tags": [
     "remove-cell"
    ]
   },
   "outputs": [],
   "source": [
    "# %load_ext autoreload\n",
    "# %autoreload 2\n",
    "import warnings\n",
    "warnings.filterwarnings(\"ignore\")\n",
    "\n",
    "# this cell enables project path relative imports\n",
    "import sys\n",
    "from pathlib import Path\n",
    "path_base_r_string = r'D:\\OneDrive - CELSIA S.A E.S.P'\n",
    "path_base = Path(path_base_r_string)\n",
    "project_path = path_base/'Proyectos'/'Eficiencia_Energetica'/'Homecenter'/'Informes_Homecenter'\n",
    "sys.path.append(str(project_path))"
   ]
  },
  {
   "cell_type": "code",
   "execution_count": null,
   "metadata": {
    "tags": [
     "remove-cell"
    ]
   },
   "outputs": [],
   "source": [
    "# import all your modules here\n",
    "import pandas as pd\n",
    "import numpy as np\n",
    "\n",
    "from matplotlib import pyplot as plt\n",
    "\n",
    "import plotly.express as px\n",
    "import plotly.graph_objects as go\n",
    "import plotly.io as pio\n",
    "pio.renderers.default = \"notebook\"\n",
    "pio.templates.default = \"plotly_white\"\n",
    "\n",
    "from library_ubidots_v2 import Ubidots as ubi\n",
    "from library_report_v2 import Configuration as repcfg\n",
    "from library_report_v2 import Cleaning as cln\n",
    "from library_report_v2 import Graphing as grp\n",
    "from library_report_v2 import Processing as pro"
   ]
  },
  {
   "cell_type": "code",
   "execution_count": null,
   "metadata": {
    "tags": [
     "remove-cell"
    ]
   },
   "outputs": [],
   "source": [
    "df_hvac = pd.read_excel(project_path/'data'/'homecenter_store_cooling_data.xlsx')\n",
    "\n",
    "df_office = pd.read_pickle(project_path/'data'/'office_level_data.pkl')\n",
    "\n",
    "var_to_type = {\n",
    "    'pa-area-de-bots':'otros',\n",
    "    'pa-area-de-corte':'otros',\n",
    "    'pa-car-center':'otros',\n",
    "    'pa-concesiones':'otros',\n",
    "    'pa-equipos-de-climatizacion':'aa',\n",
    "    'pa-equipos-verticales':'otros',\n",
    "    'pa-iluminacion':'ilu',\n",
    "    'pa-iluminacion-parqueaderos':'ilu',\n",
    "    'pa-iluminacion-patio-constructor':'ilu',\n",
    "    'pa-iluminacion-patio-contenedores':'ilu',\n",
    "    'pa-iluminacion-principal':'ilu',\n",
    "    'pa-oficinas-y-servicios':'otros',\n",
    "    'pa-patio-constructor':'otros',\n",
    "    'pa-tablero-sorter':'otros',\n",
    "    'pa-talleres':'otros',\n",
    "\n",
    "    'ea-area-de-bots':'otros',\n",
    "    'ea-area-de-corte':'otros',\n",
    "    'ea-car-center':'otros',\n",
    "    'ea-concesion':'otros',\n",
    "    'ea-concesiones':'otros',\n",
    "    'ea-equipos-de-climatizacion':'aa',\n",
    "    'ea-equipos-verticales':'otros',\n",
    "    'ea-iluminacion':'ilu',\n",
    "    'ea-iluminacion-parqueaderos':'ilu',\n",
    "    'ea-iluminacion-patio-constructor':'ilu',\n",
    "    'ea-iluminacion-patio-contenedores':'ilu',\n",
    "    'ea-iluminacion-principal':'ilu',\n",
    "    'ea-oficinas-y-servicios':'otros',\n",
    "    'ea-patio-constructor':'otros',\n",
    "    'ea-tablero-sorter':'otros',\n",
    "    'ea-talleres':'otros'\n",
    "}\n",
    "\n",
    "\n",
    "df_office['type'] = df_office['variable'].map(var_to_type)\n",
    "\n",
    "# remove aggregate of offices\n",
    "df_office = df_office.query(\"device_name != 'HC - Corporativo'\")\n",
    "\n",
    "name_to_pretty = {\n",
    "    'HC - Barranquilla':'Barranquilla',\n",
    "    'HC - Bello':'Bello',\n",
    "    'HC - Bucaramanga':'Bucaramanga',\n",
    "    'HC - Cali norte':'Cali Norte',\n",
    "    'HC - Cali sur':'Cali Sur',\n",
    "    'HC - Calle 80':'Calle 80',\n",
    "    'HC - Cedritos':'Cedritos',\n",
    "    'HC - Funza':'Funza',\n",
    "    'HC - La Popa':'La Popa',\n",
    "    'HC - Palmira':'Palmira',\n",
    "    'HC - San Fernando':'San Fernando',\n",
    "    'HC - San Juan':'San Juan',\n",
    "    'HC - Tintal':'Tintal',\n",
    "}\n",
    "\n",
    "df_office['pretty_name'] = df_office['device_name'].map(name_to_pretty)\n",
    "\n",
    "# add datetime attributes\n",
    "df_office = pro.datetime_attributes(df_office)\n",
    "\n",
    "\n",
    "# get power per circuit\n",
    "power_vars = set(df_office.loc[df_office.variable.str.startswith('pa-'), 'variable'])\n",
    "power_vars.remove('pa-iluminacion')\n",
    "df_office_pa = df_office[df_office.variable.isin(power_vars)].copy()\n",
    "df_office_pa = cln.remove_outliers_by_zscore(df_office_pa, zscore=5)\n",
    "\n",
    "# get consumption per circuit\n",
    "energy_vars = set(df_office.loc[df_office.variable.str.startswith('ea-'), 'variable'])\n",
    "energy_vars.remove('ea-total')\n",
    "df_office_cons = df_office[df_office.variable.isin(energy_vars)].copy()\n",
    "\n",
    "# get overall office consumption\n",
    "df_office_total_cons = df_office.query(\"variable == 'ea-total'\")\n",
    "df_office_total_cons['type'] = 'total'"
   ]
  },
  {
   "cell_type": "markdown",
   "metadata": {},
   "source": [
    "## 1. Introducción"
   ]
  },
  {
   "cell_type": "markdown",
   "metadata": {},
   "source": [
    "La norma ISO 50001 tiene como objetivo trazar una metodología que permita a las empresas la mejora de la eficiencia energética en sus procesos. Aunque en este informe se presentará el análisis relacionado al consumo actual de la energía basándose en la metodología de dicha norma, es importante el nivel de relacionamiento y compromiso de los diferentes involucrados dentro de Sodimac, ya que esta norma plantea una metodología de mejora y gestión continua para garantizar una debida aplicación, que consiste en planificar, realizar, comprobar y actuar, tal como se presenta en la figura a continuación: "
   ]
  },
  {
   "cell_type": "markdown",
   "metadata": {},
   "source": [
    "| ![Diagrama_proceso_ISO_50001.jpg](http://www.comunidadism.es/wp-content/uploads/2018/10/imagen-1-600x533.png) |\n",
    "|:--:|\n",
    "| <b>Figura 1. Diagrama del proceso ISO 50001. Fuente: AENOR - Norma ISO 50001</b>|"
   ]
  },
  {
   "cell_type": "markdown",
   "metadata": {},
   "source": [
    "Donde la planificación hace referencia a la gestión y seguimiento energético, a través de indicadores de eficiencia energética, objetivos y planes de acción, de acuerdo con la política definida por la empresa. La realización busca la implementación de las medidas propuestas en la fase de planificación, la verificación valida el cumplimiento de indicadores, la política y los objetivos trazados, para finalmente en la acción desarrollar las actividades necesarias para mejorar la eficiencia energética y la herramienta de gestión."
   ]
  },
  {
   "cell_type": "markdown",
   "metadata": {},
   "source": [
    "## 2. Planeación"
   ]
  },
  {
   "cell_type": "markdown",
   "metadata": {},
   "source": [
    "Bajo la metodología de la ISO 50001, y como parte del proceso de planeación se seleccionaron algunas de las sedes Sodimac para realizar un balance energético asociado a la implementación de un sistema de gestión de energía. Celsia como asociado estratégico de este plan, apoyó con la instalación de un sistema de monitoreo integral en relación con los diferentes consumos eléctricos finales.  \n",
    "\n",
    "Como objetivo principal de este proceso se busca la identificación de oportunidades de mejora en eficiencia energética, recordando que este proceso bajo la metodología ISO 50001 es un proceso cíclico de mejora continua."
   ]
  },
  {
   "cell_type": "markdown",
   "metadata": {},
   "source": [
    "## 3. Hacer (Apoyo - Operación)"
   ]
  },
  {
   "cell_type": "markdown",
   "metadata": {},
   "source": [
    "Desde el mes de junio se iniciaron a registrar mediciones de los consumos energéticos a partir de sistemas de monitoreo instalados en las diferentes sedes en donde Celsia ofrece a Sodimac la oportunidad de ver los consumos eléctricos a partir de un acceso web en donde podrá ver discriminadamente los usos finales de energía según lo definido en el proceso de planeación.\n",
    "\n",
    "A partir de lo anterior se definirán las oportunidades de mejora en eficiencia como parte del modelo de gestión de energía para cada una de las sedes analizadas. "
   ]
  },
  {
   "cell_type": "markdown",
   "metadata": {},
   "source": [
    "## 4. Verificación"
   ]
  },
  {
   "cell_type": "markdown",
   "metadata": {},
   "source": [
    "### 4.1 Indicador de Eficiencia Energética\n",
    "\n",
    "A nivel global para normalizar los consumos de energía, uno de los indicadores más utilizados comparar el desempeño energético entre edificaciones es el Energy Use Intensity (EUI), que no es más que una relación entre el consumo eléctrico anual y el área construida.  \n",
    "\n",
    " \n",
    "\n",
    "Normativas e Instituciones como Commercial Buildings Energy Consumption Survey (CBECS), Energy Star y American Society of Heating, Refrigerating and Air-Conditioning Engineers (ASHRAE), tienen definidas algunos EUI base en función del uso y del clima asociado a la localización del inmueble, las zonas climáticas (1A, 2A & 3A) son definidas bajo la metodología definida por ASHRAE.  \n",
    "\n",
    " \n",
    "\n",
    "Para el caso Sodimac se presentan a continuación las tiendas analizadas agrupadas por clima y comparadas con el EUI base según normativa internacional:  "
   ]
  },
  {
   "cell_type": "markdown",
   "metadata": {},
   "source": [
    "| ![EUI_general](figures/EUI_general.png) |\n",
    "|:--:|\n",
    "| <b>Figura 2. Consumos por unidad de área y clima</b>|"
   ]
  },
  {
   "cell_type": "markdown",
   "metadata": {},
   "source": [
    "De este análisis preliminar se puede identificar que sedes como la Popa, Cali Norte, Bello y Bucaramanga son sedes que si bien exceden la línea base (EUI Base) definido por normativa, son sedes que también exceden el consumo de energía en más de un 10% de otras sedes en condiciones climatológicas similares. EUI Base 1A (88KWh/m2) , 2A (80KWh/m2) & 3A (60KWh/m2) \n",
    "\n",
    " \n",
    "\n",
    "Sin embargo, del anterior análisis es importante mencionar que no en todas las sedes se estaba monitoreando el 100% de las cargas, por lo que habrá algunas variaciones en el análisis frente al EUI estimado para cada sede en aquellas donde la cobertura de medición fue menor a 100%. Lo anterior hace que sedes como Barranquilla, San Fernando y Palmira puedan ser susceptibles de mejoras frente a este indicador.  "
   ]
  },
  {
   "cell_type": "code",
   "execution_count": null,
   "metadata": {
    "tags": [
     "remove-input"
    ]
   },
   "outputs": [],
   "source": [
    "df_mean_yearly_cons_kwh = (\n",
    "    (\n",
    "        pd.concat([df_office_cons, df_office_total_cons])\n",
    "        # df_office_total_cons\n",
    "        .groupby(by=['device','device_name','pretty_name', 'type'])['value']\n",
    "        .resample('1D')\n",
    "        .sum()\n",
    "        .reset_index()\n",
    "    )\n",
    "    .groupby(by=['device','device_name','pretty_name', 'type'])['value']\n",
    "    .mean()\n",
    "    .reset_index()\n",
    "    .sort_values(by='value', ascending=False)\n",
    "    .reset_index(drop=True)\n",
    ")\n",
    "\n",
    "df_mean_yearly_cons_kwh['value'] = (\n",
    "    df_mean_yearly_cons_kwh['value']\n",
    "    .astype(float)\n",
    "    * 365.25\n",
    ")\n",
    "\n",
    "df_kpi = pd.merge(\n",
    "    df_mean_yearly_cons_kwh,\n",
    "    df_hvac\n",
    ").sort_values(by='value', ascending=False)\n",
    "\n",
    "\n",
    "df_kpi['total_kwh_per_m2'] = (df_kpi['value'] / df_kpi['sv_area']).round(2)\n",
    "df_kpi = df_kpi.sort_values(by='total_kwh_per_m2', ascending=False)\n",
    "\n",
    "# to get the missing devices we must request all the devices from the account\n",
    "df_devices = ubi.get_available_devices_v2(label=None, level='account', page_size=1000)\n",
    "df_devices = df_devices[df_devices['device_name'].str.startswith('HC - ')]\n",
    "df_devices = df_devices.query(\"device_name != 'HC - Corporativo'\")\n",
    "DEVICE_IDS_TO_REQUEST = list(df_devices['device_id'])\n",
    "df_coords = ubi.get_gps_for_multiple_device_id(DEVICE_IDS_TO_REQUEST)\n",
    "\n",
    "df_map = pd.merge(df_coords, df_kpi.query(\"type == 'total'\"))\n",
    "\n",
    "lataxis_range, lonaxis_range = grp.center_colombia()\n",
    "\n",
    "fig = go.Figure()\n",
    "\n",
    "marker_scaler = repcfg.SCATTERGEO_MAX_MARKER_AREA / df_map[\"total_kwh_per_m2\"].max()\n",
    "\n",
    "fig.add_trace(\n",
    "    go.Scattergeo(\n",
    "        lon = df_map[\"longitude\"],\n",
    "        lat = df_map[\"latitude\"],\n",
    "        text = df_map[\"device_name\"],\n",
    "        fillcolor = repcfg.FULL_PALETTE[0],\n",
    "        # hoverinfo=['device_name', 'consumption_mwh'],\n",
    "        # hoverlabel={'device_name':'Sede', 'consumption_mwh':'Consumo total [MWh]'},\n",
    "        marker = dict(\n",
    "            size = df_map[\"total_kwh_per_m2\"] * marker_scaler,\n",
    "            line_width=0.5,\n",
    "            sizemode = 'area',\n",
    "            color=repcfg.FULL_PALETTE[1],\n",
    "        )\n",
    "    )\n",
    ")\n",
    "\n",
    "fig.update_layout(\n",
    "    title_text=\"Consumo anual de energía activa por unidad de área [kWh/año/m^2]\",\n",
    "    font_family=repcfg.CELSIA_FONT,\n",
    "    font_size=repcfg.PLOTLY_TITLE_FONT_SIZE,\n",
    "    font_color=repcfg.FULL_PALETTE[1],\n",
    "    title_x=repcfg.PLOTLY_TITLE_X,\n",
    "    width=repcfg.JBOOK_PLOTLY_WIDTH,\n",
    "    height=repcfg.JBOOK_PLOTLY_HEIGHT,\n",
    "\n",
    "    margin={\"r\":50,\"t\":50,\"l\":50,\"b\":50},\n",
    "    geo = go.layout.Geo(\n",
    "        resolution = 50,\n",
    "        scope = 'south america',\n",
    "        showframe = True,\n",
    "        showcoastlines = True,\n",
    "        landcolor = repcfg.FULL_PALETTE[0],\n",
    "        countrycolor = \"white\" ,\n",
    "        coastlinecolor = \"white\",\n",
    "        projection_type = 'mercator',\n",
    "        lataxis_range = lataxis_range,\n",
    "        lonaxis_range = lonaxis_range,\n",
    "        projection_scale=20\n",
    "    )\n",
    ")\n",
    "\n",
    "fig.show()"
   ]
  },
  {
   "cell_type": "markdown",
   "metadata": {},
   "source": [
    "En la figura anterior se puede observar la distribución del indicador en el espacio, siendo cada punto una sede monitoreada, y su tamaño equivalente al indicador."
   ]
  },
  {
   "cell_type": "markdown",
   "metadata": {},
   "source": [
    "### 4.2 Consumo General"
   ]
  },
  {
   "cell_type": "markdown",
   "metadata": {},
   "source": [
    "A continuación está el consumo anual esperado por sede."
   ]
  },
  {
   "cell_type": "code",
   "execution_count": null,
   "metadata": {
    "tags": [
     "remove-cell"
    ]
   },
   "outputs": [],
   "source": [
    "df_daily_cons_by_device = (\n",
    "    df_office_total_cons\n",
    "    .groupby(['pretty_name'])['value']\n",
    "    .resample('1D')\n",
    "    .sum()\n",
    "    .reset_index()\n",
    ")\n",
    "\n",
    "df_mean_daily_cons_by_device = (\n",
    "    df_daily_cons_by_device\n",
    "    .groupby(['pretty_name'])['value']\n",
    "    .mean()\n",
    "    .reset_index()\n",
    "    .sort_values(by='value', ascending=False)\n",
    ")\n",
    "\n",
    "df_mean_yearly_cons_by_device = df_mean_daily_cons_by_device\n",
    "\n",
    "df_mean_yearly_cons_by_device['value'] = (\n",
    "    df_mean_daily_cons_by_device['value']\n",
    "    .astype(float)\n",
    "    / 1000000 * 365.25\n",
    ").round(2)"
   ]
  },
  {
   "cell_type": "code",
   "execution_count": null,
   "metadata": {
    "tags": [
     "remove-input"
    ]
   },
   "outputs": [],
   "source": [
    "fig = px.bar(\n",
    "    df_mean_yearly_cons_by_device,\n",
    "    x=\"pretty_name\",\n",
    "    y=\"value\",\n",
    "    labels={'pretty_name':'Sede', 'value':'Consumo anual [GWh]'},\n",
    "    title=\"Consumo anual esperado por sede [GWh]\",\n",
    ")\n",
    "\n",
    "fig.update_layout(\n",
    "    font_family=repcfg.CELSIA_FONT,\n",
    "    font_size=repcfg.PLOTLY_TITLE_FONT_SIZE,\n",
    "    font_color=repcfg.FULL_PALETTE[1],\n",
    "    title_x=repcfg.PLOTLY_TITLE_X,\n",
    "    width=repcfg.JBOOK_PLOTLY_WIDTH,\n",
    "    height=repcfg.JBOOK_PLOTLY_HEIGHT\n",
    ")\n",
    "\n",
    "fig.update_traces(marker_color=grp.hex_to_rgb(repcfg.FULL_PALETTE[0]))\n",
    "\n",
    "fig.update_xaxes(\n",
    "    tickangle=-45\n",
    ")\n",
    "\n",
    "fig.show()"
   ]
  },
  {
   "cell_type": "markdown",
   "metadata": {},
   "source": [
    "### 4.2 Consumos Representativos"
   ]
  },
  {
   "cell_type": "markdown",
   "metadata": {},
   "source": [
    "Los consumos más representativos para las sedes Sodimac se pueden clasificar de la siguiente manera:  \n",
    "\n",
    "- Climas Cálidos - Templados (1A & 2A): Aire Acondicionado e Iluminación. \n",
    "\n",
    "- Climas Fríos (3A): Iluminación y Concesiones.\n",
    "\n",
    "Las siguientes figuras dan una idea de los consumos más significativos y tu relación con las sedes."
   ]
  },
  {
   "cell_type": "code",
   "execution_count": null,
   "metadata": {
    "tags": [
     "remove-input"
    ]
   },
   "outputs": [],
   "source": [
    "df_daily_cons_by_type = (\n",
    "    df_office_cons\n",
    "    .groupby(['type'])['value']\n",
    "    .resample('1D')\n",
    "    .sum()\n",
    "    .reset_index()\n",
    ")\n",
    "\n",
    "df_mean_daily_cons_by_type = (\n",
    "    df_daily_cons_by_type\n",
    "    .groupby(['type'])['value']\n",
    "    .mean()\n",
    "    .reset_index()\n",
    ")\n",
    "\n",
    "df_mean_yearly_cons_by_type = df_mean_daily_cons_by_type\n",
    "\n",
    "df_mean_yearly_cons_by_type['value'] = (\n",
    "    df_mean_yearly_cons_by_type['value']\n",
    "    .astype(float)\n",
    "    / 1000000 * 365.25\n",
    ").round(2)\n",
    "\n",
    "fig = px.pie(\n",
    "    df_mean_daily_cons_by_type, \n",
    "    values=\"value\", \n",
    "    names='type', \n",
    "    hover_data=['value'],\n",
    "    labels={'type':'Tipo', 'value':'Consumo anual [GWh]'},\n",
    "    title=f\"Consumo anual esperado por tipo de carga [GWh]\",\n",
    "    color_discrete_sequence=repcfg.FULL_PALETTE,\n",
    ")\n",
    "\n",
    "fig.update_layout(\n",
    "    font_family=repcfg.CELSIA_FONT,\n",
    "    font_size=repcfg.PLOTLY_TITLE_FONT_SIZE,\n",
    "    font_color=repcfg.FULL_PALETTE[1],\n",
    "    title_x=repcfg.PLOTLY_TITLE_X,\n",
    "    width=repcfg.JBOOK_PLOTLY_WIDTH,\n",
    "    height=repcfg.JBOOK_PLOTLY_HEIGHT\n",
    ")\n",
    "\n",
    "fig.update_traces(\n",
    "    # textposition='inside', \n",
    "    textinfo='percent', \n",
    "    # insidetextorientation='radial'\n",
    ")\n",
    "\n",
    "fig.update(\n",
    "    layout_showlegend=True\n",
    ")\n",
    "\n",
    "fig.show()"
   ]
  },
  {
   "cell_type": "code",
   "execution_count": null,
   "metadata": {
    "tags": [
     "remove-cell"
    ]
   },
   "outputs": [],
   "source": [
    "df_mean_yearly_cons_kwh = (\n",
    "    (\n",
    "        pd.concat([df_office_cons, df_office_total_cons])\n",
    "        # df_office_total_cons\n",
    "        .groupby(by=['device','device_name','pretty_name', 'type'])['value']\n",
    "        .resample('1D')\n",
    "        .sum()\n",
    "        .reset_index()\n",
    "    )\n",
    "    .groupby(by=['device','device_name','pretty_name', 'type'])['value']\n",
    "    .mean()\n",
    "    .reset_index()\n",
    "    .sort_values(by='value', ascending=False)\n",
    "    .reset_index(drop=True)\n",
    ")\n",
    "\n",
    "df_mean_yearly_cons_kwh['value'] = (\n",
    "    df_mean_yearly_cons_kwh['value']\n",
    "    .astype(float)\n",
    "    * 365.25\n",
    ")\n",
    "\n",
    "df_kpi = pd.merge(\n",
    "    df_mean_yearly_cons_kwh,\n",
    "    df_hvac\n",
    ").sort_values(by='value', ascending=False)\n",
    "\n",
    "\n",
    "df_kpi['total_kwh_per_m2'] = (df_kpi['value'] / df_kpi['sv_area']).round(2)\n",
    "df_kpi = df_kpi.sort_values(by='total_kwh_per_m2', ascending=False)"
   ]
  },
  {
   "cell_type": "code",
   "execution_count": null,
   "metadata": {
    "tags": [
     "remove-input"
    ]
   },
   "outputs": [],
   "source": [
    "fig = px.bar(\n",
    "    df_kpi,\n",
    "    x=\"pretty_name\",\n",
    "    y=\"total_kwh_per_m2\",\n",
    "    color='type',\n",
    "    color_discrete_sequence=repcfg.FULL_PALETTE,\n",
    "    barmode='group',\n",
    "    labels={'pretty_name':'Sede', 'total_kwh_per_m2':'Consumo anual específico [kWh/año/m^2]'},\n",
    "    title=\"Consumo anual de energía activa por unidad de área [kWh/año/m^2]\",\n",
    ")\n",
    "\n",
    "fig.update_layout(\n",
    "    font_family=repcfg.CELSIA_FONT,\n",
    "    font_size=repcfg.PLOTLY_TITLE_FONT_SIZE,\n",
    "    font_color=repcfg.FULL_PALETTE[1],\n",
    "    title_x=repcfg.PLOTLY_TITLE_X,\n",
    "    width=repcfg.JBOOK_PLOTLY_WIDTH,\n",
    "    height=repcfg.JBOOK_PLOTLY_HEIGHT\n",
    ")\n",
    "\n",
    "fig.update_xaxes(\n",
    "    tickangle=-45\n",
    ")\n",
    "\n",
    "fig.show()"
   ]
  },
  {
   "cell_type": "code",
   "execution_count": null,
   "metadata": {
    "tags": [
     "remove-input"
    ]
   },
   "outputs": [],
   "source": [
    "# 3-Layer Sankey Diagram\n",
    "# Define the data that goes into Sankey Diagram\n",
    "df_st_ea = df_office_cons\n",
    "layer_1_source_label = 'Consumo total [kWh]'\n",
    "\n",
    "# L3: Total consumption by device and variable\n",
    "df_sankey_layer_3 = df_st_ea.groupby(by=['variable', 'device_name']).agg({'value':np.sum}).reset_index()\n",
    "df_sankey_layer_3.rename(columns={'variable':'target_label', 'device_name':'source_label'}, inplace=True)\n",
    "\n",
    "# L2: Total consumption by device\n",
    "df_sankey_layer_2 =  df_st_ea.groupby(by='device_name').agg({'value':np.sum}).reset_index()\n",
    "df_sankey_layer_2.rename(columns={'consumption_mwh':'value', 'device_name':'target_label'}, inplace=True)\n",
    "df_sankey_layer_2['source_label'] = layer_1_source_label\n",
    "df_sankey_layer_2['value'] = df_sankey_layer_2['value'] # * 1000\n",
    "\n",
    "# L1: Total consumption\n",
    "total_cons = df_st_ea.groupby(by='device_name').agg({'value':np.sum}).reset_index()\n",
    "\n",
    "# Pair nodes with node labels\n",
    "lst_labels_layer_1 = [layer_1_source_label]\n",
    "lst_labels_layer_2 = list(df_sankey_layer_2.sort_values(by='value', ascending=False)['target_label'].unique())\n",
    "lst_labels_layer_3 = list(df_sankey_layer_3.sort_values(by='value', ascending=False)['target_label'].unique())\n",
    "\n",
    "lst_labels = lst_labels_layer_1 + lst_labels_layer_2 + lst_labels_layer_3\n",
    "dct_node_to_label = dict(zip(range(len(lst_labels)), lst_labels))\n",
    "\n",
    "\n",
    "# Assemble Sankey Diagram connectivity matrix\n",
    "# TODO: replace with recursive function:\n",
    "n_nodes_layer_1 = len(lst_labels_layer_1)\n",
    "n_nodes_layer_2 = len(lst_labels_layer_2) # number of devices\n",
    "n_nodes_layer_3 = len(lst_labels_layer_3) # number of distinct variables (sans totalizers)\n",
    "\n",
    "lst_combinations = []\n",
    "for i in range(n_nodes_layer_1):\n",
    "    for j in range(n_nodes_layer_2):\n",
    "        j+=n_nodes_layer_1\n",
    "        for k in range(n_nodes_layer_3):\n",
    "            k+= (n_nodes_layer_1 + n_nodes_layer_2)\n",
    "            lst_combinations.append([i,j,k])\n",
    "\n",
    "np_col_stack = np.column_stack(lst_combinations)\n",
    "\n",
    "df_nodes = pd.DataFrame(\n",
    "    data=[\n",
    "        list(np_col_stack[0]) + list(np_col_stack[1]),\n",
    "        list(np_col_stack[1]) + list(np_col_stack[2])\n",
    "    ]\n",
    ").transpose()\n",
    "\n",
    "df_nodes.rename(columns={0:'source', 1:'target'}, inplace=True)\n",
    "df_nodes['source_label'] = df_nodes['source'].map(dct_node_to_label)\n",
    "df_nodes['target_label'] = df_nodes['target'].map(dct_node_to_label)\n",
    "df_nodes.drop_duplicates(inplace=True)\n",
    "df_nodes.reset_index(drop=True, inplace=True)\n",
    "\n",
    "\n",
    "# Combine into final dataframe\n",
    "df_sankey = pd.merge(df_nodes, df_sankey_layer_2, on=['source_label', 'target_label'], how='outer')\n",
    "df_sankey = pd.merge(df_sankey, df_sankey_layer_3, on=['source_label', 'target_label'], how='outer')\n",
    "df_sankey.loc[df_sankey['value_x'].isna(), 'value_x'] = 0\n",
    "df_sankey.loc[df_sankey['value_y'].isna(), 'value_y'] = 0\n",
    "df_sankey['value'] = df_sankey['value_x'] + df_sankey['value_y']\n",
    "df_sankey.drop(columns=['value_x', 'value_y'], inplace=True)\n",
    "\n",
    "\n",
    "# Draw the Sankey Diagram\n",
    "fig = go.Figure(\n",
    "    data=[\n",
    "        go.Sankey(\n",
    "            node = {\n",
    "                'pad': 15,\n",
    "                'thickness': 15,\n",
    "                'line': {'color': 'black', 'width': 0.5},\n",
    "                'label': lst_labels_layer_1 + list(df_sankey['target_label']) # maybe \"lst_labels_layer_1 + ...\" fixes this?\n",
    "            },\n",
    "            link = {\n",
    "                'source': list(df_sankey['source']),\n",
    "                'target': list(df_sankey['target']),\n",
    "                'value': list(df_sankey['value']),\n",
    "            }\n",
    "        )\n",
    "    ]\n",
    ")\n",
    "\n",
    "fig.update_layout(\n",
    "    title_text=\"Contribución al consumo total de energía activa\",\n",
    "    font_family=repcfg.CELSIA_FONT,\n",
    "    font_size=repcfg.PLOTLY_TITLE_FONT_SIZE,\n",
    "    font_color=repcfg.FULL_PALETTE[1],\n",
    "    title_x=repcfg.PLOTLY_TITLE_X,\n",
    "    width=repcfg.JBOOK_PLOTLY_WIDTH,\n",
    "    height=repcfg.JBOOK_PLOTLY_HEIGHT\n",
    ")\n",
    "\n",
    "fig.show()"
   ]
  },
  {
   "cell_type": "markdown",
   "metadata": {},
   "source": [
    "Te invitamos a revisar los informes detallados para cada sede en la siguiente sección."
   ]
  }
 ],
 "metadata": {
  "kernelspec": {
   "display_name": "Python 3 (ipykernel)",
   "language": "python",
   "name": "python3"
  },
  "language_info": {
   "codemirror_mode": {
    "name": "ipython",
    "version": 3
   },
   "file_extension": ".py",
   "mimetype": "text/x-python",
   "name": "python",
   "nbconvert_exporter": "python",
   "pygments_lexer": "ipython3",
   "version": "3.9.12"
  },
  "vscode": {
   "interpreter": {
    "hash": "3e8543986d11a7095dd1a708864c19914edc7f3db3f09d9443f7bd38b5a3c994"
   }
  }
 },
 "nbformat": 4,
 "nbformat_minor": 4
}
