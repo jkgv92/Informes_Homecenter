{
 "cells": [
  {
   "cell_type": "code",
   "execution_count": 5,
   "metadata": {},
   "outputs": [
    {
     "name": "stdout",
     "output_type": "stream",
     "text": [
      "The autoreload extension is already loaded. To reload it, use:\n",
      "  %reload_ext autoreload\n"
     ]
    }
   ],
   "source": [
    "path_base_r_string = r'D:\\OneDrive - CELSIA S.A E.S.P'\n",
    "\n",
    "%load_ext autoreload\n",
    "%autoreload 2\n",
    "import warnings\n",
    "# warnings.filterwarnings(\"ignore\")"
   ]
  },
  {
   "cell_type": "code",
   "execution_count": 6,
   "metadata": {},
   "outputs": [],
   "source": [
    "# this cell enables project path relative imports\n",
    "import sys\n",
    "from pathlib import Path\n",
    "path_base = Path(path_base_r_string)\n",
    "project_path = path_base / 'Proyectos'/'Eficiencia_Energetica'/'Homecenter'/'Informe_Sodimac_5001'/'informe_final'\n",
    "sys.path.append(str(project_path))"
   ]
  },
  {
   "cell_type": "code",
   "execution_count": 7,
   "metadata": {},
   "outputs": [],
   "source": [
    "# import all your modules here\n",
    "import json\n",
    "import pandas as pd\n",
    "import numpy as np\n",
    "# import config as cfg\n",
    "\n",
    "from library_ubidots_v2 import Ubidots as ubi"
   ]
  },
  {
   "cell_type": "code",
   "execution_count": 12,
   "metadata": {},
   "outputs": [],
   "source": [
    "# most store-level devices are correctly assigned to the homecenter organization\n",
    "df_devices_org = ubi.get_available_devices_v2(label='homecenter', level='organization', page_size=1000)\n",
    "\n",
    "# Devices belonging to the homecenter-sedes device group must be filtered out\n",
    "# as they are intended for the client-side dashboard\n",
    "df_devices_org = df_devices_org[~df_devices_org['device_name'].str.startswith('HC - ')]\n",
    "\n",
    "# to get the missing devices we must request all the devices from the account\n",
    "df_devices_acc = ubi.get_available_devices_v2(label=None, level='account', page_size=1000)\n",
    "\n",
    "# not all stores are properly assigned to the organization\n",
    "df_stores = df_devices_acc[df_devices_acc['device_name'].str.startswith('HC - ')]\n",
    "\n",
    "# then filter out the missing devices\n",
    "store_name_substrings = [\n",
    "    'BAQ - ', # Barranquilla\n",
    "    'Tintal - ', # Tintal\n",
    "    'Bello - ', # Bello\n",
    "    'San Juan - ', # San Juan\n",
    "]\n",
    "\n",
    "lst_df = []\n",
    "for sub_str in store_name_substrings:\n",
    "    is_missing = (df_devices_acc['device_name'].str.startswith(sub_str))\n",
    "    lst_df.append(df_devices_acc[is_missing])\n",
    "\n",
    "df_missing_devices = pd.concat(lst_df)\n",
    "\n",
    "# finally we combine to get a complete set of store-level devices\n",
    "df_devices = pd.concat([df_devices_org, df_missing_devices])"
   ]
  },
  {
   "cell_type": "code",
   "execution_count": 13,
   "metadata": {},
   "outputs": [
    {
     "data": {
      "text/html": [
       "<div>\n",
       "<style scoped>\n",
       "    .dataframe tbody tr th:only-of-type {\n",
       "        vertical-align: middle;\n",
       "    }\n",
       "\n",
       "    .dataframe tbody tr th {\n",
       "        vertical-align: top;\n",
       "    }\n",
       "\n",
       "    .dataframe thead th {\n",
       "        text-align: right;\n",
       "    }\n",
       "</style>\n",
       "<table border=\"1\" class=\"dataframe\">\n",
       "  <thead>\n",
       "    <tr style=\"text-align: right;\">\n",
       "      <th></th>\n",
       "      <th>device_name</th>\n",
       "      <th>device_label</th>\n",
       "      <th>device_id</th>\n",
       "    </tr>\n",
       "  </thead>\n",
       "  <tbody>\n",
       "    <tr>\n",
       "      <th>0</th>\n",
       "      <td>Cali Norte - Tomas Corte y Dimensionado</td>\n",
       "      <td>cali-norte---prueba-tomas-corte</td>\n",
       "      <td>62472c307ae11ca4e9c46b29</td>\n",
       "    </tr>\n",
       "    <tr>\n",
       "      <th>1</th>\n",
       "      <td>Cali Norte - Iluminación Patio Constructor</td>\n",
       "      <td>cali-norte---iluminacion-patio-constructor</td>\n",
       "      <td>623d292cdc4fea1a6acd1c92</td>\n",
       "    </tr>\n",
       "    <tr>\n",
       "      <th>2</th>\n",
       "      <td>Cali Norte - Tomas y Gondolas</td>\n",
       "      <td>cali-norte---tomas-y-gondolas</td>\n",
       "      <td>623d26f55980b1087be5e389</td>\n",
       "    </tr>\n",
       "    <tr>\n",
       "      <th>8</th>\n",
       "      <td>Cali Norte - Concesiones</td>\n",
       "      <td>cali-norte---concesiones</td>\n",
       "      <td>623a20ffe8f980c289d6dcf5</td>\n",
       "    </tr>\n",
       "    <tr>\n",
       "      <th>9</th>\n",
       "      <td>Cali Norte - ML Chiller</td>\n",
       "      <td>cali-norte---ml-chiller</td>\n",
       "      <td>623a1fb34e9390026475b0eb</td>\n",
       "    </tr>\n",
       "    <tr>\n",
       "      <th>...</th>\n",
       "      <td>...</td>\n",
       "      <td>...</td>\n",
       "      <td>...</td>\n",
       "    </tr>\n",
       "    <tr>\n",
       "      <th>456</th>\n",
       "      <td>San Juan - Aires Acondicionados</td>\n",
       "      <td>san-juan---iluminacion-principal</td>\n",
       "      <td>61ef1a7b24b83f5d398f0d2a</td>\n",
       "    </tr>\n",
       "    <tr>\n",
       "      <th>457</th>\n",
       "      <td>San Juan - Puente Grúa</td>\n",
       "      <td>san-juan---puente-grua</td>\n",
       "      <td>61ef1a6324b83f58b23e4a68</td>\n",
       "    </tr>\n",
       "    <tr>\n",
       "      <th>458</th>\n",
       "      <td>San Juan - Iluminación Parqueadero Cubierto</td>\n",
       "      <td>san-juan---iluminacion-parqueadero-cubierto</td>\n",
       "      <td>61ef1a53729df6429a9027d9</td>\n",
       "    </tr>\n",
       "    <tr>\n",
       "      <th>459</th>\n",
       "      <td>San Juan - Iluminación Patio Constructor</td>\n",
       "      <td>san-juan---iluminacion-patio-constructor</td>\n",
       "      <td>61ef1a16cf403e50d400cfe3</td>\n",
       "    </tr>\n",
       "    <tr>\n",
       "      <th>462</th>\n",
       "      <td>San Juan - Corte y dimensionado</td>\n",
       "      <td>san-juan--corte-y-dimensionado</td>\n",
       "      <td>61eab69caf9c15000bad1846</td>\n",
       "    </tr>\n",
       "  </tbody>\n",
       "</table>\n",
       "<p>134 rows × 3 columns</p>\n",
       "</div>"
      ],
      "text/plain": [
       "                                     device_name  \\\n",
       "0        Cali Norte - Tomas Corte y Dimensionado   \n",
       "1     Cali Norte - Iluminación Patio Constructor   \n",
       "2                  Cali Norte - Tomas y Gondolas   \n",
       "8                       Cali Norte - Concesiones   \n",
       "9                        Cali Norte - ML Chiller   \n",
       "..                                           ...   \n",
       "456              San Juan - Aires Acondicionados   \n",
       "457                       San Juan - Puente Grúa   \n",
       "458  San Juan - Iluminación Parqueadero Cubierto   \n",
       "459     San Juan - Iluminación Patio Constructor   \n",
       "462              San Juan - Corte y dimensionado   \n",
       "\n",
       "                                    device_label                 device_id  \n",
       "0                cali-norte---prueba-tomas-corte  62472c307ae11ca4e9c46b29  \n",
       "1     cali-norte---iluminacion-patio-constructor  623d292cdc4fea1a6acd1c92  \n",
       "2                  cali-norte---tomas-y-gondolas  623d26f55980b1087be5e389  \n",
       "8                       cali-norte---concesiones  623a20ffe8f980c289d6dcf5  \n",
       "9                        cali-norte---ml-chiller  623a1fb34e9390026475b0eb  \n",
       "..                                           ...                       ...  \n",
       "456             san-juan---iluminacion-principal  61ef1a7b24b83f5d398f0d2a  \n",
       "457                       san-juan---puente-grua  61ef1a6324b83f58b23e4a68  \n",
       "458  san-juan---iluminacion-parqueadero-cubierto  61ef1a53729df6429a9027d9  \n",
       "459     san-juan---iluminacion-patio-constructor  61ef1a16cf403e50d400cfe3  \n",
       "462               san-juan--corte-y-dimensionado  61eab69caf9c15000bad1846  \n",
       "\n",
       "[134 rows x 3 columns]"
      ]
     },
     "execution_count": 13,
     "metadata": {},
     "output_type": "execute_result"
    }
   ],
   "source": [
    "df_devices"
   ]
  },
  {
   "cell_type": "code",
   "execution_count": null,
   "metadata": {},
   "outputs": [],
   "source": [
    "df_devices_that_are_aa_ilu = pd.read_excel(\"ubidots_device_map.xlsx\", sheet_name='AA-ILU', header=None)\n",
    "df_devices_aa_ilu = df_devices[df_devices['device_name'].isin(list(df_devices_that_are_aa_ilu[0]))].copy()\n",
    "df_devices_aa_ilu['type'] = df_devices_aa_ilu['device_name'].map(dict(zip(df_devices_that_are_aa_ilu[0], df_devices_that_are_aa_ilu[1])))"
   ]
  },
  {
   "cell_type": "code",
   "execution_count": null,
   "metadata": {},
   "outputs": [],
   "source": [
    "DEVICE_IDS_TO_REQUEST = list(df_devices_aa_ilu['device_id'])\n",
    "df_vars_dev = ubi.get_available_variables(DEVICE_IDS_TO_REQUEST)\n",
    "\n",
    "df_vars = pd.merge(\n",
    "    df_devices_aa_ilu,\n",
    "    df_vars_dev,\n",
    "    how='inner'\n",
    ")\n",
    "\n",
    "\n",
    "VAR_IDS_TO_REQUEST = df_vars['variable_id']\n",
    "VAR_ID_TO_LABEL = dict(zip(df_vars['variable_id'], df_vars['variable_label']))"
   ]
  },
  {
   "cell_type": "code",
   "execution_count": null,
   "metadata": {},
   "outputs": [],
   "source": [
    "CHUNK_SIZE = 10\n",
    "DATE_INTERVAL_REQUEST = {'start': '2022-04-01', 'end': '2022-10-31'}\n",
    "\n",
    "df = None\n",
    "lst_responses = []\n",
    "for idx in range(0, ubi.ceildiv(len(VAR_IDS_TO_REQUEST), CHUNK_SIZE)):\n",
    "    idx_start = idx * CHUNK_SIZE\n",
    "    idx_end = (idx + 1) * CHUNK_SIZE\n",
    "    id_request_subset = VAR_IDS_TO_REQUEST[idx_start:idx_end]\n",
    "\n",
    "    response = ubi.make_request(\n",
    "        id_request_subset, \n",
    "        DATE_INTERVAL_REQUEST, \n",
    "    )\n",
    "\n",
    "    lst_responses.append(response)\n",
    "\n",
    "df = ubi.parse_response(lst_responses, VAR_ID_TO_LABEL)\n",
    "pd.to_pickle(df, project_path / \"dataframe.pkl\")"
   ]
  },
  {
   "cell_type": "code",
   "execution_count": null,
   "metadata": {},
   "outputs": [],
   "source": [
    "df"
   ]
  },
  {
   "cell_type": "code",
   "execution_count": null,
   "metadata": {},
   "outputs": [],
   "source": []
  },
  {
   "cell_type": "code",
   "execution_count": null,
   "metadata": {},
   "outputs": [],
   "source": []
  },
  {
   "cell_type": "code",
   "execution_count": null,
   "metadata": {},
   "outputs": [],
   "source": []
  },
  {
   "cell_type": "code",
   "execution_count": null,
   "metadata": {},
   "outputs": [],
   "source": []
  },
  {
   "cell_type": "code",
   "execution_count": null,
   "metadata": {},
   "outputs": [],
   "source": [
    "set(df.loc[df['device'].str.startswith('bello'), 'device'])"
   ]
  },
  {
   "cell_type": "code",
   "execution_count": null,
   "metadata": {},
   "outputs": [],
   "source": [
    "df_plot = df[df['device'] == 'bello---iluminacion-patio-constructor']"
   ]
  },
  {
   "cell_type": "code",
   "execution_count": null,
   "metadata": {},
   "outputs": [],
   "source": [
    "df_plot['value'].plot()"
   ]
  },
  {
   "cell_type": "code",
   "execution_count": null,
   "metadata": {},
   "outputs": [],
   "source": [
    "set(df.variable)"
   ]
  },
  {
   "cell_type": "code",
   "execution_count": null,
   "metadata": {},
   "outputs": [],
   "source": [
    "energy_var_rename = {\n",
    "    'ener':'energia-activa-acumulada',\n",
    "    'energia-activa':'energia-activa',\n",
    "    'energia-activa-acumulada':'energia-activa-acumulada',\n",
    "    'energia-activa-calculada':'energia-activa'\n",
    "}"
   ]
  },
  {
   "cell_type": "code",
   "execution_count": null,
   "metadata": {},
   "outputs": [],
   "source": [
    "df = df['variable'].map()"
   ]
  },
  {
   "cell_type": "code",
   "execution_count": null,
   "metadata": {},
   "outputs": [],
   "source": [
    "df_grouped_vars = df.groupby(['variable', 'device', 'device_name']).count().reset_index()"
   ]
  },
  {
   "cell_type": "code",
   "execution_count": null,
   "metadata": {},
   "outputs": [],
   "source": [
    "from matplotlib import pyplot as plt"
   ]
  },
  {
   "cell_type": "code",
   "execution_count": null,
   "metadata": {},
   "outputs": [],
   "source": [
    "for variable in set(df.variable):\n",
    "    df_sub_var = df.query('variable == @variable')\n",
    "\n",
    "    plt.figure(figsize=(21,7))\n",
    "\n",
    "    for device_name in set(df_sub_var['device_name']):\n",
    "        df_sub_var_dev = df_sub_var.query('device_name == @device_name')\n",
    "\n",
    "        plt.plot(df_sub_var_dev['value'], label=device_name)\n",
    "    \n",
    "    plt.title(variable)\n",
    "    plt.legend()\n",
    "    plt.show()\n",
    "\n"
   ]
  },
  {
   "cell_type": "code",
   "execution_count": null,
   "metadata": {},
   "outputs": [],
   "source": [
    "# df_coords = Report.get_coords_dataframe(list(df_devices['id']))\n",
    "# pd.to_pickle(df_coords, \"data_coordinates.pkl\")"
   ]
  }
 ],
 "metadata": {
  "kernelspec": {
   "display_name": "Python 3.9.12 ('reporte_ubidots')",
   "language": "python",
   "name": "python3"
  },
  "language_info": {
   "codemirror_mode": {
    "name": "ipython",
    "version": 3
   },
   "file_extension": ".py",
   "mimetype": "text/x-python",
   "name": "python",
   "nbconvert_exporter": "python",
   "pygments_lexer": "ipython3",
   "version": "3.9.12"
  },
  "orig_nbformat": 4,
  "vscode": {
   "interpreter": {
    "hash": "3e8543986d11a7095dd1a708864c19914edc7f3db3f09d9443f7bd38b5a3c994"
   }
  }
 },
 "nbformat": 4,
 "nbformat_minor": 2
}
