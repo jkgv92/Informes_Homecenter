{
 "cells": [
  {
   "cell_type": "markdown",
   "metadata": {},
   "source": [
    "# Líneas base de las sedes"
   ]
  },
  {
   "cell_type": "code",
   "execution_count": 1,
   "metadata": {
    "tags": [
     "remove-cell"
    ]
   },
   "outputs": [],
   "source": [
    "# device = 'K0303'\n",
    "# active_power_variable = 'active_power'\n",
    "path_base_r_string = r'D:\\OneDrive - CELSIA S.A E.S.P'\n",
    "\n",
    "%load_ext autoreload\n",
    "%autoreload 2\n",
    "import warnings\n",
    "# warnings.filterwarnings(\"ignore\")"
   ]
  },
  {
   "cell_type": "code",
   "execution_count": 2,
   "metadata": {
    "tags": [
     "remove-cell"
    ]
   },
   "outputs": [],
   "source": [
    "# this cell enables project path relative imports\n",
    "import sys\n",
    "from pathlib import Path\n",
    "path_base = Path(path_base_r_string)\n",
    "project_path = path_base / 'Proyectos' / 'Eficiencia_Energetica' / 'Homecenter' / 'Informe_01'\n",
    "sys.path.append(str(project_path))"
   ]
  },
  {
   "cell_type": "code",
   "execution_count": 3,
   "metadata": {
    "tags": [
     "remove-cell"
    ]
   },
   "outputs": [],
   "source": [
    "# import all your modules here\n",
    "import json\n",
    "import pandas as pd\n",
    "import numpy as np\n",
    "\n",
    "from matplotlib import pyplot as plt\n",
    "\n",
    "import config as cfg\n",
    "\n",
    "from library_ubidots_v2 import Ubidots as ubi\n",
    "from library_report_v2 import Cleaning as cln\n",
    "from library_report_v2 import Graphing as grp\n",
    "from library_report_v2 import Processing as pro\n"
   ]
  },
  {
   "cell_type": "code",
   "execution_count": 4,
   "metadata": {
    "tags": [
     "remove-cell"
    ]
   },
   "outputs": [],
   "source": [
    "df = pd.read_pickle(project_path / \"dataframe.pkl\")\n",
    "df_tag_aa_ilu = pd.read_excel(project_path / \"ubidots_device_map.xlsx\", sheet_name='AA-ILU')\n",
    "\n",
    "# for some reason 'value' dtypes aren't consistent...\n",
    "df['value'] = pd.to_numeric(df['value'], errors='coerce')\n",
    "\n",
    "# merge both tables\n",
    "df = (\n",
    "    pd.merge(\n",
    "        df.reset_index(),\n",
    "        df_tag_aa_ilu,\n",
    "        how='inner'\n",
    "    )\n",
    "    .set_index('datetime')\n",
    ") "
   ]
  },
  {
   "cell_type": "code",
   "execution_count": 5,
   "metadata": {
    "tags": [
     "remove-cell"
    ]
   },
   "outputs": [],
   "source": [
    "dates_to_remove = {\n",
    "    \n",
    "    'cali-norte---torre-de-enfriamiento':[\n",
    "        ['2022-01-01','2022-05-25']\n",
    "    ],\n",
    "    'cali-sur---aires-acondicionados':[\n",
    "        ['2022-01-01','2022-05-25']\n",
    "    ],\n",
    "    'cedritos---iluminacion-patio-constructor':[\n",
    "        ['2022-01-01','2022-05-20']\n",
    "    ],\n",
    "    \n",
    "    'cali-norte---iluminacion-parqueaderos-2':[\n",
    "        ['2022-01-01','2022-04-30']\n",
    "    ],\n",
    "    'cali-norte---iluminacion-principal-2':[\n",
    "        ['2022-01-01','2022-05-25']\n",
    "    ],\n",
    "    'iluminacion---primer-piso':[ # cedritos\n",
    "        ['2022-01-01','2022-12-30']\n",
    "    ],\n",
    "    'cedritos-iluminacion-principal':[\n",
    "        ['2022-05-15','2022-12-30']\n",
    "    ],\n",
    "    'bello---iluminacion-patio-constructor':[\n",
    "        ['2022-01-01','2022-05-25']\n",
    "    ],\n",
    "    'tintal---iluminacion-parqueaderos':[\n",
    "        ['2022-01-01','2022-06-20']\n",
    "    ],\n",
    "    'baq---aire-acondicionado-piso-ventas':[\n",
    "        ['2022-01-01','2022-05-20']\n",
    "    ],\n",
    "}\n",
    "\n",
    "energy_var_rename = {\n",
    "    'ener':'energia-activa-acumulada',\n",
    "    'energia-activa':'energia-activa',\n",
    "    'energia-activa-acumulada':'energia-activa-acumulada',\n",
    "    'energia-activa-calculada':'energia-activa'\n",
    "}"
   ]
  },
  {
   "cell_type": "code",
   "execution_count": 6,
   "metadata": {
    "tags": [
     "remove-cell"
    ]
   },
   "outputs": [],
   "source": [
    "# get (unified) cummulative energy from consumption\n",
    "df_cons = df.query('variable == \"energia-activa\"').copy()\n",
    "df_ea = cln.recover_energy_from_consumption(df_cons, new_varname='energia-activa-acumulada')\n",
    "\n",
    "# get power from energy\n",
    "df_pa_synth = cln.differentiate_single_variable(df_ea, 'potencia-activa-sintetica', remove_gap_data=True)\n",
    "\n",
    "# clean power data\n",
    "df_pa_synth = cln.remove_outliers_by_zscore(df_pa_synth, zscore=5)\n",
    "df_pa_synth = cln.subset_discard_date_intervals(df_pa_synth, dates_to_remove)\n",
    "df_pa_synth = pro.datetime_attributes(df_pa_synth)\n",
    "df_pa_synth = df_pa_synth.query(\"value >= 0\")"
   ]
  },
  {
   "cell_type": "code",
   "execution_count": 7,
   "metadata": {},
   "outputs": [
    {
     "data": {
      "text/html": [
       "<div>\n",
       "<style scoped>\n",
       "    .dataframe tbody tr th:only-of-type {\n",
       "        vertical-align: middle;\n",
       "    }\n",
       "\n",
       "    .dataframe tbody tr th {\n",
       "        vertical-align: top;\n",
       "    }\n",
       "\n",
       "    .dataframe thead th {\n",
       "        text-align: right;\n",
       "    }\n",
       "</style>\n",
       "<table border=\"1\" class=\"dataframe\">\n",
       "  <thead>\n",
       "    <tr style=\"text-align: right;\">\n",
       "      <th></th>\n",
       "      <th>value</th>\n",
       "      <th>variable</th>\n",
       "      <th>device</th>\n",
       "      <th>device_name</th>\n",
       "      <th>type</th>\n",
       "      <th>office_label</th>\n",
       "      <th>hour</th>\n",
       "      <th>day</th>\n",
       "      <th>dow</th>\n",
       "      <th>cont_dow</th>\n",
       "      <th>week</th>\n",
       "      <th>month</th>\n",
       "      <th>year</th>\n",
       "    </tr>\n",
       "    <tr>\n",
       "      <th>datetime</th>\n",
       "      <th></th>\n",
       "      <th></th>\n",
       "      <th></th>\n",
       "      <th></th>\n",
       "      <th></th>\n",
       "      <th></th>\n",
       "      <th></th>\n",
       "      <th></th>\n",
       "      <th></th>\n",
       "      <th></th>\n",
       "      <th></th>\n",
       "      <th></th>\n",
       "      <th></th>\n",
       "    </tr>\n",
       "  </thead>\n",
       "  <tbody>\n",
       "    <tr>\n",
       "      <th>2022-04-01 02:00:00-05:00</th>\n",
       "      <td>0.18</td>\n",
       "      <td>potencia-activa-sintetica</td>\n",
       "      <td>san-fernando---iluminacion-patio-constructor</td>\n",
       "      <td>San Fernando - Iluminación Patio Constructor</td>\n",
       "      <td>ILU</td>\n",
       "      <td>hc-san-fernando</td>\n",
       "      <td>2</td>\n",
       "      <td>1</td>\n",
       "      <td>viernes</td>\n",
       "      <td>4.083333</td>\n",
       "      <td>13</td>\n",
       "      <td>4</td>\n",
       "      <td>2022</td>\n",
       "    </tr>\n",
       "    <tr>\n",
       "      <th>2022-04-01 05:00:00-05:00</th>\n",
       "      <td>4.82</td>\n",
       "      <td>potencia-activa-sintetica</td>\n",
       "      <td>san-fernando---iluminacion-patio-constructor</td>\n",
       "      <td>San Fernando - Iluminación Patio Constructor</td>\n",
       "      <td>ILU</td>\n",
       "      <td>hc-san-fernando</td>\n",
       "      <td>5</td>\n",
       "      <td>1</td>\n",
       "      <td>viernes</td>\n",
       "      <td>4.208333</td>\n",
       "      <td>13</td>\n",
       "      <td>4</td>\n",
       "      <td>2022</td>\n",
       "    </tr>\n",
       "    <tr>\n",
       "      <th>2022-04-01 06:00:00-05:00</th>\n",
       "      <td>17.30</td>\n",
       "      <td>potencia-activa-sintetica</td>\n",
       "      <td>san-fernando---iluminacion-patio-constructor</td>\n",
       "      <td>San Fernando - Iluminación Patio Constructor</td>\n",
       "      <td>ILU</td>\n",
       "      <td>hc-san-fernando</td>\n",
       "      <td>6</td>\n",
       "      <td>1</td>\n",
       "      <td>viernes</td>\n",
       "      <td>4.250000</td>\n",
       "      <td>13</td>\n",
       "      <td>4</td>\n",
       "      <td>2022</td>\n",
       "    </tr>\n",
       "    <tr>\n",
       "      <th>2022-04-01 10:00:00-05:00</th>\n",
       "      <td>25.32</td>\n",
       "      <td>potencia-activa-sintetica</td>\n",
       "      <td>san-fernando---iluminacion-patio-constructor</td>\n",
       "      <td>San Fernando - Iluminación Patio Constructor</td>\n",
       "      <td>ILU</td>\n",
       "      <td>hc-san-fernando</td>\n",
       "      <td>10</td>\n",
       "      <td>1</td>\n",
       "      <td>viernes</td>\n",
       "      <td>4.416667</td>\n",
       "      <td>13</td>\n",
       "      <td>4</td>\n",
       "      <td>2022</td>\n",
       "    </tr>\n",
       "    <tr>\n",
       "      <th>2022-04-01 11:00:00-05:00</th>\n",
       "      <td>25.31</td>\n",
       "      <td>potencia-activa-sintetica</td>\n",
       "      <td>san-fernando---iluminacion-patio-constructor</td>\n",
       "      <td>San Fernando - Iluminación Patio Constructor</td>\n",
       "      <td>ILU</td>\n",
       "      <td>hc-san-fernando</td>\n",
       "      <td>11</td>\n",
       "      <td>1</td>\n",
       "      <td>viernes</td>\n",
       "      <td>4.458333</td>\n",
       "      <td>13</td>\n",
       "      <td>4</td>\n",
       "      <td>2022</td>\n",
       "    </tr>\n",
       "    <tr>\n",
       "      <th>...</th>\n",
       "      <td>...</td>\n",
       "      <td>...</td>\n",
       "      <td>...</td>\n",
       "      <td>...</td>\n",
       "      <td>...</td>\n",
       "      <td>...</td>\n",
       "      <td>...</td>\n",
       "      <td>...</td>\n",
       "      <td>...</td>\n",
       "      <td>...</td>\n",
       "      <td>...</td>\n",
       "      <td>...</td>\n",
       "      <td>...</td>\n",
       "    </tr>\n",
       "    <tr>\n",
       "      <th>2022-10-27 07:00:00-05:00</th>\n",
       "      <td>0.68</td>\n",
       "      <td>potencia-activa-sintetica</td>\n",
       "      <td>san-fernando---iluminacion-parqueaderos</td>\n",
       "      <td>San Fernando - Iluminación Parqueaderos</td>\n",
       "      <td>ILU</td>\n",
       "      <td>hc-san-fernando</td>\n",
       "      <td>7</td>\n",
       "      <td>27</td>\n",
       "      <td>jueves</td>\n",
       "      <td>3.291667</td>\n",
       "      <td>43</td>\n",
       "      <td>10</td>\n",
       "      <td>2022</td>\n",
       "    </tr>\n",
       "    <tr>\n",
       "      <th>2022-10-27 13:00:00-05:00</th>\n",
       "      <td>4.37</td>\n",
       "      <td>potencia-activa-sintetica</td>\n",
       "      <td>san-fernando---iluminacion-parqueaderos</td>\n",
       "      <td>San Fernando - Iluminación Parqueaderos</td>\n",
       "      <td>ILU</td>\n",
       "      <td>hc-san-fernando</td>\n",
       "      <td>13</td>\n",
       "      <td>27</td>\n",
       "      <td>jueves</td>\n",
       "      <td>3.541667</td>\n",
       "      <td>43</td>\n",
       "      <td>10</td>\n",
       "      <td>2022</td>\n",
       "    </tr>\n",
       "    <tr>\n",
       "      <th>2022-10-27 14:00:00-05:00</th>\n",
       "      <td>2.45</td>\n",
       "      <td>potencia-activa-sintetica</td>\n",
       "      <td>san-fernando---iluminacion-parqueaderos</td>\n",
       "      <td>San Fernando - Iluminación Parqueaderos</td>\n",
       "      <td>ILU</td>\n",
       "      <td>hc-san-fernando</td>\n",
       "      <td>14</td>\n",
       "      <td>27</td>\n",
       "      <td>jueves</td>\n",
       "      <td>3.583333</td>\n",
       "      <td>43</td>\n",
       "      <td>10</td>\n",
       "      <td>2022</td>\n",
       "    </tr>\n",
       "    <tr>\n",
       "      <th>2022-10-27 15:00:00-05:00</th>\n",
       "      <td>1.24</td>\n",
       "      <td>potencia-activa-sintetica</td>\n",
       "      <td>san-fernando---iluminacion-parqueaderos</td>\n",
       "      <td>San Fernando - Iluminación Parqueaderos</td>\n",
       "      <td>ILU</td>\n",
       "      <td>hc-san-fernando</td>\n",
       "      <td>15</td>\n",
       "      <td>27</td>\n",
       "      <td>jueves</td>\n",
       "      <td>3.625000</td>\n",
       "      <td>43</td>\n",
       "      <td>10</td>\n",
       "      <td>2022</td>\n",
       "    </tr>\n",
       "    <tr>\n",
       "      <th>2022-10-27 16:00:00-05:00</th>\n",
       "      <td>3.07</td>\n",
       "      <td>potencia-activa-sintetica</td>\n",
       "      <td>san-fernando---iluminacion-parqueaderos</td>\n",
       "      <td>San Fernando - Iluminación Parqueaderos</td>\n",
       "      <td>ILU</td>\n",
       "      <td>hc-san-fernando</td>\n",
       "      <td>16</td>\n",
       "      <td>27</td>\n",
       "      <td>jueves</td>\n",
       "      <td>3.666667</td>\n",
       "      <td>43</td>\n",
       "      <td>10</td>\n",
       "      <td>2022</td>\n",
       "    </tr>\n",
       "  </tbody>\n",
       "</table>\n",
       "<p>163035 rows × 13 columns</p>\n",
       "</div>"
      ],
      "text/plain": [
       "                           value                   variable  \\\n",
       "datetime                                                      \n",
       "2022-04-01 02:00:00-05:00   0.18  potencia-activa-sintetica   \n",
       "2022-04-01 05:00:00-05:00   4.82  potencia-activa-sintetica   \n",
       "2022-04-01 06:00:00-05:00  17.30  potencia-activa-sintetica   \n",
       "2022-04-01 10:00:00-05:00  25.32  potencia-activa-sintetica   \n",
       "2022-04-01 11:00:00-05:00  25.31  potencia-activa-sintetica   \n",
       "...                          ...                        ...   \n",
       "2022-10-27 07:00:00-05:00   0.68  potencia-activa-sintetica   \n",
       "2022-10-27 13:00:00-05:00   4.37  potencia-activa-sintetica   \n",
       "2022-10-27 14:00:00-05:00   2.45  potencia-activa-sintetica   \n",
       "2022-10-27 15:00:00-05:00   1.24  potencia-activa-sintetica   \n",
       "2022-10-27 16:00:00-05:00   3.07  potencia-activa-sintetica   \n",
       "\n",
       "                                                                 device  \\\n",
       "datetime                                                                  \n",
       "2022-04-01 02:00:00-05:00  san-fernando---iluminacion-patio-constructor   \n",
       "2022-04-01 05:00:00-05:00  san-fernando---iluminacion-patio-constructor   \n",
       "2022-04-01 06:00:00-05:00  san-fernando---iluminacion-patio-constructor   \n",
       "2022-04-01 10:00:00-05:00  san-fernando---iluminacion-patio-constructor   \n",
       "2022-04-01 11:00:00-05:00  san-fernando---iluminacion-patio-constructor   \n",
       "...                                                                 ...   \n",
       "2022-10-27 07:00:00-05:00       san-fernando---iluminacion-parqueaderos   \n",
       "2022-10-27 13:00:00-05:00       san-fernando---iluminacion-parqueaderos   \n",
       "2022-10-27 14:00:00-05:00       san-fernando---iluminacion-parqueaderos   \n",
       "2022-10-27 15:00:00-05:00       san-fernando---iluminacion-parqueaderos   \n",
       "2022-10-27 16:00:00-05:00       san-fernando---iluminacion-parqueaderos   \n",
       "\n",
       "                                                            device_name type  \\\n",
       "datetime                                                                       \n",
       "2022-04-01 02:00:00-05:00  San Fernando - Iluminación Patio Constructor  ILU   \n",
       "2022-04-01 05:00:00-05:00  San Fernando - Iluminación Patio Constructor  ILU   \n",
       "2022-04-01 06:00:00-05:00  San Fernando - Iluminación Patio Constructor  ILU   \n",
       "2022-04-01 10:00:00-05:00  San Fernando - Iluminación Patio Constructor  ILU   \n",
       "2022-04-01 11:00:00-05:00  San Fernando - Iluminación Patio Constructor  ILU   \n",
       "...                                                                 ...  ...   \n",
       "2022-10-27 07:00:00-05:00       San Fernando - Iluminación Parqueaderos  ILU   \n",
       "2022-10-27 13:00:00-05:00       San Fernando - Iluminación Parqueaderos  ILU   \n",
       "2022-10-27 14:00:00-05:00       San Fernando - Iluminación Parqueaderos  ILU   \n",
       "2022-10-27 15:00:00-05:00       San Fernando - Iluminación Parqueaderos  ILU   \n",
       "2022-10-27 16:00:00-05:00       San Fernando - Iluminación Parqueaderos  ILU   \n",
       "\n",
       "                              office_label  hour  day      dow  cont_dow  \\\n",
       "datetime                                                                   \n",
       "2022-04-01 02:00:00-05:00  hc-san-fernando     2    1  viernes  4.083333   \n",
       "2022-04-01 05:00:00-05:00  hc-san-fernando     5    1  viernes  4.208333   \n",
       "2022-04-01 06:00:00-05:00  hc-san-fernando     6    1  viernes  4.250000   \n",
       "2022-04-01 10:00:00-05:00  hc-san-fernando    10    1  viernes  4.416667   \n",
       "2022-04-01 11:00:00-05:00  hc-san-fernando    11    1  viernes  4.458333   \n",
       "...                                    ...   ...  ...      ...       ...   \n",
       "2022-10-27 07:00:00-05:00  hc-san-fernando     7   27   jueves  3.291667   \n",
       "2022-10-27 13:00:00-05:00  hc-san-fernando    13   27   jueves  3.541667   \n",
       "2022-10-27 14:00:00-05:00  hc-san-fernando    14   27   jueves  3.583333   \n",
       "2022-10-27 15:00:00-05:00  hc-san-fernando    15   27   jueves  3.625000   \n",
       "2022-10-27 16:00:00-05:00  hc-san-fernando    16   27   jueves  3.666667   \n",
       "\n",
       "                           week  month  year  \n",
       "datetime                                      \n",
       "2022-04-01 02:00:00-05:00    13      4  2022  \n",
       "2022-04-01 05:00:00-05:00    13      4  2022  \n",
       "2022-04-01 06:00:00-05:00    13      4  2022  \n",
       "2022-04-01 10:00:00-05:00    13      4  2022  \n",
       "2022-04-01 11:00:00-05:00    13      4  2022  \n",
       "...                         ...    ...   ...  \n",
       "2022-10-27 07:00:00-05:00    43     10  2022  \n",
       "2022-10-27 13:00:00-05:00    43     10  2022  \n",
       "2022-10-27 14:00:00-05:00    43     10  2022  \n",
       "2022-10-27 15:00:00-05:00    43     10  2022  \n",
       "2022-10-27 16:00:00-05:00    43     10  2022  \n",
       "\n",
       "[163035 rows x 13 columns]"
      ]
     },
     "execution_count": 7,
     "metadata": {},
     "output_type": "execute_result"
    }
   ],
   "source": [
    "df_pa_synth"
   ]
  },
  {
   "cell_type": "markdown",
   "metadata": {},
   "source": [
    "## Resultados:\n",
    "\n",
    "<!-- Plotly curva horaria por circuito en la sede:\n",
    "- Para AA\n",
    "- Para Iluminación\n",
    "- Para el total\n",
    "\n",
    "Curva de KPI (kWh/m^2/año) por sede\n",
    "\n",
    "Series de tiempo de consumos mensuales (bar plot)\n",
    "\n",
    "Figura de consumo energético por tipo de día de la semana\n",
    "\n",
    "\n",
    "\n",
    "Bell y San Juan dejan la iluminación prendida -->\n"
   ]
  },
  {
   "cell_type": "code",
   "execution_count": 8,
   "metadata": {
    "tags": [
     "remove-cell"
    ]
   },
   "outputs": [],
   "source": [
    "def office_cell_function(df_office, office_name):\n",
    "\n",
    "    df_day_by_hour = (\n",
    "        df_office\n",
    "        .reset_index()\n",
    "        .groupby(['office_label','type','device_name','hour'])['value']\n",
    "        .agg(['median','mean','std','min',pro.q_low,pro.q_high,'max','count'])\n",
    "        .reset_index()\n",
    "    )\n",
    "\n",
    "    df_week_by_day = (\n",
    "        df_office\n",
    "        .reset_index()\n",
    "        .groupby(['office_label','type','device_name','cont_dow'])['value']\n",
    "        .agg(['median','mean','std','min',pro.q_low,pro.q_high,'max','count'])\n",
    "        .reset_index()\n",
    "    )\n",
    "\n",
    "    grp.plot_typical_day_by_hour(\n",
    "        df_day_by_hour.query(\"type == 'AA'\"), \n",
    "        subset='device_name', \n",
    "        title=f\"Día típico para los equipos de climatización en la sede de {office_name}\", \n",
    "        legend=True, \n",
    "        include_ci=True, \n",
    "        fill_ci=True\n",
    "    )\n",
    "\n",
    "    grp.plot_typical_day_by_hour(\n",
    "        df_day_by_hour.query(\"type == 'ILU'\"), \n",
    "        subset='device_name', \n",
    "        title=f\"Día típico para la iluminación en la sede de {office_name}\", \n",
    "        legend=True, \n",
    "        include_ci=True, \n",
    "        fill_ci=True\n",
    "    )\n",
    "    \n",
    "    grp.plot_typical_week_by_day(\n",
    "        df_week_by_day.query(\"type == 'AA'\"),\n",
    "        subset='device_name',  \n",
    "        title=f\"Semana típica para los equipos de climatización en la sede de {office_name}\",\n",
    "        legend=True, \n",
    "        include_ci=True, \n",
    "        fill_ci=True\n",
    "    )\n",
    "\n",
    "    grp.plot_typical_week_by_day(\n",
    "        df_week_by_day.query(\"type == 'ILU'\"),\n",
    "        subset='device_name',  \n",
    "        title=f\"Semana típica para la iluminación en la sede de {office_name}\",\n",
    "        legend=True, \n",
    "        include_ci=True, \n",
    "        fill_ci=True\n",
    "    )"
   ]
  },
  {
   "cell_type": "code",
   "execution_count": 12,
   "metadata": {},
   "outputs": [],
   "source": [
    "df_cons = pro.datetime_attributes(df_cons)"
   ]
  },
  {
   "cell_type": "code",
   "execution_count": 13,
   "metadata": {},
   "outputs": [
    {
     "data": {
      "text/html": [
       "<div>\n",
       "<style scoped>\n",
       "    .dataframe tbody tr th:only-of-type {\n",
       "        vertical-align: middle;\n",
       "    }\n",
       "\n",
       "    .dataframe tbody tr th {\n",
       "        vertical-align: top;\n",
       "    }\n",
       "\n",
       "    .dataframe thead th {\n",
       "        text-align: right;\n",
       "    }\n",
       "</style>\n",
       "<table border=\"1\" class=\"dataframe\">\n",
       "  <thead>\n",
       "    <tr style=\"text-align: right;\">\n",
       "      <th></th>\n",
       "      <th>value</th>\n",
       "      <th>variable</th>\n",
       "      <th>device</th>\n",
       "      <th>device_name</th>\n",
       "      <th>type</th>\n",
       "      <th>office_label</th>\n",
       "      <th>hour</th>\n",
       "      <th>day</th>\n",
       "      <th>dow</th>\n",
       "      <th>cont_dow</th>\n",
       "      <th>week</th>\n",
       "      <th>month</th>\n",
       "      <th>year</th>\n",
       "    </tr>\n",
       "    <tr>\n",
       "      <th>datetime</th>\n",
       "      <th></th>\n",
       "      <th></th>\n",
       "      <th></th>\n",
       "      <th></th>\n",
       "      <th></th>\n",
       "      <th></th>\n",
       "      <th></th>\n",
       "      <th></th>\n",
       "      <th></th>\n",
       "      <th></th>\n",
       "      <th></th>\n",
       "      <th></th>\n",
       "      <th></th>\n",
       "    </tr>\n",
       "  </thead>\n",
       "  <tbody>\n",
       "    <tr>\n",
       "      <th>2022-10-27 14:00:00-05:00</th>\n",
       "      <td>50.69</td>\n",
       "      <td>energia-activa</td>\n",
       "      <td>cali-norte---iluminacion-patio-constructor</td>\n",
       "      <td>Cali Norte - Iluminación Patio Constructor</td>\n",
       "      <td>ILU</td>\n",
       "      <td>hc---cali-norte</td>\n",
       "      <td>14</td>\n",
       "      <td>27</td>\n",
       "      <td>jueves</td>\n",
       "      <td>3.583333</td>\n",
       "      <td>43</td>\n",
       "      <td>10</td>\n",
       "      <td>2022</td>\n",
       "    </tr>\n",
       "    <tr>\n",
       "      <th>2022-10-27 12:00:00-05:00</th>\n",
       "      <td>84.50</td>\n",
       "      <td>energia-activa</td>\n",
       "      <td>cali-norte---iluminacion-patio-constructor</td>\n",
       "      <td>Cali Norte - Iluminación Patio Constructor</td>\n",
       "      <td>ILU</td>\n",
       "      <td>hc---cali-norte</td>\n",
       "      <td>12</td>\n",
       "      <td>27</td>\n",
       "      <td>jueves</td>\n",
       "      <td>3.500000</td>\n",
       "      <td>43</td>\n",
       "      <td>10</td>\n",
       "      <td>2022</td>\n",
       "    </tr>\n",
       "    <tr>\n",
       "      <th>2022-10-27 10:00:00-05:00</th>\n",
       "      <td>42.25</td>\n",
       "      <td>energia-activa</td>\n",
       "      <td>cali-norte---iluminacion-patio-constructor</td>\n",
       "      <td>Cali Norte - Iluminación Patio Constructor</td>\n",
       "      <td>ILU</td>\n",
       "      <td>hc---cali-norte</td>\n",
       "      <td>10</td>\n",
       "      <td>27</td>\n",
       "      <td>jueves</td>\n",
       "      <td>3.416667</td>\n",
       "      <td>43</td>\n",
       "      <td>10</td>\n",
       "      <td>2022</td>\n",
       "    </tr>\n",
       "    <tr>\n",
       "      <th>2022-10-27 09:00:00-05:00</th>\n",
       "      <td>8.45</td>\n",
       "      <td>energia-activa</td>\n",
       "      <td>cali-norte---iluminacion-patio-constructor</td>\n",
       "      <td>Cali Norte - Iluminación Patio Constructor</td>\n",
       "      <td>ILU</td>\n",
       "      <td>hc---cali-norte</td>\n",
       "      <td>9</td>\n",
       "      <td>27</td>\n",
       "      <td>jueves</td>\n",
       "      <td>3.375000</td>\n",
       "      <td>43</td>\n",
       "      <td>10</td>\n",
       "      <td>2022</td>\n",
       "    </tr>\n",
       "    <tr>\n",
       "      <th>2022-10-27 08:00:00-05:00</th>\n",
       "      <td>51.11</td>\n",
       "      <td>energia-activa</td>\n",
       "      <td>cali-norte---iluminacion-patio-constructor</td>\n",
       "      <td>Cali Norte - Iluminación Patio Constructor</td>\n",
       "      <td>ILU</td>\n",
       "      <td>hc---cali-norte</td>\n",
       "      <td>8</td>\n",
       "      <td>27</td>\n",
       "      <td>jueves</td>\n",
       "      <td>3.333333</td>\n",
       "      <td>43</td>\n",
       "      <td>10</td>\n",
       "      <td>2022</td>\n",
       "    </tr>\n",
       "    <tr>\n",
       "      <th>...</th>\n",
       "      <td>...</td>\n",
       "      <td>...</td>\n",
       "      <td>...</td>\n",
       "      <td>...</td>\n",
       "      <td>...</td>\n",
       "      <td>...</td>\n",
       "      <td>...</td>\n",
       "      <td>...</td>\n",
       "      <td>...</td>\n",
       "      <td>...</td>\n",
       "      <td>...</td>\n",
       "      <td>...</td>\n",
       "      <td>...</td>\n",
       "    </tr>\n",
       "    <tr>\n",
       "      <th>2022-04-04 21:00:00-05:00</th>\n",
       "      <td>96.00</td>\n",
       "      <td>energia-activa</td>\n",
       "      <td>san-juan---iluminacion-patio-constructor</td>\n",
       "      <td>San Juan - Iluminación Patio Constructor</td>\n",
       "      <td>ILU</td>\n",
       "      <td>hc-san-juan</td>\n",
       "      <td>21</td>\n",
       "      <td>4</td>\n",
       "      <td>lunes</td>\n",
       "      <td>0.875000</td>\n",
       "      <td>14</td>\n",
       "      <td>4</td>\n",
       "      <td>2022</td>\n",
       "    </tr>\n",
       "    <tr>\n",
       "      <th>2022-04-04 20:00:00-05:00</th>\n",
       "      <td>52.00</td>\n",
       "      <td>energia-activa</td>\n",
       "      <td>san-juan---iluminacion-patio-constructor</td>\n",
       "      <td>San Juan - Iluminación Patio Constructor</td>\n",
       "      <td>ILU</td>\n",
       "      <td>hc-san-juan</td>\n",
       "      <td>20</td>\n",
       "      <td>4</td>\n",
       "      <td>lunes</td>\n",
       "      <td>0.833333</td>\n",
       "      <td>14</td>\n",
       "      <td>4</td>\n",
       "      <td>2022</td>\n",
       "    </tr>\n",
       "    <tr>\n",
       "      <th>2022-04-04 19:00:00-05:00</th>\n",
       "      <td>183.00</td>\n",
       "      <td>energia-activa</td>\n",
       "      <td>san-juan---iluminacion-patio-constructor</td>\n",
       "      <td>San Juan - Iluminación Patio Constructor</td>\n",
       "      <td>ILU</td>\n",
       "      <td>hc-san-juan</td>\n",
       "      <td>19</td>\n",
       "      <td>4</td>\n",
       "      <td>lunes</td>\n",
       "      <td>0.791667</td>\n",
       "      <td>14</td>\n",
       "      <td>4</td>\n",
       "      <td>2022</td>\n",
       "    </tr>\n",
       "    <tr>\n",
       "      <th>2022-04-03 23:00:00-05:00</th>\n",
       "      <td>0.00</td>\n",
       "      <td>energia-activa</td>\n",
       "      <td>san-juan---iluminacion-patio-constructor</td>\n",
       "      <td>San Juan - Iluminación Patio Constructor</td>\n",
       "      <td>ILU</td>\n",
       "      <td>hc-san-juan</td>\n",
       "      <td>23</td>\n",
       "      <td>3</td>\n",
       "      <td>domingo</td>\n",
       "      <td>6.958333</td>\n",
       "      <td>13</td>\n",
       "      <td>4</td>\n",
       "      <td>2022</td>\n",
       "    </tr>\n",
       "    <tr>\n",
       "      <th>2022-04-03 22:00:00-05:00</th>\n",
       "      <td>0.00</td>\n",
       "      <td>energia-activa</td>\n",
       "      <td>san-juan---iluminacion-patio-constructor</td>\n",
       "      <td>San Juan - Iluminación Patio Constructor</td>\n",
       "      <td>ILU</td>\n",
       "      <td>hc-san-juan</td>\n",
       "      <td>22</td>\n",
       "      <td>3</td>\n",
       "      <td>domingo</td>\n",
       "      <td>6.916667</td>\n",
       "      <td>13</td>\n",
       "      <td>4</td>\n",
       "      <td>2022</td>\n",
       "    </tr>\n",
       "  </tbody>\n",
       "</table>\n",
       "<p>208490 rows × 13 columns</p>\n",
       "</div>"
      ],
      "text/plain": [
       "                            value        variable  \\\n",
       "datetime                                            \n",
       "2022-10-27 14:00:00-05:00   50.69  energia-activa   \n",
       "2022-10-27 12:00:00-05:00   84.50  energia-activa   \n",
       "2022-10-27 10:00:00-05:00   42.25  energia-activa   \n",
       "2022-10-27 09:00:00-05:00    8.45  energia-activa   \n",
       "2022-10-27 08:00:00-05:00   51.11  energia-activa   \n",
       "...                           ...             ...   \n",
       "2022-04-04 21:00:00-05:00   96.00  energia-activa   \n",
       "2022-04-04 20:00:00-05:00   52.00  energia-activa   \n",
       "2022-04-04 19:00:00-05:00  183.00  energia-activa   \n",
       "2022-04-03 23:00:00-05:00    0.00  energia-activa   \n",
       "2022-04-03 22:00:00-05:00    0.00  energia-activa   \n",
       "\n",
       "                                                               device  \\\n",
       "datetime                                                                \n",
       "2022-10-27 14:00:00-05:00  cali-norte---iluminacion-patio-constructor   \n",
       "2022-10-27 12:00:00-05:00  cali-norte---iluminacion-patio-constructor   \n",
       "2022-10-27 10:00:00-05:00  cali-norte---iluminacion-patio-constructor   \n",
       "2022-10-27 09:00:00-05:00  cali-norte---iluminacion-patio-constructor   \n",
       "2022-10-27 08:00:00-05:00  cali-norte---iluminacion-patio-constructor   \n",
       "...                                                               ...   \n",
       "2022-04-04 21:00:00-05:00    san-juan---iluminacion-patio-constructor   \n",
       "2022-04-04 20:00:00-05:00    san-juan---iluminacion-patio-constructor   \n",
       "2022-04-04 19:00:00-05:00    san-juan---iluminacion-patio-constructor   \n",
       "2022-04-03 23:00:00-05:00    san-juan---iluminacion-patio-constructor   \n",
       "2022-04-03 22:00:00-05:00    san-juan---iluminacion-patio-constructor   \n",
       "\n",
       "                                                          device_name type  \\\n",
       "datetime                                                                     \n",
       "2022-10-27 14:00:00-05:00  Cali Norte - Iluminación Patio Constructor  ILU   \n",
       "2022-10-27 12:00:00-05:00  Cali Norte - Iluminación Patio Constructor  ILU   \n",
       "2022-10-27 10:00:00-05:00  Cali Norte - Iluminación Patio Constructor  ILU   \n",
       "2022-10-27 09:00:00-05:00  Cali Norte - Iluminación Patio Constructor  ILU   \n",
       "2022-10-27 08:00:00-05:00  Cali Norte - Iluminación Patio Constructor  ILU   \n",
       "...                                                               ...  ...   \n",
       "2022-04-04 21:00:00-05:00    San Juan - Iluminación Patio Constructor  ILU   \n",
       "2022-04-04 20:00:00-05:00    San Juan - Iluminación Patio Constructor  ILU   \n",
       "2022-04-04 19:00:00-05:00    San Juan - Iluminación Patio Constructor  ILU   \n",
       "2022-04-03 23:00:00-05:00    San Juan - Iluminación Patio Constructor  ILU   \n",
       "2022-04-03 22:00:00-05:00    San Juan - Iluminación Patio Constructor  ILU   \n",
       "\n",
       "                              office_label  hour  day      dow  cont_dow  \\\n",
       "datetime                                                                   \n",
       "2022-10-27 14:00:00-05:00  hc---cali-norte    14   27   jueves  3.583333   \n",
       "2022-10-27 12:00:00-05:00  hc---cali-norte    12   27   jueves  3.500000   \n",
       "2022-10-27 10:00:00-05:00  hc---cali-norte    10   27   jueves  3.416667   \n",
       "2022-10-27 09:00:00-05:00  hc---cali-norte     9   27   jueves  3.375000   \n",
       "2022-10-27 08:00:00-05:00  hc---cali-norte     8   27   jueves  3.333333   \n",
       "...                                    ...   ...  ...      ...       ...   \n",
       "2022-04-04 21:00:00-05:00      hc-san-juan    21    4    lunes  0.875000   \n",
       "2022-04-04 20:00:00-05:00      hc-san-juan    20    4    lunes  0.833333   \n",
       "2022-04-04 19:00:00-05:00      hc-san-juan    19    4    lunes  0.791667   \n",
       "2022-04-03 23:00:00-05:00      hc-san-juan    23    3  domingo  6.958333   \n",
       "2022-04-03 22:00:00-05:00      hc-san-juan    22    3  domingo  6.916667   \n",
       "\n",
       "                           week  month  year  \n",
       "datetime                                      \n",
       "2022-10-27 14:00:00-05:00    43     10  2022  \n",
       "2022-10-27 12:00:00-05:00    43     10  2022  \n",
       "2022-10-27 10:00:00-05:00    43     10  2022  \n",
       "2022-10-27 09:00:00-05:00    43     10  2022  \n",
       "2022-10-27 08:00:00-05:00    43     10  2022  \n",
       "...                         ...    ...   ...  \n",
       "2022-04-04 21:00:00-05:00    14      4  2022  \n",
       "2022-04-04 20:00:00-05:00    14      4  2022  \n",
       "2022-04-04 19:00:00-05:00    14      4  2022  \n",
       "2022-04-03 23:00:00-05:00    13      4  2022  \n",
       "2022-04-03 22:00:00-05:00    13      4  2022  \n",
       "\n",
       "[208490 rows x 13 columns]"
      ]
     },
     "execution_count": 13,
     "metadata": {},
     "output_type": "execute_result"
    }
   ],
   "source": [
    "df_cons"
   ]
  },
  {
   "cell_type": "code",
   "execution_count": null,
   "metadata": {},
   "outputs": [],
   "source": [
    "\n",
    "(\n",
    "    df_ea\n",
    "    .groupby(by=['office_label','','',''])\n",
    ")"
   ]
  },
  {
   "cell_type": "code",
   "execution_count": null,
   "metadata": {},
   "outputs": [],
   "source": []
  },
  {
   "cell_type": "code",
   "execution_count": null,
   "metadata": {},
   "outputs": [],
   "source": []
  },
  {
   "cell_type": "code",
   "execution_count": null,
   "metadata": {},
   "outputs": [],
   "source": []
  },
  {
   "cell_type": "markdown",
   "metadata": {},
   "source": [
    "### Barranquilla"
   ]
  },
  {
   "cell_type": "code",
   "execution_count": null,
   "metadata": {
    "tags": [
     "remove-input"
    ]
   },
   "outputs": [],
   "source": [
    "office_name = 'Barranquilla'\n",
    "office_label = 'hc-baq'\n",
    "df_office = df_pa_synth.query(\"office_label == @office_label\")\n",
    "office_cell_function(df_office, office_name)"
   ]
  },
  {
   "cell_type": "markdown",
   "metadata": {},
   "source": [
    "### Bello"
   ]
  },
  {
   "cell_type": "code",
   "execution_count": null,
   "metadata": {
    "tags": [
     "remove-input"
    ]
   },
   "outputs": [],
   "source": [
    "office_name = 'Bello'\n",
    "office_label = 'hc-bello'\n",
    "df_office = df_pa_synth.query(\"office_label == @office_label\")\n",
    "office_cell_function(df_office, office_name)"
   ]
  },
  {
   "cell_type": "markdown",
   "metadata": {},
   "source": [
    "### Bucaramanga"
   ]
  },
  {
   "cell_type": "code",
   "execution_count": null,
   "metadata": {
    "tags": [
     "remove-input"
    ]
   },
   "outputs": [],
   "source": [
    "office_name = 'Bucaramanga'\n",
    "office_label = 'hc---bucaramanga'\n",
    "df_office = df_pa_synth.query(\"office_label == @office_label\")\n",
    "office_cell_function(df_office, office_name)"
   ]
  },
  {
   "cell_type": "markdown",
   "metadata": {},
   "source": [
    "### Cali Norte"
   ]
  },
  {
   "cell_type": "code",
   "execution_count": null,
   "metadata": {
    "tags": [
     "remove-input"
    ]
   },
   "outputs": [],
   "source": [
    "office_name = 'Cali Norte'\n",
    "office_label = 'hc---cali-norte'\n",
    "df_office = df_pa_synth.query(\"office_label == @office_label\")\n",
    "office_cell_function(df_office, office_name)"
   ]
  },
  {
   "cell_type": "markdown",
   "metadata": {},
   "source": [
    "### Cali Sur"
   ]
  },
  {
   "cell_type": "code",
   "execution_count": null,
   "metadata": {
    "tags": [
     "remove-input"
    ]
   },
   "outputs": [],
   "source": [
    "office_name = 'Cali Sur'\n",
    "office_label = 'hc-cali-sur'\n",
    "df_office = df_pa_synth.query(\"office_label == @office_label\")\n",
    "office_cell_function(df_office, office_name)"
   ]
  },
  {
   "cell_type": "markdown",
   "metadata": {},
   "source": [
    "### Calle 80"
   ]
  },
  {
   "cell_type": "code",
   "execution_count": null,
   "metadata": {
    "tags": [
     "remove-input"
    ]
   },
   "outputs": [],
   "source": [
    "office_name = 'Calle 80'\n",
    "office_label = 'calle-80'\n",
    "df_office = df_pa_synth.query(\"office_label == @office_label\")\n",
    "office_cell_function(df_office, office_name)"
   ]
  },
  {
   "cell_type": "markdown",
   "metadata": {},
   "source": [
    "### Cedritos"
   ]
  },
  {
   "cell_type": "code",
   "execution_count": null,
   "metadata": {
    "tags": [
     "remove-input"
    ]
   },
   "outputs": [],
   "source": [
    "office_name = 'Cedritos'\n",
    "office_label = 'cedritos'\n",
    "df_office = df_pa_synth.query(\"office_label == @office_label\")\n",
    "office_cell_function(df_office, office_name)"
   ]
  },
  {
   "cell_type": "markdown",
   "metadata": {},
   "source": [
    "### Funza"
   ]
  },
  {
   "cell_type": "code",
   "execution_count": null,
   "metadata": {
    "tags": [
     "remove-input"
    ]
   },
   "outputs": [],
   "source": [
    "office_name = 'Funza'\n",
    "office_label = 'hc-funza'\n",
    "df_office = df_pa_synth.query(\"office_label == @office_label\")\n",
    "office_cell_function(df_office, office_name)"
   ]
  },
  {
   "cell_type": "markdown",
   "metadata": {},
   "source": [
    "### La Popa"
   ]
  },
  {
   "cell_type": "code",
   "execution_count": null,
   "metadata": {
    "tags": [
     "remove-input"
    ]
   },
   "outputs": [],
   "source": [
    "office_name = 'La Popa'\n",
    "office_label = 'hc-la-popa'\n",
    "df_office = df_pa_synth.query(\"office_label == @office_label\")\n",
    "office_cell_function(df_office, office_name)"
   ]
  },
  {
   "cell_type": "markdown",
   "metadata": {},
   "source": [
    "### Palmira"
   ]
  },
  {
   "cell_type": "code",
   "execution_count": null,
   "metadata": {
    "tags": [
     "remove-input"
    ]
   },
   "outputs": [],
   "source": [
    "office_name = 'Palmira'\n",
    "office_label = 'hc---palmira'\n",
    "df_office = df_pa_synth.query(\"office_label == @office_label\")\n",
    "office_cell_function(df_office, office_name)"
   ]
  },
  {
   "cell_type": "markdown",
   "metadata": {},
   "source": [
    "### San Fernando"
   ]
  },
  {
   "cell_type": "code",
   "execution_count": null,
   "metadata": {
    "tags": [
     "remove-input"
    ]
   },
   "outputs": [],
   "source": [
    "office_name = 'San Fernando'\n",
    "office_label = 'hc-san-fernando'\n",
    "df_office = df_pa_synth.query(\"office_label == @office_label\")\n",
    "office_cell_function(df_office, office_name)"
   ]
  },
  {
   "cell_type": "markdown",
   "metadata": {},
   "source": [
    "### San Juan"
   ]
  },
  {
   "cell_type": "code",
   "execution_count": null,
   "metadata": {
    "tags": [
     "remove-input"
    ]
   },
   "outputs": [],
   "source": [
    "office_name = 'San Juan'\n",
    "office_label = 'hc-san-juan'\n",
    "df_office = df_pa_synth.query(\"office_label == @office_label\")\n",
    "office_cell_function(df_office, office_name)"
   ]
  },
  {
   "cell_type": "markdown",
   "metadata": {},
   "source": [
    "### Tintal"
   ]
  },
  {
   "cell_type": "code",
   "execution_count": null,
   "metadata": {
    "tags": [
     "remove-input"
    ]
   },
   "outputs": [],
   "source": [
    "office_name = 'Tintal'\n",
    "office_label = 'hc-tintal'\n",
    "df_office = df_pa_synth.query(\"office_label == @office_label\")\n",
    "office_cell_function(df_office, office_name)"
   ]
  }
 ],
 "metadata": {
  "kernelspec": {
   "display_name": "Python 3 (ipykernel)",
   "language": "python",
   "name": "python3"
  },
  "language_info": {
   "codemirror_mode": {
    "name": "ipython",
    "version": 3
   },
   "file_extension": ".py",
   "mimetype": "text/x-python",
   "name": "python",
   "nbconvert_exporter": "python",
   "pygments_lexer": "ipython3",
   "version": "3.9.12"
  },
  "vscode": {
   "interpreter": {
    "hash": "3e8543986d11a7095dd1a708864c19914edc7f3db3f09d9443f7bd38b5a3c994"
   }
  }
 },
 "nbformat": 4,
 "nbformat_minor": 4
}
