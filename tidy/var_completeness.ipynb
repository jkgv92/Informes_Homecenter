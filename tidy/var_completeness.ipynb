{
 "cells": [
  {
   "cell_type": "code",
   "execution_count": null,
   "metadata": {},
   "outputs": [],
   "source": []
  },
  {
   "cell_type": "code",
   "execution_count": null,
   "metadata": {},
   "outputs": [],
   "source": [
    "# data_counts = (\n",
    "#     df\n",
    "#     .groupby(['device_name','device','variable'])['value']\n",
    "#     .count()\n",
    "#     .reset_index()\n",
    "# )\n",
    "\n",
    "# variable_label_matrix = (\n",
    "#     data_counts\n",
    "#     .pivot(index='variable', columns='device_name', values='value')\n",
    "# )\n",
    "\n",
    "# df_energy = df.query(\"variable == 'energia-activa-importada'\")\n",
    "\n",
    "\n",
    "from matplotlib import pyplot as plt\n",
    "\n",
    "\n",
    "for device_name in set(df['device_name']):\n",
    "    df_dev = df.query(\"device_name == @device_name\")\n",
    "    device = df_dev['device'][0]\n",
    "    description = device_to_description[device]\n",
    "    for variable_name in set(df_dev['variable_name']):\n",
    "        df_dev_var = df_dev.query(\"variable_name == @variable_name\")\n",
    "\n",
    "        series = df_dev_var['value']\n",
    "\n",
    "        plt.figure(figsize=(21,7))\n",
    "        plt.plot(series)\n",
    "        plt.title(f\"{variable_name} - {description}\")\n",
    "        plt.show()"
   ]
  }
 ],
 "metadata": {
  "kernelspec": {
   "display_name": "Python 3.9.12 ('celsiaone_api')",
   "language": "python",
   "name": "python3"
  },
  "language_info": {
   "name": "python",
   "version": "3.9.12"
  },
  "orig_nbformat": 4,
  "vscode": {
   "interpreter": {
    "hash": "a29b1b0522a38d0918c36cb6b12003bbeb2a7e0af98b3c5691e89673da109ead"
   }
  }
 },
 "nbformat": 4,
 "nbformat_minor": 2
}
