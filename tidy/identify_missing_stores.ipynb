{
 "cells": [
  {
   "cell_type": "code",
   "execution_count": null,
   "metadata": {},
   "outputs": [],
   "source": [
    "# import all your modules here\n",
    "import json\n",
    "import pandas as pd\n",
    "import numpy as np\n",
    "import config as cfg\n",
    "\n",
    "from library_ubidots_v2 import Ubidots as ubi"
   ]
  },
  {
   "cell_type": "code",
   "execution_count": null,
   "metadata": {},
   "outputs": [],
   "source": [
    "df_store_to_device = pd.read_excel('ubidots_device_map.xlsx', sheet_name='store_label_to_device_label')\n",
    "dct_device_to_store = dict(zip(df_store_to_device['device_label'], df_store_to_device['store_label']))\n",
    "\n",
    "df_stores = ubi.get_devices_in_group('homecenter-sedes')\n",
    "df_stores = df_stores.rename(columns={'device_name':'store_name','label':'store_label','id':'store_id'})\n",
    "\n",
    "df_devices = ubi.get_devices_in_organization('homecenter')\n",
    "df_devices['store_label'] = df_devices['device_label'].map(dct_device_to_store)\n",
    "\n",
    "df_to_request = pd.merge(\n",
    "    df_stores,\n",
    "    df_devices,\n",
    "    how='inner'\n",
    ")\n",
    "\n",
    "set_stores = set(df_stores['store_name'])\n",
    "set_stores_in_org = set(df_to_request['store_name'])\n",
    "\n",
    "missing_stores = {store for store in set_stores if store not in set_stores_in_org}\n",
    "\n",
    "missing_stores = {\n",
    "    'HC - Barranquilla',\n",
    "    'HC - Bello',\n",
    "    'HC - San Juan',\n",
    "    'HC - Tintal'\n",
    "}"
   ]
  }
 ],
 "metadata": {
  "kernelspec": {
   "display_name": "Python 3.9.12 ('reporte_ubidots')",
   "language": "python",
   "name": "python3"
  },
  "language_info": {
   "name": "python",
   "version": "3.9.12"
  },
  "orig_nbformat": 4,
  "vscode": {
   "interpreter": {
    "hash": "3e8543986d11a7095dd1a708864c19914edc7f3db3f09d9443f7bd38b5a3c994"
   }
  }
 },
 "nbformat": 4,
 "nbformat_minor": 2
}
